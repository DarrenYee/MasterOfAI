{
 "cells": [
  {
   "cell_type": "markdown",
   "id": "7d3712cd",
   "metadata": {},
   "source": [
    "**FIT5217 Assignment 2: Neural Chef Assistance**  \n",
    "**Name: Darren Jer Shien Yee**  \n",
    "**Student ID: 31237223**"
   ]
  },
  {
   "cell_type": "markdown",
   "id": "448e2844",
   "metadata": {},
   "source": [
    "**Implementation of Baseline 1: RNN without Attention**"
   ]
  },
  {
   "cell_type": "code",
   "execution_count": 615,
   "id": "cd7c08dd",
   "metadata": {},
   "outputs": [
    {
     "name": "stdout",
     "output_type": "stream",
     "text": [
      "Requirement already satisfied: nltk in c:\\users\\manut\\anaconda3\\envs\\fit5217\\lib\\site-packages (3.8.1)\n",
      "Requirement already satisfied: click in c:\\users\\manut\\anaconda3\\envs\\fit5217\\lib\\site-packages (from nltk) (8.1.7)\n",
      "Requirement already satisfied: joblib in c:\\users\\manut\\anaconda3\\envs\\fit5217\\lib\\site-packages (from nltk) (1.4.0)\n",
      "Requirement already satisfied: regex>=2021.8.3 in c:\\users\\manut\\anaconda3\\envs\\fit5217\\lib\\site-packages (from nltk) (2024.5.10)\n",
      "Requirement already satisfied: tqdm in c:\\users\\manut\\anaconda3\\envs\\fit5217\\lib\\site-packages (from nltk) (4.66.4)\n",
      "Requirement already satisfied: colorama in c:\\users\\manut\\anaconda3\\envs\\fit5217\\lib\\site-packages (from click->nltk) (0.4.6)\n",
      "Requirement already satisfied: tensorboardX in c:\\users\\manut\\anaconda3\\envs\\fit5217\\lib\\site-packages (2.6.2.2)cuda\n",
      "\n",
      "Requirement already satisfied: numpy in c:\\users\\manut\\anaconda3\\envs\\fit5217\\lib\\site-packages (from tensorboardX) (1.26.3)\n",
      "Requirement already satisfied: packaging in c:\\users\\manut\\anaconda3\\envs\\fit5217\\lib\\site-packages (from tensorboardX) (23.2)\n",
      "Requirement already satisfied: protobuf>=3.20 in c:\\users\\manut\\anaconda3\\envs\\fit5217\\lib\\site-packages (from tensorboardX) (5.26.1)\n"
     ]
    }
   ],
   "source": [
    "## Requirements\n",
    "!pip3 install nltk\n",
    "!pip3 install tensorboardX\n",
    "from __future__ import unicode_literals, print_function, division\n",
    "from io import open\n",
    "import unicodedata\n",
    "import string\n",
    "import re\n",
    "import random\n",
    "\n",
    "import torch\n",
    "import torch.nn as nn\n",
    "from torch import optim\n",
    "import torch.nn.functional as F\n",
    "from torch.utils.data import Dataset, DataLoader\n",
    "from collections import Counter\n",
    "from nltk.tokenize import word_tokenize\n",
    "from tqdm import tqdm\n",
    "from tensorboardX import SummaryWriter\n",
    "import numpy as np\n",
    "import gensim.downloader as api\n",
    "device = torch.device(\"cuda\" if torch.cuda.is_available() else \"cpu\")\n",
    "print (device)"
   ]
  },
  {
   "cell_type": "markdown",
   "id": "1d788a9e-58f9-4882-b4b6-5bf045a8c55c",
   "metadata": {},
   "source": [
    "**Implementation of Baseline 1: Language Method imported from RNN code (Imported from Tutorial Code)**"
   ]
  },
  {
   "cell_type": "code",
   "execution_count": 616,
   "id": "66b0337d-7e9f-474f-bbd1-83b5c9b887c7",
   "metadata": {},
   "outputs": [],
   "source": [
    "SOS_token = 0\n",
    "EOS_token = 1\n",
    "class Lang:\n",
    "    def __init__(self, name):\n",
    "        self.name = name\n",
    "        self.word2index = {}\n",
    "        self.word2count = {}\n",
    "        self.index2word = {0: \"SOS\", 1: \"EOS\"}\n",
    "        self.n_words = 2 # Count SOS and EOS\n",
    "        self.unique_words = []\n",
    "\n",
    "    def addSentence(self, sentence):\n",
    "        for word in sentence.split(' '):\n",
    "            self.addWord(word)\n",
    "\n",
    "    def addWord(self, word):\n",
    "        if word not in self.word2index:\n",
    "            self.unique_words.append(word)\n",
    "            self.word2index[word] = self.n_words\n",
    "            self.word2count[word] = 1\n",
    "            self.index2word[self.n_words] = word\n",
    "            self.n_words += 1\n",
    "        else:\n",
    "            self.word2count[word] += 1"
   ]
  },
  {
   "cell_type": "markdown",
   "id": "21ef3c46-345e-4f6b-9fff-cff0800cd43c",
   "metadata": {},
   "source": [
    "**Implementation of Baseline 1: Unicode and ASCII method to preprocess data (Imported and Modified from Tutorial Code)**"
   ]
  },
  {
   "cell_type": "code",
   "execution_count": 617,
   "id": "d787a58e-58ae-48f3-956c-fc7f98282e88",
   "metadata": {},
   "outputs": [],
   "source": [
    "# Turn a Unicode string to plain ASCII, thanks to\n",
    "# https://stackoverflow.com/a/518232/2809427\n",
    "def unicodeToAscii(s):\n",
    "    return ''.join(\n",
    "        c for c in unicodedata.normalize('NFD', s)\n",
    "        if unicodedata.category(c) != 'Mn'\n",
    "    )\n",
    "# Lowercase only (since numerical is crucial here as opposed to lab code)\n",
    "def normalizeString(s):\n",
    "    s = unicodeToAscii(s.lower().strip())\n",
    "    s = s.replace('\\t', ' ')\n",
    "    return s"
   ]
  },
  {
   "cell_type": "markdown",
   "id": "edbeb7d6-145e-4024-842e-ebc28427ad01",
   "metadata": {},
   "source": [
    "**Implementation of Baseline 1: Method to read data from provided CSV (Imported and Modified from Tutorial Code)**"
   ]
  },
  {
   "cell_type": "code",
   "execution_count": 406,
   "id": "9ec3f0e9-c616-41d4-92d6-c0e3f6cac175",
   "metadata": {},
   "outputs": [],
   "source": [
    "import pandas as pd\n",
    "\n",
    "def readLangs(reverse=False):\n",
    "    # Read the CSV file\n",
    "    train_df = pd.read_csv('Cooking_Dataset/Cooking_Dataset/train.csv')\n",
    "    valid_df = pd.read_csv('Cooking_Dataset/Cooking_Dataset/dev.csv')\n",
    "    test_df = pd.read_csv('Cooking_Dataset/Cooking_Dataset/test.csv')\n",
    "    \n",
    "    train_df.fillna('', inplace=True)\n",
    "    valid_df.fillna('', inplace=True)\n",
    "    test_df.fillna('', inplace=True)\n",
    "    \n",
    "    train_ingredients = train_df['Ingredients']\n",
    "    train_recipes = train_df['Recipe']\n",
    "    valid_ingredients = valid_df['Ingredients']\n",
    "    valid_recipes = valid_df['Recipe']    \n",
    "    test_ingredients = test_df['Ingredients']\n",
    "    test_recipes = test_df['Recipe']\n",
    "    \n",
    "    train_pairs = [[normalizeString(ing), normalizeString(rec)] for ing, rec in zip(train_ingredients, train_recipes)]\n",
    "    valid_pairs = [[normalizeString(ing), normalizeString(rec)] for ing, rec in zip(valid_ingredients, valid_recipes)]\n",
    "    test_pairs = [[normalizeString(ing), normalizeString(rec)] for ing, rec in zip(test_ingredients, test_recipes)]\n",
    "    \n",
    "    if reverse:\n",
    "        pairs = [list(reversed(p)) for p in pairs]\n",
    "        input_lang = Lang('Recipe')\n",
    "        output_lang = Lang('Ingredients')\n",
    "    else:\n",
    "        input_lang = Lang('Ingredients')\n",
    "        output_lang = Lang('Recipe')\n",
    "    return input_lang, output_lang, train_pairs, valid_pairs, test_pairs"
   ]
  },
  {
   "cell_type": "markdown",
   "id": "f372752f-bdba-432c-9fa7-5fd32712487a",
   "metadata": {},
   "source": [
    "**Implementation of Baseline 1: Preprocess data and intialise language using the methods above (Imported and Modified from Tutorial Code)**"
   ]
  },
  {
   "cell_type": "code",
   "execution_count": 618,
   "id": "d9361e8d-dbe8-4087-a8b1-fc70d2c3b1b7",
   "metadata": {},
   "outputs": [],
   "source": [
    "MAX_LENGTH = 150\n",
    "# Filters Pairs that do not fit the max_length restriction\n",
    "def filterPair(p):\n",
    "    return len(p[0].split(' ')) < MAX_LENGTH and \\\n",
    "        len(p[1].split(' ')) < MAX_LENGTH\n",
    "    \n",
    "# Applies filterPairs to all pairs\n",
    "def filterPairs(pairs):\n",
    "    return [pair for pair in pairs if filterPair(pair)]\n",
    "\n",
    "# Metric Calculation\n",
    "def length_metric (pairs):\n",
    "    ing_len = []\n",
    "    rec_len = []\n",
    "    for pair in pairs:\n",
    "        ing_len.append(len(pair[0].split(' ')))\n",
    "        rec_len.append(len(pair[1].split(' ')))\n",
    "    mean_ing_len = round(np.mean(ing_len), 2)\n",
    "    mean_rec_len = round(np.mean(rec_len), 2)\n",
    "    max_ing_len = np.max(ing_len)\n",
    "    max_rec_len = np.max(rec_len)\n",
    "    min_ing_len = np.min(ing_len)\n",
    "    min_rec_len = np.min(rec_len)\n",
    "    output_string = \"Mean ingredient length: {}\\n\".format(mean_ing_len)\n",
    "    output_string += \"Mean recipe length: {}\\n\".format(mean_rec_len)\n",
    "    output_string += \"Maximum ingredient length: {}\\n\".format(max_ing_len)\n",
    "    output_string += \"Maximum recipe length: {}\\n\".format(max_rec_len)\n",
    "    output_string += \"Minimum ingredient length: {}\\n\".format(min_ing_len)\n",
    "    output_string += \"Minimum recipe length: {}\\n\".format(min_rec_len)\n",
    "    return output_string\n",
    "    \n",
    "# Filter pairs method for testing data which saves the test_idx for csv insertion\n",
    "def filterPairs_test(pairs):\n",
    "    filtered_pairs = []\n",
    "    saved_indices = []\n",
    "    for i, pair in enumerate(pairs):\n",
    "        if filterPair(pair):\n",
    "            filtered_pairs.append(pair)\n",
    "            saved_indices.append(i)\n",
    "    return filtered_pairs, saved_indices"
   ]
  },
  {
   "cell_type": "code",
   "execution_count": 408,
   "id": "add1f86a-2221-4fcd-a3ce-9181f68d197e",
   "metadata": {},
   "outputs": [
    {
     "name": "stdout",
     "output_type": "stream",
     "text": [
      "Read train pairs: 101340 ,test pairs: 778 ,dev pairs: 797\n",
      "________________Train_Data_Metric________________\n",
      "Trimmed to 79894 train pairs\n",
      "Mean ingredient length: 45.98\n",
      "Mean recipe length: 76.57\n",
      "Maximum ingredient length: 149\n",
      "Maximum recipe length: 149\n",
      "Minimum ingredient length: 1\n",
      "Minimum recipe length: 1\n",
      "\n",
      "________________Test_Data_Metric________________\n",
      "Trimmed to 629 test pairs\n",
      "Mean ingredient length: 44.15\n",
      "Mean recipe length: 76.0\n",
      "Maximum ingredient length: 145\n",
      "Maximum recipe length: 149\n",
      "Minimum ingredient length: 1\n",
      "Minimum recipe length: 3\n",
      "\n",
      "________________Dev_Data_Metric________________\n",
      "Trimmed to 644 dev pairs\n",
      "Mean ingredient length: 44.24\n",
      "Mean recipe length: 76.62\n",
      "Maximum ingredient length: 149\n",
      "Maximum recipe length: 149\n",
      "Minimum ingredient length: 2\n",
      "Minimum recipe length: 3\n",
      "\n",
      "Counting words...\n",
      "Counted words:\n",
      "Ingredients 37056\n",
      "Recipe 35620\n",
      "['2 c  ketchup 1/2 c  worcestershire sauce 2    cloves garlic cloves -- 1/2 c  vinegar minced 1/4 c  soy sauce 2/3 c  chopped onion 1/4 c  packed brown sugar 1/2 c  lemon juice 2 tb mustard -- prepared 1/2 c  water', 'combine all of the ingredients in a 3 qt . saucepan ; bring to a boil over medium heat . reduce heat and simmer , uncovered for 30 min . strain if desired . cover and refrigerate . about 3 cups .']\n"
     ]
    }
   ],
   "source": [
    "def prepareData(lang1, lang2, reverse=False):\n",
    "    input_lang, output_lang, train_pairs, valid_pairs, test_pairs = readLangs(reverse)\n",
    "    print(\"Read train pairs: %s\" % len(train_pairs),\",test pairs: %s\" % len(test_pairs),\",dev pairs: %s\" % len(valid_pairs))\n",
    "    train_pairs = filterPairs(train_pairs)\n",
    "    valid_pairs = filterPairs(valid_pairs)\n",
    "    test_pairs, test_indices = filterPairs_test(test_pairs)\n",
    "    print (\"________________Train_Data_Metric________________\")\n",
    "    print(\"Trimmed to %s train pairs\" % len(train_pairs))\n",
    "    print (length_metric(train_pairs))\n",
    "    print (\"________________Test_Data_Metric________________\")\n",
    "    print(\"Trimmed to %s test pairs\" % len(test_pairs))\n",
    "    print (length_metric(test_pairs))\n",
    "    print (\"________________Dev_Data_Metric________________\")\n",
    "    print(\"Trimmed to %s dev pairs\" % len(valid_pairs))\n",
    "    print (length_metric(valid_pairs))\n",
    "    print(\"Counting words...\")\n",
    "    for pair in train_pairs:\n",
    "        input_lang.addSentence(pair[0])\n",
    "        output_lang.addSentence(pair[1])\n",
    "    for pair in valid_pairs:\n",
    "        input_lang.addSentence(pair[0])\n",
    "        output_lang.addSentence(pair[1])\n",
    "    for pair in test_pairs:\n",
    "        input_lang.addSentence(pair[0])\n",
    "        output_lang.addSentence(pair[1])\n",
    "    print(\"Counted words:\")\n",
    "    print(input_lang.name, input_lang.n_words)\n",
    "    print(output_lang.name, output_lang.n_words)\n",
    "    return input_lang, output_lang, train_pairs, valid_pairs, test_pairs, test_indices\n",
    "\n",
    "input_lang, output_lang, train_pairs, valid_pairs, test_pairs ,test_indices= prepareData('ingredients', 'recipe', False)\n",
    "print(random.choice(train_pairs))"
   ]
  },
  {
   "cell_type": "markdown",
   "id": "23fa22b6-5890-459f-a0de-eca4d17645d0",
   "metadata": {},
   "source": [
    "**Implementation of Baseline 1: Encoder RNN for seq2seq model without attention (Imported from Tutorial Code)**"
   ]
  },
  {
   "cell_type": "code",
   "execution_count": 409,
   "id": "bad39fb3",
   "metadata": {},
   "outputs": [],
   "source": [
    "class EncoderRNN(nn.Module):\n",
    "    def __init__(self, input_size, hidden_size):\n",
    "        super(EncoderRNN, self).__init__()\n",
    "        self.hidden_size = hidden_size\n",
    "\n",
    "        self.embedding = nn.Embedding(input_size, hidden_size)\n",
    "        self.gru = nn.GRU(hidden_size, hidden_size)\n",
    "\n",
    "    def forward(self, input, hidden):\n",
    "        embedded = self.embedding(input).view(1, 1, -1)\n",
    "        output = embedded\n",
    "        output, hidden = self.gru(output, hidden)\n",
    "        return output, hidden\n",
    "\n",
    "    def initHidden(self):\n",
    "        return torch.zeros(1, 1, self.hidden_size, device=device)"
   ]
  },
  {
   "cell_type": "markdown",
   "id": "170834eb-3f3b-466c-9fd2-76f05695b79a",
   "metadata": {},
   "source": [
    "**Implementation of Baseline 1: Decoder RNN for seq2seq model without attention (Imported from Tutorial Code)**"
   ]
  },
  {
   "cell_type": "code",
   "execution_count": 410,
   "id": "b2c193b8",
   "metadata": {},
   "outputs": [],
   "source": [
    "class DecoderRNN(nn.Module):\n",
    "    def __init__(self, hidden_size, output_size):\n",
    "        super(DecoderRNN, self).__init__()\n",
    "        self.hidden_size = hidden_size\n",
    "\n",
    "        self.embedding = nn.Embedding(output_size, hidden_size)\n",
    "        self.gru = nn.GRU(hidden_size, hidden_size)\n",
    "        self.out = nn.Linear(hidden_size, output_size)\n",
    "        self.softmax = nn.LogSoftmax(dim=1)\n",
    "\n",
    "    def forward(self, input, hidden):\n",
    "        output = self.embedding(input).view(1, 1, -1)\n",
    "        output = F.relu(output)\n",
    "        output, hidden = self.gru(output, hidden)\n",
    "        output = self.softmax(self.out(output[0]))\n",
    "        return output, hidden\n",
    "\n",
    "    def initHidden(self):\n",
    "        return torch.zeros(1, 1, self.hidden_size, device=device)\n"
   ]
  },
  {
   "cell_type": "markdown",
   "id": "90864fb4-1563-4b30-9e67-d3da22fe4ad2",
   "metadata": {},
   "source": [
    "**Implementation of Baseline 1: Processing methods for train iter (Imported from Tutorial Code)**"
   ]
  },
  {
   "cell_type": "code",
   "execution_count": 411,
   "id": "1296ff05",
   "metadata": {},
   "outputs": [],
   "source": [
    "def indexesFromSentence(lang, sentence):\n",
    "    return [lang.word2index[word] for word in sentence.split(' ')]\n",
    "\n",
    "\n",
    "def tensorFromSentence(lang, sentence):\n",
    "    indexes = indexesFromSentence(lang, sentence)\n",
    "    indexes.append(EOS_token)\n",
    "    return torch.tensor(indexes, dtype=torch.long, device=device).view(-1, 1)\n",
    "\n",
    "\n",
    "def tensorsFromPair(pair):\n",
    "    input_tensor = tensorFromSentence(input_lang, pair[0])\n",
    "    target_tensor = tensorFromSentence(output_lang, pair[1])\n",
    "    return (input_tensor, target_tensor)"
   ]
  },
  {
   "cell_type": "markdown",
   "id": "504668e0-5099-4670-b2b8-3688377eee99",
   "metadata": {},
   "source": [
    "**Implementation of Baseline 1: Train method for seq2seq model without attention (Imported from Tutorial Code)**"
   ]
  },
  {
   "cell_type": "code",
   "execution_count": 620,
   "id": "93e74aa1-b285-459a-ae49-fb99cfd3d578",
   "metadata": {},
   "outputs": [],
   "source": [
    "# Set Teacher Forcing to 1\n",
    "teacher_forcing_ratio = 1\n",
    "def train(input_tensor, target_tensor, encoder, decoder, encoder_optimizer, decoder_optimizer, criterion, max_length=MAX_LENGTH):\n",
    "    encoder_hidden = encoder.initHidden()\n",
    "\n",
    "    encoder_optimizer.zero_grad()\n",
    "    decoder_optimizer.zero_grad()\n",
    "\n",
    "    input_length = input_tensor.size(0)\n",
    "    target_length = target_tensor.size(0)\n",
    "\n",
    "    encoder_outputs = torch.zeros(max_length, encoder.hidden_size, device=device)\n",
    "\n",
    "    loss = 0\n",
    "\n",
    "    for ei in range(input_length):\n",
    "        encoder_output, encoder_hidden = encoder(\n",
    "            input_tensor[ei], encoder_hidden)\n",
    "        encoder_outputs[ei] = encoder_output[0, 0]\n",
    "\n",
    "    decoder_input = torch.tensor([[SOS_token]], device=device)\n",
    "\n",
    "    decoder_hidden = encoder_hidden\n",
    "\n",
    "    use_teacher_forcing = True if random.random() < teacher_forcing_ratio else False\n",
    "\n",
    "    if use_teacher_forcing:\n",
    "        # Teacher forcing: Feed the target as the next input\n",
    "        for di in range(target_length):\n",
    "            decoder_output, decoder_hidden = decoder(\n",
    "                decoder_input, decoder_hidden)\n",
    "            loss += criterion(decoder_output, target_tensor[di])\n",
    "            decoder_input = target_tensor[di]  # Teacher forcing\n",
    "\n",
    "    else:\n",
    "        # Without teacher forcing: use its own predictions as the next input\n",
    "        for di in range(target_length):\n",
    "            decoder_output, decoder_hidden = decoder(\n",
    "                decoder_input, decoder_hidden)\n",
    "            topv, topi = decoder_output.topk(1)\n",
    "            decoder_input = topi.squeeze().detach()  # detach from history as input\n",
    "\n",
    "            loss += criterion(decoder_output, target_tensor[di])\n",
    "            if decoder_input.item() == EOS_token:\n",
    "                break\n",
    "\n",
    "    loss.backward()\n",
    "\n",
    "    encoder_optimizer.step()\n",
    "    decoder_optimizer.step()\n",
    "\n",
    "    return loss.item() / target_length\n"
   ]
  },
  {
   "cell_type": "markdown",
   "id": "b33e4c33-3c84-453b-a384-caf77b580582",
   "metadata": {},
   "source": [
    "**Implementation of Baseline 1: Validation method for seq2seq model without attention**"
   ]
  },
  {
   "cell_type": "code",
   "execution_count": 413,
   "id": "a4d24171-4687-48c5-be89-08cf770315be",
   "metadata": {},
   "outputs": [],
   "source": [
    "def valid(input_tensor, target_tensor, encoder, decoder, criterion, max_length=MAX_LENGTH):\n",
    "    encoder_hidden = encoder.initHidden()\n",
    "    input_length = input_tensor.size(0)\n",
    "    target_length = target_tensor.size(0)\n",
    "\n",
    "    encoder_outputs = torch.zeros(max_length, encoder.hidden_size, device=device)\n",
    "\n",
    "    loss = 0\n",
    "\n",
    "    for ei in range(input_length):\n",
    "        encoder_output, encoder_hidden = encoder(\n",
    "            input_tensor[ei], encoder_hidden)\n",
    "        encoder_outputs[ei] = encoder_output[0, 0]\n",
    "\n",
    "    decoder_input = torch.tensor([[SOS_token]], device=device)\n",
    "\n",
    "    decoder_hidden = encoder_hidden\n",
    "    for di in range(target_length):\n",
    "        decoder_output, decoder_hidden = decoder(\n",
    "            decoder_input, decoder_hidden)\n",
    "        topv, topi = decoder_output.topk(1)\n",
    "        decoder_input = topi.squeeze().detach()  # detach from history as input\n",
    "\n",
    "        loss += criterion(decoder_output, target_tensor[di])\n",
    "        if decoder_input.item() == EOS_token:\n",
    "            break\n",
    "\n",
    "    return loss.item() / target_length\n"
   ]
  },
  {
   "cell_type": "markdown",
   "id": "76e73517-c02f-44d4-a0e5-e45f6c0a3be3",
   "metadata": {},
   "source": [
    "**Implementation of Baseline 1: Time method for train iter method (Imported from Tutorial Code)** "
   ]
  },
  {
   "cell_type": "code",
   "execution_count": 414,
   "id": "30717ca1-4e2b-4a59-bd84-5eb1e68ad82c",
   "metadata": {},
   "outputs": [],
   "source": [
    "import time\n",
    "import math\n",
    "\n",
    "\n",
    "def asMinutes(s):\n",
    "    m = math.floor(s / 60)\n",
    "    s -= m * 60\n",
    "    return '%dm %ds' % (m, s)\n",
    "\n",
    "\n",
    "def timeSince(since, percent):\n",
    "    now = time.time()\n",
    "    s = now - since\n",
    "    es = s / (percent)\n",
    "    rs = es - s\n",
    "    return '%s (- %s)' % (asMinutes(s), asMinutes(rs))"
   ]
  },
  {
   "cell_type": "markdown",
   "id": "e33c1ccc-4c8a-4e72-b752-f0a12edf9cb0",
   "metadata": {},
   "source": [
    "**Implementation of Baseline 1: Train iter method (Imported and modified from Tutorial Code)**"
   ]
  },
  {
   "cell_type": "code",
   "execution_count": 621,
   "id": "2c8c7ce3-911c-49f9-be91-524a542e7909",
   "metadata": {},
   "outputs": [],
   "source": [
    "def trainIters(encoder, decoder, n_iters,train_pairs,valid_pairs, print_every=1000, plot_every=100, learning_rate=0.001):\n",
    "    start = time.time()\n",
    "    plot_train_losses = []\n",
    "    plot_valid_losses = []\n",
    "    print_train_loss_total = 0  # Reset every print_every\n",
    "    plot_train_loss_total = 0  # Reset every plot_every\n",
    "    print_valid_loss_total = 0  # Reset every print_every\n",
    "    plot_valid_loss_total = 0  # Reset every plot_every\n",
    "\n",
    "    # Using Adam instead of SGD as instructed\n",
    "    encoder_optimizer = optim.Adam(encoder.parameters(), lr=learning_rate)\n",
    "    decoder_optimizer = optim.Adam(decoder.parameters(), lr=learning_rate)\n",
    "    training_pairs = [tensorsFromPair(random.choice(train_pairs))\n",
    "                      for i in range(n_iters)]\n",
    "    valid_pairs = [tensorsFromPair(random.choice(valid_pairs))\n",
    "                      for i in range(n_iters)]\n",
    "    criterion = nn.NLLLoss()\n",
    "\n",
    "    for iter in range(1, n_iters + 1):\n",
    "        # Extract Train and Valid Pairs and calculate loss using methods above\n",
    "        training_pair = training_pairs[iter - 1]\n",
    "        training_input_tensor = training_pair[0]\n",
    "        training_target_tensor = training_pair[1]\n",
    "\n",
    "        valid_pair = valid_pairs[iter - 1]\n",
    "        valid_input_tensor = valid_pair[0]\n",
    "        valid_target_tensor = valid_pair[1]\n",
    "\n",
    "        train_loss = train(training_input_tensor, training_target_tensor, encoder,\n",
    "                     decoder, encoder_optimizer, decoder_optimizer, criterion)\n",
    "        print_train_loss_total += train_loss\n",
    "        plot_train_loss_total += train_loss\n",
    "        \n",
    "        valid_loss = valid(valid_input_tensor, valid_target_tensor, encoder,\n",
    "             decoder, criterion)\n",
    "        print_valid_loss_total += valid_loss\n",
    "        plot_valid_loss_total += valid_loss\n",
    "\n",
    "        # Save data points for plot / print losses between iterations\n",
    "        if iter % print_every == 0:\n",
    "            print_train_loss_avg = print_train_loss_total / print_every\n",
    "            print_train_loss_total = 0\n",
    "            print_valid_loss_avg = print_valid_loss_total / print_every\n",
    "            print_valid_loss_total = 0\n",
    "            print('%s (%d %d%%) Train Loss: %.4f | Validation Loss: %.4f' % (timeSince(start, iter / n_iters),\n",
    "                                                                             iter, iter / n_iters * 100,\n",
    "                                                                             print_train_loss_avg, print_valid_loss_avg))\n",
    "        if iter % plot_every == 0:\n",
    "            plot_train_loss_avg = plot_train_loss_total / plot_every\n",
    "            plot_train_losses.append(plot_train_loss_avg)\n",
    "            plot_train_loss_total = 0\n",
    "            \n",
    "            plot_valid_loss_avg = plot_valid_loss_total / plot_every\n",
    "            plot_valid_losses.append(plot_valid_loss_avg)\n",
    "            plot_valid_loss_total = 0\n",
    "    return plot_train_losses,plot_valid_losses\n"
   ]
  },
  {
   "cell_type": "markdown",
   "id": "e60b9c14-0d88-4401-84f6-3641172bab96",
   "metadata": {},
   "source": [
    "**Implementation of Baseline 1: Evaluation methods to check performance of baseline 1 (Imported from Tutorial Code)**"
   ]
  },
  {
   "cell_type": "code",
   "execution_count": 416,
   "id": "05211516-e976-47d1-b914-449d0d3fb4ec",
   "metadata": {},
   "outputs": [],
   "source": [
    "def evaluate(encoder, decoder, sentence, max_length=MAX_LENGTH):\n",
    "    with torch.no_grad():\n",
    "        input_tensor = tensorFromSentence(input_lang, sentence)\n",
    "        input_length = input_tensor.size()[0]\n",
    "        encoder_hidden = encoder.initHidden()\n",
    "\n",
    "        encoder_outputs = torch.zeros(max_length, encoder.hidden_size, device=device)\n",
    "\n",
    "        for ei in range(input_length):\n",
    "            encoder_output, encoder_hidden = encoder(input_tensor[ei],\n",
    "                                                     encoder_hidden)\n",
    "            encoder_outputs[ei] += encoder_output[0, 0]\n",
    "\n",
    "        decoder_input = torch.tensor([[SOS_token]], device=device)  # SOS\n",
    "\n",
    "        decoder_hidden = encoder_hidden\n",
    "\n",
    "        decoded_words = []\n",
    "        decoder_attentions = torch.zeros(max_length, max_length)\n",
    "\n",
    "        for di in range(max_length):\n",
    "            decoder_output, decoder_hidden = decoder(\n",
    "                decoder_input, decoder_hidden)\n",
    "            topv, topi = decoder_output.data.topk(1)\n",
    "            if topi.item() == EOS_token:\n",
    "                decoded_words.append('<EOS>')\n",
    "                break\n",
    "            else:\n",
    "                decoded_words.append(output_lang.index2word[topi.item()])\n",
    "\n",
    "            decoder_input = topi.squeeze().detach()\n",
    "\n",
    "        return decoded_words"
   ]
  },
  {
   "cell_type": "code",
   "execution_count": 417,
   "id": "d6fbea66-faee-4cb0-b11a-bb5312664000",
   "metadata": {},
   "outputs": [],
   "source": [
    "def evaluateRandomly(encoder, decoder, n=10):\n",
    "    for i in range(n):\n",
    "        pair = random.choice(train_pairs)\n",
    "        print('>', pair[0])\n",
    "        print('=', pair[1])\n",
    "        output_words= evaluate(encoder, decoder, pair[0])\n",
    "        output_sentence = ' '.join(output_words)\n",
    "        print('<', output_sentence)\n",
    "        print('')"
   ]
  },
  {
   "cell_type": "markdown",
   "id": "92fdb0fe-aac9-48f4-b1fb-2e500d5b9c73",
   "metadata": {},
   "source": [
    "**Implementation of Baseline 1: Creating instance of baseline 1 and training (Hidden Size = 256, Teacher Forcing = 1, N_Iter = 10000, MAX_LENGTH = 150**"
   ]
  },
  {
   "cell_type": "code",
   "execution_count": 418,
   "id": "69d95a1d-094a-44e8-a874-246e81ff79d8",
   "metadata": {},
   "outputs": [
    {
     "name": "stdout",
     "output_type": "stream",
     "text": [
      "3m 24s (- 30m 44s) (1000 10%) Train Loss: 5.2224 | Validation Loss: 5.4974\n",
      "6m 58s (- 27m 52s) (2000 20%) Train Loss: 4.2244 | Validation Loss: 7.4348\n",
      "10m 22s (- 24m 12s) (3000 30%) Train Loss: 4.0044 | Validation Loss: 7.2395\n",
      "13m 47s (- 20m 41s) (4000 40%) Train Loss: 3.8252 | Validation Loss: 6.6394\n",
      "17m 16s (- 17m 16s) (5000 50%) Train Loss: 3.6986 | Validation Loss: 7.3387\n",
      "20m 44s (- 13m 49s) (6000 60%) Train Loss: 3.6498 | Validation Loss: 7.2527\n",
      "24m 5s (- 10m 19s) (7000 70%) Train Loss: 3.6240 | Validation Loss: 6.4726\n",
      "27m 25s (- 6m 51s) (8000 80%) Train Loss: 3.5497 | Validation Loss: 6.7959\n",
      "30m 47s (- 3m 25s) (9000 90%) Train Loss: 3.4815 | Validation Loss: 6.5469\n",
      "34m 21s (- 0m 0s) (10000 100%) Train Loss: 3.4599 | Validation Loss: 6.5811\n"
     ]
    }
   ],
   "source": [
    "hidden_size = 256\n",
    "n_iter = 10000\n",
    "plot_every = 100\n",
    "print_every = 1000\n",
    "baseline1_encoder = EncoderRNN(input_lang.n_words, hidden_size).to(device)\n",
    "baseline1_decoder = DecoderRNN(hidden_size, output_lang.n_words).to(device)\n",
    "baseline1_plot_train_losses,baseline1_plot_valid_losses = trainIters(baseline1_encoder, baseline1_decoder, n_iter ,train_pairs,valid_pairs, print_every = print_every,plot_every=plot_every)"
   ]
  },
  {
   "cell_type": "markdown",
   "id": "94c35846-ac86-452b-9b8c-54f465a1f9ba",
   "metadata": {},
   "source": [
    "**Implementation of Baseline 2: RNN with Attention (Imported from Tutorial Code)**"
   ]
  },
  {
   "cell_type": "code",
   "execution_count": 419,
   "id": "814880f7-ef67-460c-980c-09b6745faa9c",
   "metadata": {},
   "outputs": [],
   "source": [
    "class AttnDecoderRNN(nn.Module):\n",
    "    def __init__(self, hidden_size, output_size, dropout_p=0.1, max_length=MAX_LENGTH):\n",
    "        super(AttnDecoderRNN, self).__init__()\n",
    "        self.hidden_size = hidden_size\n",
    "        self.output_size = output_size\n",
    "        self.dropout_p = dropout_p\n",
    "        self.max_length = max_length\n",
    "\n",
    "        self.embedding = nn.Embedding(self.output_size, self.hidden_size)\n",
    "        self.dropout = nn.Dropout(self.dropout_p)\n",
    "        self.gru = nn.GRU(self.hidden_size, self.hidden_size)\n",
    "        self.out = nn.Linear(self.hidden_size*2, self.output_size)\n",
    "\n",
    "    def forward(self, input, hidden, encoder_outputs):\n",
    "        embedded = self.embedding(input).view(1, 1, -1)\n",
    "        embedded = self.dropout(embedded)\n",
    "\n",
    "        _, hidden = self.gru(embedded, hidden)\n",
    "\n",
    "        attn_weights = F.softmax(torch.bmm(hidden, encoder_outputs.T.unsqueeze(0)),dim=-1)\n",
    "        attn_output = torch.bmm(attn_weights, encoder_outputs.unsqueeze(0))\n",
    "\n",
    "        concat_output = torch.cat((attn_output[0], hidden[0]), 1)\n",
    "\n",
    "        output = F.log_softmax(self.out(concat_output), dim=1)\n",
    "\n",
    "        return output, hidden, attn_weights\n",
    "\n",
    "    def initHidden(self):\n",
    "        return torch.zeros(1, 1, self.hidden_size, device=device)\n"
   ]
  },
  {
   "cell_type": "markdown",
   "id": "75f95b7f-3c49-4a84-ade1-3242c219489f",
   "metadata": {},
   "source": [
    "**Implementation of Baseline 2: Train method for RNN with attention (Imported from Tutorial Code)**"
   ]
  },
  {
   "cell_type": "code",
   "execution_count": 622,
   "id": "c7f5d38e-94a3-47d4-b987-b9769d95ce04",
   "metadata": {},
   "outputs": [],
   "source": [
    "# Set Teacher Forcing to 1 as required\n",
    "teacher_forcing_ratio = 1.0\n",
    "def train_attn(input_tensor, target_tensor, encoder, decoder, encoder_optimizer, decoder_optimizer, criterion, max_length=MAX_LENGTH):\n",
    "    encoder_hidden = encoder.initHidden()\n",
    "\n",
    "    encoder_optimizer.zero_grad()\n",
    "    decoder_optimizer.zero_grad()\n",
    "\n",
    "    input_length = input_tensor.size(0)\n",
    "    target_length = target_tensor.size(0)\n",
    "\n",
    "    encoder_outputs = torch.zeros(max_length, encoder.hidden_size, device=device)\n",
    "\n",
    "    loss = 0\n",
    "\n",
    "    for ei in range(input_length):\n",
    "        encoder_output, encoder_hidden = encoder(\n",
    "            input_tensor[ei], encoder_hidden)\n",
    "        encoder_outputs[ei] = encoder_output[0, 0]\n",
    "\n",
    "    decoder_input = torch.tensor([[SOS_token]], device=device)\n",
    "\n",
    "    decoder_hidden = encoder_hidden\n",
    "\n",
    "    use_teacher_forcing = True if random.random() < teacher_forcing_ratio else False\n",
    "\n",
    "    if use_teacher_forcing:\n",
    "        # Teacher forcing: Feed the target as the next input\n",
    "        for di in range(target_length):\n",
    "            decoder_output, decoder_hidden, decoder_attention = decoder(\n",
    "                decoder_input, decoder_hidden, encoder_outputs)\n",
    "            loss += criterion(decoder_output, target_tensor[di])\n",
    "            decoder_input = target_tensor[di]  # Teacher forcing\n",
    "\n",
    "    else:\n",
    "        # Without teacher forcing: use its own predictions as the next input\n",
    "        for di in range(target_length):\n",
    "            decoder_output, decoder_hidden, decoder_attention = decoder(\n",
    "                decoder_input, decoder_hidden, encoder_outputs)\n",
    "            topv, topi = decoder_output.topk(1)\n",
    "            decoder_input = topi.squeeze().detach()  # detach from history as input\n",
    "\n",
    "            loss += criterion(decoder_output, target_tensor[di])\n",
    "            if decoder_input.item() == EOS_token:\n",
    "                break\n",
    "\n",
    "    loss.backward()\n",
    "\n",
    "    encoder_optimizer.step()\n",
    "    decoder_optimizer.step()\n",
    "\n",
    "    return loss.item() / target_length\n"
   ]
  },
  {
   "cell_type": "markdown",
   "id": "a482b7b4-ec99-4b2e-9b91-488ebd1d6dc1",
   "metadata": {},
   "source": [
    "**Implementation of Baseline 2: Validation method**"
   ]
  },
  {
   "cell_type": "code",
   "execution_count": 421,
   "id": "5fabffd3-ee3e-4ffd-b360-9b7b1e0fcdf3",
   "metadata": {},
   "outputs": [],
   "source": [
    "def valid_attn(input_tensor, target_tensor, encoder, decoder, criterion, max_length=MAX_LENGTH):\n",
    "    encoder_hidden = encoder.initHidden()\n",
    "\n",
    "    input_length = input_tensor.size(0)\n",
    "    target_length = target_tensor.size(0)\n",
    "\n",
    "    encoder_outputs = torch.zeros(max_length, encoder.hidden_size, device=device)\n",
    "\n",
    "    loss = 0\n",
    "\n",
    "    for ei in range(input_length):\n",
    "        encoder_output, encoder_hidden = encoder(\n",
    "            input_tensor[ei], encoder_hidden)\n",
    "        encoder_outputs[ei] = encoder_output[0, 0]\n",
    "    decoder_input = torch.tensor([[SOS_token]], device=device)\n",
    "    decoder_hidden = encoder_hidden\n",
    "    for di in range(target_length):\n",
    "        decoder_output, decoder_hidden, decoder_attention = decoder(\n",
    "            decoder_input, decoder_hidden, encoder_outputs)\n",
    "        topv, topi = decoder_output.topk(1)\n",
    "        decoder_input = topi.squeeze().detach()  # detach from history as input\n",
    "\n",
    "        loss += criterion(decoder_output, target_tensor[di])\n",
    "        if decoder_input.item() == EOS_token:\n",
    "            break\n",
    "\n",
    "    return loss.item() / target_length\n"
   ]
  },
  {
   "cell_type": "markdown",
   "id": "b486009e-c90f-401d-ab3e-0423519d0b10",
   "metadata": {},
   "source": [
    "**Implementation of Baseline 2: Train iter method for RNN with attention (Imported from Tutorial Code)**"
   ]
  },
  {
   "cell_type": "code",
   "execution_count": 623,
   "id": "e4ac4ebb-e010-4984-97d3-5b223b228062",
   "metadata": {},
   "outputs": [],
   "source": [
    "# Same comments as trainIters for baseline 1, the only difference is that it calls the attention variation of train and test instead\n",
    "def trainIters_attn(encoder, decoder, n_iters,print_every=1000, plot_every=100, learning_rate=0.001):\n",
    "    start = time.time()\n",
    "    plot_train_losses = []\n",
    "    plot_valid_losses = []\n",
    "    print_train_loss_total = 0  # Reset every print_every\n",
    "    plot_train_loss_total = 0  # Reset every plot_every\n",
    "    print_valid_loss_total = 0  # Reset every print_every\n",
    "    plot_valid_loss_total = 0  # Reset every plot_every\n",
    "\n",
    "    encoder_optimizer = optim.Adam(encoder.parameters(), lr=learning_rate)\n",
    "    decoder_optimizer = optim.Adam(decoder.parameters(), lr=learning_rate)\n",
    "    training_pairs = [tensorsFromPair(random.choice(train_pairs))\n",
    "                      for i in range(n_iters)]\n",
    "    validation_pairs = [tensorsFromPair(random.choice(valid_pairs))\n",
    "                      for i in range(n_iters)]\n",
    "    criterion = nn.NLLLoss()\n",
    "\n",
    "    for iter in range(1, n_iters + 1):\n",
    "        training_pair = training_pairs[iter - 1]\n",
    "        training_input_tensor = training_pair[0]\n",
    "        training_target_tensor = training_pair[1]\n",
    "\n",
    "        valid_pair = validation_pairs[iter - 1]\n",
    "        valid_input_tensor = valid_pair[0]\n",
    "        valid_target_tensor = valid_pair[1]\n",
    "\n",
    "        train_loss = train_attn(training_input_tensor, training_target_tensor, encoder,\n",
    "                     decoder, encoder_optimizer, decoder_optimizer, criterion)\n",
    "        print_train_loss_total += train_loss\n",
    "        plot_train_loss_total += train_loss\n",
    "        \n",
    "        valid_loss = valid_attn(valid_input_tensor, valid_target_tensor, encoder,\n",
    "             decoder, criterion)\n",
    "        print_valid_loss_total += valid_loss\n",
    "        plot_valid_loss_total += valid_loss\n",
    "\n",
    "        if iter % print_every == 0:\n",
    "            print_train_loss_avg = print_train_loss_total / print_every\n",
    "            print_train_loss_total = 0\n",
    "            print_valid_loss_avg = print_valid_loss_total / print_every\n",
    "            print_valid_loss_total = 0\n",
    "            print('%s (%d %d%%) Train Loss: %.4f | Validation Loss: %.4f' % (timeSince(start, iter / n_iters),\n",
    "                                                                             iter, iter / n_iters * 100,\n",
    "                                                                             print_train_loss_avg, print_valid_loss_avg))\n",
    "        if iter % plot_every == 0:\n",
    "            plot_train_loss_avg = plot_train_loss_total / plot_every\n",
    "            plot_train_losses.append(plot_train_loss_avg)\n",
    "            plot_train_loss_total = 0\n",
    "            \n",
    "            plot_valid_loss_avg = plot_valid_loss_total / plot_every\n",
    "            plot_valid_losses.append(plot_valid_loss_avg)\n",
    "            plot_valid_loss_total = 0\n",
    "    return plot_train_losses,plot_valid_losses\n"
   ]
  },
  {
   "cell_type": "markdown",
   "id": "d942fc9b-e5f6-41cf-af02-116ca14b1874",
   "metadata": {},
   "source": [
    "**Implementation of Baseline 2: Initialising instance of RNN with attention (Hidden Size = 256, Teacher Forcing = 1, N_Iter = 10000, MAX_LENGTH = 150)**"
   ]
  },
  {
   "cell_type": "code",
   "execution_count": 423,
   "id": "735b4dee-5b75-4325-ae4a-267a1fb93592",
   "metadata": {},
   "outputs": [
    {
     "name": "stdout",
     "output_type": "stream",
     "text": [
      "4m 47s (- 43m 8s) (1000 10%) Train Loss: 4.9415 | Validation Loss: 5.8065\n",
      "9m 36s (- 38m 26s) (2000 20%) Train Loss: 4.2183 | Validation Loss: 7.6959\n",
      "14m 16s (- 33m 18s) (3000 30%) Train Loss: 3.9192 | Validation Loss: 7.2412\n",
      "18m 49s (- 28m 14s) (4000 40%) Train Loss: 3.8428 | Validation Loss: 6.7070\n",
      "23m 29s (- 23m 29s) (5000 50%) Train Loss: 3.7094 | Validation Loss: 6.5539\n",
      "28m 13s (- 18m 48s) (6000 60%) Train Loss: 3.6495 | Validation Loss: 6.5823\n",
      "32m 58s (- 14m 7s) (7000 70%) Train Loss: 3.5650 | Validation Loss: 6.6538\n",
      "37m 35s (- 9m 23s) (8000 80%) Train Loss: 3.5699 | Validation Loss: 6.4216\n",
      "42m 18s (- 4m 42s) (9000 90%) Train Loss: 3.5429 | Validation Loss: 6.7817\n",
      "47m 1s (- 0m 0s) (10000 100%) Train Loss: 3.5028 | Validation Loss: 6.6035\n"
     ]
    }
   ],
   "source": [
    "hidden_size = 256\n",
    "n_iter = 10000\n",
    "plot_every = 100\n",
    "print_every = 100\n",
    "baseline2_encoder = EncoderRNN(input_lang.n_words, hidden_size).to(device)\n",
    "baseline2_decoder = AttnDecoderRNN(hidden_size, output_lang.n_words, dropout_p=0.1).to(device)\n",
    "plot_train_losses,plot_valid_losses = trainIters_attn(baseline2_encoder, baseline2_decoder, 10000, print_every=1000)"
   ]
  },
  {
   "cell_type": "markdown",
   "id": "fa23e78a-7de0-4a1e-8f37-23c8d1d05668",
   "metadata": {},
   "source": [
    "**Implementation of Baseline 2: Evaluation method for RNN with Attention (Imported from Tutorial Code)**"
   ]
  },
  {
   "cell_type": "code",
   "execution_count": 424,
   "id": "e16ce082-cf7e-471b-9488-615f4ddc8bc3",
   "metadata": {},
   "outputs": [],
   "source": [
    "def evaluate_attn(encoder, decoder, sentence, max_length=MAX_LENGTH):\n",
    "    with torch.no_grad():\n",
    "        input_tensor = tensorFromSentence(input_lang, sentence)\n",
    "        input_length = input_tensor.size()[0]\n",
    "        encoder_hidden = encoder.initHidden()\n",
    "\n",
    "        encoder_outputs = torch.zeros(max_length, encoder.hidden_size, device=device)\n",
    "\n",
    "        for ei in range(input_length):\n",
    "            encoder_output, encoder_hidden = encoder(input_tensor[ei],\n",
    "                                                     encoder_hidden)\n",
    "            encoder_outputs[ei] += encoder_output[0, 0]\n",
    "\n",
    "        decoder_input = torch.tensor([[SOS_token]], device=device)  # SOS\n",
    "\n",
    "        decoder_hidden = encoder_hidden\n",
    "\n",
    "        decoded_words = []\n",
    "        decoder_attentions = torch.zeros(max_length, max_length)\n",
    "\n",
    "        for di in range(max_length):\n",
    "            decoder_output, decoder_hidden, decoder_attention = decoder(\n",
    "                decoder_input, decoder_hidden, encoder_outputs)\n",
    "            decoder_attentions[di] = decoder_attention.data\n",
    "            topv, topi = decoder_output.data.topk(1)\n",
    "            if topi.item() == EOS_token:\n",
    "                decoded_words.append('<EOS>')\n",
    "                break\n",
    "            else:\n",
    "                decoded_words.append(output_lang.index2word[topi.item()])\n",
    "\n",
    "            decoder_input = topi.squeeze().detach()\n",
    "\n",
    "        return decoded_words, decoder_attentions[:di + 1]"
   ]
  },
  {
   "cell_type": "code",
   "execution_count": 425,
   "id": "d6af3899-43bc-409e-8303-d139e8d108c0",
   "metadata": {},
   "outputs": [],
   "source": [
    "def evaluateRandomly_attn(encoder, decoder, n=10):\n",
    "    for i in range(n):\n",
    "        pair = random.choice(train_pairs)\n",
    "        print('>', pair[0])\n",
    "        print('=', pair[1])\n",
    "        output_words, attention= evaluate_attn(encoder, decoder, pair[0])\n",
    "        output_sentence = ' '.join(output_words)\n",
    "        print('<', output_sentence)\n",
    "        print('')"
   ]
  },
  {
   "cell_type": "markdown",
   "id": "b93235ea-8dcd-462d-945e-712849d4c172",
   "metadata": {},
   "source": [
    "**Extension 1: Data Preprocessing Model (Stopwords Initialisation)**"
   ]
  },
  {
   "cell_type": "code",
   "execution_count": 624,
   "id": "6ec7e651-b192-4a8a-b43f-e54f3ae5d236",
   "metadata": {},
   "outputs": [],
   "source": [
    "# Recipe stopwords that commonly appear that do not represent any ingredients (used to preprocess it)\n",
    "# This list was generated by ChatGPT3.5 + some of the words are added based on my experiments\n",
    "recipe_stopwords = [\n",
    "    'preheat', 'oven', 'bake', 'baking', 'baked', 'bakes',\n",
    "    'minutes', 'hour', 'hours', 'minutes', 'second', 'seconds',\n",
    "    'degrees', 'celsius', 'fahrenheit',\n",
    "    'medium', 'low', 'high', 'heat','cold', 'stir', 'simmer', 'boil', 'cook', 'grill',\n",
    "    'whisk', 'mix', 'combine', 'fold', 'blend', 'puree', 'chop', 'dice', 'slice',\n",
    "    'peel', 'mince', 'drizzle', 'sprinkle', 'garnish', 'marinate', 'brush',\n",
    "    'refrigerate', 'chill', 'cool', 'freeze', 'thaw', 'room', 'temperature',\n",
    "    'bowl', 'plate', 'pan', 'pot', 'skillet', 'saucepan', 'baking', 'dish',\n",
    "    'tray', 'oven', 'sheet', 'foil', 'parchment', 'paper', 'whisk', 'spatula',\n",
    "    'spoon', 'knife', 'cutting', 'board', 'tongs', 'fork', 'mixer', 'blender',\n",
    "    'food', 'processor', 'grater', 'peeler', 'sifter', 'rolling', 'pin', 'oven', \n",
    "    'mitts', 'rack', 'cooling', 'wire', 'timer', 'timer', 'recipe', 'directions', \n",
    "    'ingredients', 'instructions', 'method', 'step', 'steps', 'serve', 'serving', \n",
    "    'makes', 'yield', 'yield:', 'yields', 'size', 'number', 'portion', 'portions', \n",
    "    'note', 'notes', 'tip', 'tips', 'variations', 'version', 'versions', 'credit', \n",
    "    'credits', 'source', 'sources', 'adapted', 'adaptation', 'adaptations', 'based', \n",
    "    'courtesy', 'original', 'author', 'authors', 'website', 'link', 'links', 'video', \n",
    "    'videos', 'facebook', 'instagram', 'twitter', 'pinterest', 'youtube', 'email', \n",
    "    'subscribe', 'rss', 'save', 'print', 'rate', 'comment', 'share', 'subscribe', \n",
    "    'like', 'love', 'follow', 'pin', 'pinning', 'tweet', 'email', 'yum', 'instagram', \n",
    "    'snapchat', 'facebook', 'twitter', 'pinterest', 'linkedin', 'reddit', 'tumblr', \n",
    "    'whatsapp', 'telegram', 'messenger', 'sms', 'message', 'chat', 'print', 'kitchen', \n",
    "    'tip', 'tips', 'trick', 'tricks', 'hack', 'hacks', 'kitchen', 'kitchens', 'home', \n",
    "    'homes', 'family', 'families', 'friend', 'friends', 'guest', 'guests', 'love', \n",
    "    'lover', 'lovers', 'party', 'parties', 'holiday', 'holidays', 'season', 'seasons', \n",
    "    'occasion', 'occasions', 'day', 'days', 'night', 'nights', 'morning', 'mornings', \n",
    "    'afternoon', 'afternoons', 'evening', 'evenings', 'week', 'weeks', 'month', 'months', \n",
    "    'year', 'years', 'today', 'tomorrow', 'yesterday', 'fresh', 'from', 'the', 'store', \n",
    "    'grocery', 'groceries', 'shop', 'shopping', 'shopping', 'list', 'lists', 'order', \n",
    "    'orders', 'online', 'offline', 'local', 'farm', 'market', 'markets', 'buy', 'purchase', \n",
    "    'sell', 'sold', 'sold', 'out', 'brand', 'brands', 'company', 'companies', 'product', \n",
    "    'products', 'item', 'items', 'stock', 'store', 'stores', 'store', 'cupboard', 'pantry', \n",
    "    'cabinet', 'cabinets', 'shelf', 'shelves', 'freezer', 'fridge', 'refrigerator', 'appliance', \n",
    "    'appliances', 'equipment', 'accessory', 'accessories', 'tool', 'tools', 'utensil', 'utensils', \n",
    "    'gadget', 'gadgets', 'ingredient', 'ingredients', 'shop', 'shopping', 'store', 'supermarket', \n",
    "    'grocery', 'groceries', 'product', 'products', 'item', 'items', 'market', 'markets', 'local', \n",
    "    'online', 'organic', 'fresh', 'best', 'quality', 'brand', 'brands', 'company', 'companies', \n",
    "    'sale', 'discount', 'offer', 'deal', 'special', 'new', 'hot', 'trend', 'trending', 'popular', \n",
    "    'favorite', 'essential', 'basic', 'must', 'need', 'want', 'buy', 'purchase', 'sell', 'sold', \n",
    "    'stock', 'top', 'high', 'low', 'price', 'cost', 'cheap', 'expensive', 'affordable', 'budget', \n",
    "    'value', 'range', 'selection', 'variety', 'choice', 'option', 'flavor', 'flavors', 'taste', \n",
    "    'tastes', 'texture', 'textures', 'aroma', 'aromas', 'color', 'colors', 'colour', 'colours', \n",
    "    'style', 'styles', 'type', 'types', 'kind', 'kinds', 'size', 'sizes', 'amount', 'portion', \n",
    "    'portions', 'quantity', 'measure', 'measures', 'weight', 'volume', 'piece', 'pieces', 'bit', \n",
    "    'bits', 'part', 'parts', 'whole', 'half', 'quarter', 'third', 'eighth', 'sixteenth', 'tablespoon', \n",
    "    'tablespoons', 'teaspoon', 'teaspoons', 'cup', 'cups', 'pint', 'pints', 'quart', 'quarts', \n",
    "    'gallon', 'gallons', 'ounce', 'ounces', 'pound', 'pounds', 'gram', 'grams', 'kilogram', \n",
    "    'kilograms', 'liter', 'liters', 'milliliter', 'milliliters', 'inch', 'inches', 'foot', \n",
    "    'feet', 'yard', 'yards', 'meter', 'meters', 'centimeter', 'centimeters', 'kilometer', \n",
    "    'kilometers', 'mile', 'miles', 'small', 'medium', 'large', 'size', 'sized', 'big', 'bigger', \n",
    "    'biggest', 'tiny', 'tinier', 'tiniest', 'mini', 'minis', 'miniature', 'micro', 'miniature', \n",
    "    'average', 'normal', 'standard', 'fine', 'finest', 'finer', 'best', 'better', 'worst', \n",
    "    'least', 'most', 'more', 'fewer', 'few', 'lots', 'plenty', 'ton', 'tons', 'great', 'greater', \n",
    "    'greatest', 'awesome', 'fantastic', 'amazing', 'good', 'better', 'best', 'excellent', \n",
    "    'wonderful', 'remarkable', 'outstanding', 'brilliant', 'superb', 'fabulous', 'terrific', \n",
    "    'exceptional', 'phenomenal', 'splendid', 'extraordinary', 'magnificent', 'top-notch', \n",
    "    'first-rate', 'high-quality', 'premium', 'deluxe', 'luxury', 'high-end', 'superior', \n",
    "    'supreme', 'ultimate', 'divine', 'heavenly', 'fab', 'fancy', 'lux', 'lush', 'posh', \n",
    "    'swanky', 'chic', 'classy', 'elegant', 'fashionable', 'stylish', 'trendy', 'up-to-date', \n",
    "    'hip', 'cool', 'trendsetting', 'cutting-edge', 'innovative', 'forward-thinking', \n",
    "    'progressive', 'modern', 'contemporary', 'sleek', 'chic', 'tasteful', 'sophisticated', \n",
    "    'cultured', 'polished', 'refined', 'classic', 'timeless', 'nostalgic', 'vintage','medium', \n",
    "    'large', 'small','chopped','lb','finely','thinly','desired','lg','md','each','or','can','delicious','bout','for','as']\n"
   ]
  },
  {
   "cell_type": "markdown",
   "id": "d3b6a5bf-e393-4823-88af-f2c90cf2434f",
   "metadata": {},
   "source": [
    "**Extension 1: Clean Text Method for preprocessing**"
   ]
  },
  {
   "cell_type": "code",
   "execution_count": 427,
   "id": "9dc6c726-d186-4327-b401-9b31865fdc83",
   "metadata": {},
   "outputs": [],
   "source": [
    "import re\n",
    "def clean_text(text,stopwords,ingredients = False):\n",
    "    # Define regular expression pattern to match numeric values and units\n",
    "    amount_pattern = r'\\b[\\d.]+(?:\\s*(?:g|kg|l|ml|tsp|tbsp|cup|pint|quart|oz|c|tb|ts|b|ea|pk|t|can|cups|cn|ounce)\\b)?'\n",
    "    # Remove numeric values and units from the text\n",
    "    text = re.sub(amount_pattern, '', text)\n",
    "\n",
    "    # Remove irrelevant information like advertisements, website navigation elements, etc.\n",
    "    # Assuming such information may be enclosed within angle brackets or parentheses\n",
    "    bracket_pattern = r'<[^>]*>|(\\([^)]*\\))'\n",
    "    remove_words = r'-rrb-|-lrb-'\n",
    "    # Remove text inside angle brackets and parentheses\n",
    "    cleaned_text = re.sub(bracket_pattern, '', text)\n",
    "    cleaned_text = re.sub(remove_words, '', cleaned_text)\n",
    "    # Create a regex pattern to match the specified stopwords surrounded by spaces\n",
    "    if ingredients:\n",
    "        pattern = r'\\b(?:' + '|'.join(re.escape(word) for word in stopwords) + r')\\b'\n",
    "        cleaned_text = re.sub(pattern, '', cleaned_text)\n",
    "\n",
    "    # Handle missing data and standardize text format\n",
    "    cleaned_text = cleaned_text.lower()  # Convert text to lowercase\n",
    "    cleaned_text = re.sub(r'[^\\w\\s]', '', cleaned_text)  # Remove punctuation\n",
    "    cleaned_text = re.sub(r'\\s+', ' ', cleaned_text).strip()  # Remove extra whitespaces\n",
    "    return cleaned_text"
   ]
  },
  {
   "cell_type": "markdown",
   "id": "0fff37dd-33f3-4f44-a470-6a84584d01a5",
   "metadata": {},
   "source": [
    "**Extension 1: Data filtering method (slight changes compared to baseline)**"
   ]
  },
  {
   "cell_type": "code",
   "execution_count": 625,
   "id": "ae6270e0-2f7a-499d-ba51-90e8050eff3c",
   "metadata": {},
   "outputs": [],
   "source": [
    "# Filters based on max length\n",
    "def filterPair(p):\n",
    "    return len(p[0].split(' ')) <= MAX_LENGTH and \\\n",
    "        len(p[1].split(' ')) <= MAX_LENGTH\n",
    "\n",
    "# Applies filterPairs to all pairs\n",
    "def filterPairs(pairs):\n",
    "    return [pair for pair in pairs if filterPair(pair)]\n",
    "\n",
    "# Metric to calculate for data information\n",
    "def length_metric (pairs):\n",
    "    ing_len = []\n",
    "    rec_len = []\n",
    "    for pair in pairs:\n",
    "        ing_len.append(len(pair[0].split(' ')))\n",
    "        rec_len.append(len(pair[1].split(' ')))\n",
    "    mean_ing_len = round(np.mean(ing_len), 2)\n",
    "    mean_rec_len = round(np.mean(rec_len), 2)\n",
    "    max_ing_len = np.max(ing_len)\n",
    "    max_rec_len = np.max(rec_len)\n",
    "    min_ing_len = np.min(ing_len)\n",
    "    min_rec_len = np.min(rec_len)\n",
    "    output_string = \"Mean ingredient length: {}\\n\".format(mean_ing_len)\n",
    "    output_string += \"Mean recipe length: {}\\n\".format(mean_rec_len)\n",
    "    output_string += \"Maximum ingredient length: {}\\n\".format(max_ing_len)\n",
    "    output_string += \"Maximum recipe length: {}\\n\".format(max_rec_len)\n",
    "    output_string += \"Minimum ingredient length: {}\\n\".format(min_ing_len)\n",
    "    output_string += \"Minimum recipe length: {}\\n\".format(min_rec_len)\n",
    "    return output_string\n",
    "\n",
    "# filterPairs method for test which saves index as well\n",
    "def filterPairs_test(pairs):\n",
    "    filtered_pairs = []\n",
    "    saved_indices = []\n",
    "    for i, pair in enumerate(pairs):\n",
    "        if filterPair(pair):\n",
    "            filtered_pairs.append(pair)\n",
    "            saved_indices.append(i)\n",
    "    return filtered_pairs, saved_indices"
   ]
  },
  {
   "cell_type": "markdown",
   "id": "3cc99e71-704d-42a6-a9a2-0fbb0df15b9d",
   "metadata": {},
   "source": [
    "**Extension 1: Preprocess train,test and dev data**"
   ]
  },
  {
   "cell_type": "code",
   "execution_count": 429,
   "id": "9c5d80f6-18e0-4031-8485-69ac412a6d26",
   "metadata": {},
   "outputs": [
    {
     "name": "stdout",
     "output_type": "stream",
     "text": [
      "Read train pairs: 101340 ,test pairs: 778 ,dev pairs: 797\n",
      "________________Train_Data_Metric________________\n",
      "Trimmed to 80240 train pairs\n",
      "Mean ingredient length: 46.05\n",
      "Mean recipe length: 76.88\n",
      "Maximum ingredient length: 150\n",
      "Maximum recipe length: 150\n",
      "Minimum ingredient length: 1\n",
      "Minimum recipe length: 1\n",
      "\n",
      "________________Test_Data_Metric________________\n",
      "Trimmed to 629 test pairs\n",
      "Mean ingredient length: 44.15\n",
      "Mean recipe length: 76.0\n",
      "Maximum ingredient length: 145\n",
      "Maximum recipe length: 149\n",
      "Minimum ingredient length: 1\n",
      "Minimum recipe length: 3\n",
      "\n",
      "________________Dev_Data_Metric________________\n",
      "Trimmed to 646 dev pairs\n",
      "Mean ingredient length: 44.25\n",
      "Mean recipe length: 76.84\n",
      "Maximum ingredient length: 149\n",
      "Maximum recipe length: 150\n",
      "Minimum ingredient length: 2\n",
      "Minimum recipe length: 3\n",
      "\n",
      "Counting words...\n",
      "Counted words:\n",
      "Ingredients 16481\n",
      "Recipe 31389\n",
      "['chuck steak thick stalks celery cream of mushroom soup potatoes onion soup water carrots', 'heat oven to degrees and place a sheet of tin foil x18 inches in a pan place meat on foil mix mushroom soup and onion soup mix and spread on steak top meat with vegetables sprinkle water on vegetables fold foil and seal cook hours']\n"
     ]
    }
   ],
   "source": [
    "def prepareData(lang1, lang2, reverse=False):\n",
    "    input_lang, output_lang, train_pairs, valid_pairs, test_pairs = readLangs(reverse)\n",
    "    print(\"Read train pairs: %s\" % len(train_pairs),\",test pairs: %s\" % len(test_pairs),\",dev pairs: %s\" % len(valid_pairs))\n",
    "    train_pairs = filterPairs(train_pairs)\n",
    "    valid_pairs = filterPairs(valid_pairs)\n",
    "    test_pairs, test_indices = filterPairs_test(test_pairs)\n",
    "    print (\"________________Train_Data_Metric________________\")\n",
    "    print(\"Trimmed to %s train pairs\" % len(train_pairs))\n",
    "    print (length_metric(train_pairs))\n",
    "    print (\"________________Test_Data_Metric________________\")\n",
    "    print(\"Trimmed to %s test pairs\" % len(test_pairs))\n",
    "    print (length_metric(test_pairs))\n",
    "    print (\"________________Dev_Data_Metric________________\")\n",
    "    print(\"Trimmed to %s dev pairs\" % len(valid_pairs))\n",
    "    print (length_metric(valid_pairs))\n",
    "    print(\"Counting words...\")\n",
    "    for pair in train_pairs:\n",
    "        pair[0] = clean_text(pair[0],recipe_stopwords,True)\n",
    "        pair[1] = clean_text(pair[1],recipe_stopwords,False)\n",
    "        input_lang.addSentence(pair[0])\n",
    "        output_lang.addSentence(pair[1])\n",
    "    for pair in valid_pairs:\n",
    "        pair[0] = clean_text(pair[0],recipe_stopwords,True)\n",
    "        pair[1] = clean_text(pair[1],recipe_stopwords,False)\n",
    "        input_lang.addSentence(pair[0])\n",
    "        output_lang.addSentence(pair[1])\n",
    "    for pair in test_pairs:\n",
    "        pair[0] = clean_text(pair[0],recipe_stopwords,True)\n",
    "        pair[1] = clean_text(pair[1],recipe_stopwords,False)\n",
    "        input_lang.addSentence(pair[0])\n",
    "        output_lang.addSentence(pair[1])\n",
    "    print(\"Counted words:\")\n",
    "    print(input_lang.name, input_lang.n_words)\n",
    "    print(output_lang.name, output_lang.n_words)\n",
    "    return input_lang, output_lang, train_pairs, valid_pairs, test_pairs, test_indices\n",
    "\n",
    "input_lang, output_lang, train_pairs, valid_pairs, test_pairs ,test_indices= prepareData('ingredients', 'recipe', False)\n",
    "print(random.choice(train_pairs))"
   ]
  },
  {
   "cell_type": "markdown",
   "id": "4c70829a-7e4d-440d-9a14-0d493b754dae",
   "metadata": {},
   "source": [
    "**Extension 1: Run new model on preprocessed data (Hidden Size = 256, Teacher Forcing = 1, N_Iter = 10000, MAX_LENGTH = 150)**"
   ]
  },
  {
   "cell_type": "code",
   "execution_count": 430,
   "id": "d7112d21-9cfc-4bcd-a2bf-2d46b78f0413",
   "metadata": {},
   "outputs": [
    {
     "name": "stdout",
     "output_type": "stream",
     "text": [
      "3m 17s (- 29m 36s) (1000 10%) Train Loss: 5.4734 | Validation Loss: 7.0741\n",
      "6m 31s (- 26m 6s) (2000 20%) Train Loss: 4.6433 | Validation Loss: 6.8594\n",
      "9m 36s (- 22m 24s) (3000 30%) Train Loss: 4.4147 | Validation Loss: 6.5008\n",
      "12m 52s (- 19m 18s) (4000 40%) Train Loss: 4.2761 | Validation Loss: 6.9000\n",
      "16m 3s (- 16m 3s) (5000 50%) Train Loss: 4.1424 | Validation Loss: 6.7557\n",
      "19m 10s (- 12m 47s) (6000 60%) Train Loss: 4.0436 | Validation Loss: 6.7828\n",
      "22m 14s (- 9m 31s) (7000 70%) Train Loss: 3.9765 | Validation Loss: 6.6653\n",
      "25m 15s (- 6m 18s) (8000 80%) Train Loss: 3.9731 | Validation Loss: 6.7593\n",
      "28m 17s (- 3m 8s) (9000 90%) Train Loss: 3.8899 | Validation Loss: 6.7899\n",
      "31m 21s (- 0m 0s) (10000 100%) Train Loss: 3.8810 | Validation Loss: 6.7665\n"
     ]
    }
   ],
   "source": [
    "hidden_size = 256\n",
    "n_iter = 10000\n",
    "plot_every = 100\n",
    "print_every = 100\n",
    "extension1_encoder = EncoderRNN(input_lang.n_words, hidden_size).to(device)\n",
    "extension1_decoder = AttnDecoderRNN(hidden_size, output_lang.n_words, dropout_p=0.1).to(device)\n",
    "plot_extension1_train_losses,plot_extension1_valid_losses = trainIters_attn(extension1_encoder, extension1_decoder, 10000, print_every=1000)"
   ]
  },
  {
   "cell_type": "markdown",
   "id": "f4fac582-4b7a-4825-a9ec-54624622a757",
   "metadata": {},
   "source": [
    "**Extension 2: Stacking Layers (Modified Encoder for Layers)**"
   ]
  },
  {
   "cell_type": "code",
   "execution_count": 628,
   "id": "7e7735bd-e1b0-4f65-8c60-6b92c7c844cf",
   "metadata": {},
   "outputs": [],
   "source": [
    "class EncoderRNN_Layers(nn.Module):\n",
    "    def __init__(self, input_size, hidden_size, num_layers=1):\n",
    "        super(EncoderRNN_Layers, self).__init__()\n",
    "        self.hidden_size = hidden_size\n",
    "        self.num_layers = num_layers\n",
    "        self.embedding = nn.Embedding(input_size, hidden_size)\n",
    "        # Initialises N number of GRU layers based on input\n",
    "        self.gru = nn.GRU(hidden_size, hidden_size, num_layers=num_layers)\n",
    "\n",
    "    def forward(self, input, hidden):\n",
    "        embedded = self.embedding(input).view(1, 1, -1)\n",
    "        output = embedded\n",
    "        output, hidden = self.gru(output, hidden)\n",
    "        return output, hidden\n",
    "\n",
    "    def initHidden(self):\n",
    "        # Initialise hidden layers correctly according to layer size\n",
    "        return torch.zeros(self.num_layers, 1, self.hidden_size, device=device)\n"
   ]
  },
  {
   "cell_type": "markdown",
   "id": "1fb31260-45ae-47b7-9ffc-0bdc3725166e",
   "metadata": {},
   "source": [
    "**Extension 2: Stacking Layers (Modified Decoder for Layers)**"
   ]
  },
  {
   "cell_type": "code",
   "execution_count": 629,
   "id": "49b5c256-36c8-4a1a-a8f5-186241e6fabc",
   "metadata": {},
   "outputs": [],
   "source": [
    "class AttnDecoderRNN_Layers(nn.Module):\n",
    "    def __init__(self, hidden_size, output_size,num_layers, dropout_p=0.1, max_length=200):\n",
    "        super(AttnDecoderRNN_Layers, self).__init__()\n",
    "        self.hidden_size = hidden_size\n",
    "        self.output_size = output_size\n",
    "        self.dropout_p = dropout_p\n",
    "        self.max_length = max_length\n",
    "        self.num_layers = num_layers\n",
    "\n",
    "        self.embedding = nn.Embedding(self.output_size, self.hidden_size)\n",
    "        self.dropout = nn.Dropout(self.dropout_p)\n",
    "            # Initialises N number of GRU layers based on input\n",
    "        self.gru = nn.GRU(self.hidden_size, self.hidden_size, num_layers=self.num_layers)\n",
    "        self.out = nn.Linear(self.hidden_size*2, self.output_size)\n",
    "\n",
    "    def forward(self, input, hidden, encoder_outputs):\n",
    "        embedded = self.embedding(input).view(1, 1, -1)\n",
    "        embedded = self.dropout(embedded)\n",
    "        _, hidden = self.gru(embedded, hidden)\n",
    "        # Update weights according to new dimensions that hidden and encoder outputs now has\n",
    "        attn_weights = F.softmax(torch.bmm(hidden[-1].unsqueeze(0), encoder_outputs.T.unsqueeze(0)),dim=-1)\n",
    "        attn_output = torch.bmm(attn_weights, encoder_outputs.unsqueeze(0))\n",
    "\n",
    "        concat_output = torch.cat((attn_output[0], hidden[0]), 1)\n",
    "\n",
    "        output = F.log_softmax(self.out(concat_output), dim=1)\n",
    "        return output, hidden, attn_weights\n",
    "\n",
    "    def initHidden(self):\n",
    "        # Initialise hidden layers correctly according to layer size\n",
    "        return torch.zeros(self.num_layers, 1, self.hidden_size, device=device)"
   ]
  },
  {
   "cell_type": "markdown",
   "id": "a3cbdc5a-85dd-4ed5-8c2c-0e1a105e0920",
   "metadata": {},
   "source": [
    "**Extension 2: Run new 2-layered model (Hidden Size = 256, Teacher Forcing = 1, N_Iter = 10000, MAX_LENGTH = 150)**"
   ]
  },
  {
   "cell_type": "code",
   "execution_count": 433,
   "id": "4f1ea619-0229-4eb6-b10b-a41c8db578f7",
   "metadata": {},
   "outputs": [
    {
     "name": "stdout",
     "output_type": "stream",
     "text": [
      "3m 34s (- 32m 9s) (1000 10%) Train Loss: 5.4925 | Validation Loss: 6.5116\n",
      "7m 2s (- 28m 9s) (2000 20%) Train Loss: 4.6440 | Validation Loss: 6.7581\n",
      "10m 24s (- 24m 18s) (3000 30%) Train Loss: 4.3823 | Validation Loss: 6.4956\n",
      "13m 52s (- 20m 48s) (4000 40%) Train Loss: 4.2194 | Validation Loss: 6.7184\n",
      "17m 20s (- 17m 20s) (5000 50%) Train Loss: 4.0995 | Validation Loss: 6.7658\n",
      "20m 41s (- 13m 47s) (6000 60%) Train Loss: 4.0787 | Validation Loss: 6.2781\n",
      "24m 6s (- 10m 19s) (7000 70%) Train Loss: 3.9986 | Validation Loss: 6.5083\n",
      "27m 32s (- 6m 53s) (8000 80%) Train Loss: 3.9307 | Validation Loss: 6.9030\n",
      "30m 58s (- 3m 26s) (9000 90%) Train Loss: 3.9386 | Validation Loss: 6.9289\n",
      "34m 22s (- 0m 0s) (10000 100%) Train Loss: 3.8987 | Validation Loss: 7.0391\n"
     ]
    }
   ],
   "source": [
    "hidden_size = 256\n",
    "n_iter = 10000\n",
    "plot_every = 100\n",
    "print_every = 100\n",
    "extension2_encoder = EncoderRNN_Layers(input_lang.n_words, hidden_size, num_layers=2).to(device)\n",
    "extension2_decoder = AttnDecoderRNN_Layers(hidden_size, output_lang.n_words, num_layers=2, dropout_p=0.1).to(device)\n",
    "plot_extension2_train_losses,plot_extension2_valid_losses = trainIters_attn(extension2_encoder, extension2_decoder, 10000, print_every=1000)"
   ]
  },
  {
   "cell_type": "markdown",
   "id": "c55aca6d-7b0e-4d06-b9df-a3b8867188dd",
   "metadata": {},
   "source": [
    "**Paper implementation: NN baseline model implementation**"
   ]
  },
  {
   "cell_type": "code",
   "execution_count": 631,
   "id": "d12dcff5-648f-447d-a822-63f24a434234",
   "metadata": {},
   "outputs": [],
   "source": [
    "import numpy as np\n",
    "import torch\n",
    "from sklearn.neighbors import NearestNeighbors\n",
    "\n",
    "def fit_nearest_neighbor(train_pair, max_length=MAX_LENGTH):\n",
    "    # Precompute padded pairs and norms for all recipes in the dataset\n",
    "    padded_pairs = []\n",
    "    norms = []\n",
    "    for pair in train_pair:\n",
    "        # Convert sentence to tensor\n",
    "        current_pair = tensorFromSentence(input_lang, pair[0])\n",
    "        # Pad tensor\n",
    "        padding_length = max(0, max_length - len(current_pair))\n",
    "        padded_pair = torch.cat((current_pair.squeeze(), torch.zeros(padding_length, dtype=torch.long).to(device)))\n",
    "        # Append to list\n",
    "        padded_pairs.append(padded_pair)\n",
    "    \n",
    "    # Convert list of tensors to a single tensor\n",
    "    padded_pairs_tensor = torch.stack(padded_pairs)\n",
    "    \n",
    "    # Fit NearestNeighbors model\n",
    "    nn_model = NearestNeighbors(metric='cosine')\n",
    "    nn_model.fit(padded_pairs_tensor.cpu().numpy())  # Convert tensor to numpy array\n",
    "    return nn_model\n",
    "nn_model = fit_nearest_neighbor(train_pairs)"
   ]
  },
  {
   "cell_type": "markdown",
   "id": "457f1735-5a15-4f10-88b4-8adf1e4509d7",
   "metadata": {},
   "source": [
    "**Paper implementation: NN baseline extract test recipe based on test ingredients from KNN**"
   ]
  },
  {
   "cell_type": "code",
   "execution_count": 632,
   "id": "035c6b27-f557-4206-978d-d2b13671add2",
   "metadata": {},
   "outputs": [],
   "source": [
    "nn_preds = []\n",
    "for i in range (len(test_pairs)):\n",
    "    current = tensorFromSentence(input_lang, test_pairs[i][0])\n",
    "    padding_length = max(0, MAX_LENGTH - len(current))\n",
    "    test_padded = torch.cat((current.squeeze(), torch.zeros(padding_length, dtype=torch.long).to(device)))\n",
    "    pred = nn_model.kneighbors([test_padded.cpu().numpy()], n_neighbors=1, return_distance=False)[0]\n",
    "    nn_preds.append(train_pairs[pred[0]][1])\n"
   ]
  },
  {
   "cell_type": "markdown",
   "id": "ba296568-9128-405e-9cdb-83bfb0325bb5",
   "metadata": {},
   "source": [
    "**General/Report :Graph plot for trained models**"
   ]
  },
  {
   "cell_type": "code",
   "execution_count": 447,
   "id": "39d69267-ca9b-46ee-bbd2-80e997fc5f24",
   "metadata": {},
   "outputs": [
    {
     "data": {
      "text/plain": [
       "<Figure size 640x480 with 0 Axes>"
      ]
     },
     "metadata": {},
     "output_type": "display_data"
    },
    {
     "data": {
      "image/png": "[encoded data removed]",
      "text/plain": [
       "<Figure size 1500x800 with 1 Axes>"
      ]
     },
     "metadata": {},
     "output_type": "display_data"
    }
   ],
   "source": [
    "def showPlot(model_names, train_points, valid_points, epochs, plot_every,colour):\n",
    "    plt.figure()\n",
    "    fig, ax = plt.subplots(figsize=(15, 8))\n",
    "    loc = ticker.MultipleLocator(base=0.2)\n",
    "    ax.yaxis.set_major_locator(loc)\n",
    "    x_range = np.array(np.arange(0, epochs-1, plot_every))\n",
    "    \n",
    "    for i in range(len(model_names)):\n",
    "        plt.plot(x_range, train_points[i], label=model_names[i] + ' Train', linestyle='--' ,color=colour[i])\n",
    "        plt.plot(x_range, valid_points[i], label=model_names[i] + ' Valid', color=colour[i])\n",
    "    plt.legend()\n",
    "    plt.xlabel('Epochs')\n",
    "    plt.ylabel('Loss')\n",
    "    plt.title('Training and Dev(Validation) Loss')\n",
    "    plt.show()\n",
    "\n",
    "\n",
    "model_names = ['Baseline 1','Baseline 2','Extension 1','Extension 2']\n",
    "train_points = [baseline1_plot_train_losses,plot_train_losses,plot_extension1_train_losses,plot_extension2_train_losses]\n",
    "valid_points = [baseline1_plot_valid_losses,plot_valid_losses,plot_extension1_valid_losses,plot_extension2_valid_losses]\n",
    "epochs = 10000\n",
    "plot_every = 100\n",
    "colour = ['blue','orange','green','red']\n",
    "showPlot(model_names, train_points, valid_points, epochs, plot_every,colour)"
   ]
  },
  {
   "cell_type": "markdown",
   "id": "ef61a3fe-03f3-4262-8cd9-c42ddfe8b023",
   "metadata": {},
   "source": [
    "**General/Report :Ingredients Extraction from Ingredients List**"
   ]
  },
  {
   "cell_type": "code",
   "execution_count": 454,
   "id": "6f07e16d-e64c-4dd0-a4da-080c22dcf806",
   "metadata": {},
   "outputs": [
    {
     "name": "stderr",
     "output_type": "stream",
     "text": [
      "[nltk_data] Downloading package stopwords to\n",
      "[nltk_data]     C:\\Users\\manut\\AppData\\Roaming\\nltk_data...\n",
      "[nltk_data]   Package stopwords is already up-to-date!\n"
     ]
    }
   ],
   "source": [
    "import string\n",
    "import nltk\n",
    "from nltk.tokenize import word_tokenize\n",
    "from nltk.corpus import stopwords\n",
    "from nltk import pos_tag\n",
    "nltk.download('stopwords')\n",
    "\n",
    "# Sample text\n",
    "text = ' '.join(pair[0] for pair in train_pairs)\n",
    "tokens = word_tokenize(text)\n",
    "# Remove stopwords\n",
    "stop_words = set(stopwords.words('english') + recipe_stopwords)\n",
    "tokens = [word for word in tokens if word not in stop_words]\n",
    "# Remove everything except for those that are Nouns\n",
    "pos_tags = pos_tag(tokens)\n",
    "tokens = [word for word, pos in pos_tags if pos == 'NN'or pos == 'NNS']"
   ]
  },
  {
   "cell_type": "markdown",
   "id": "a504332b-c7df-4ef5-ac46-be3c6e8a4aa6",
   "metadata": {},
   "source": [
    "**General/Report : Word2Phrase method proposed by Kiddon et al.**"
   ]
  },
  {
   "cell_type": "code",
   "execution_count": 528,
   "id": "61cb7f07-aa2c-4b8b-9ddf-fc018b90bbc9",
   "metadata": {},
   "outputs": [],
   "source": [
    "from gensim.models import Phrases\n",
    "# Create phrases\n",
    "# Define phrases to be forced\n",
    "# Forces phrases such as juice to be in a phrase (must be orange_juice, apple_juice)\n",
    "# This implementation was done with slight help on using Word2Phrase by LLMs such as Claude 3 Sonnet and ChatGPT 3.5\n",
    "force_phrases = {\"seeds\", \"seed\",\"syrups\", \"syrup\", \"juice\", \"juices\",\"cream\",\"creams\",\"leaf\",\"leaves\",\"flavoured\",\"flavours\",\"cooled\",\"cool\",\"pieces\"}\n",
    "# Create phrases and filter out extra stopwords that do not represent ingredients\n",
    "irrelevant_words = {'bring_boil','smooth','food','temperature','blender','let', 'well', 'along', 'cut','least', 'hours', 'desired', 'minutes', 'allow', 'remove', 'mixed', 'serve', 'bring', 'soften', 'fold', 'stirring', 'serving', 'simmer', 'sit', 'heat', 'stir', 'remove_heat', 'combine', 'pour', 'gently', 'blend', 'puree', 'chilled', 'freeze', 'container', 'room_temperature', 'saucepan', 'mixture', 'consistency','turn','mill','trays','bowls'}\n",
    "# Word to Phrase implementation similar to Kiddon et al. to extract phrases that might represent ingredients\n",
    "bigram = Phrases([tokens], min_count=5, threshold=3)\n",
    "from gensim.models.phrases import Phraser\n",
    "bigram_phraser = Phraser(bigram)\n",
    "# Obtain tokens including the phrases identified\n",
    "tokens_with_phrases = bigram_phraser[tokens]\n",
    "token_counts = Counter(tokens_with_phrases)\n",
    "# Select top k tokens by occurrences (I assume the top 10000 occuring tokens within the ingredients tokens should represent majority\n",
    "# of the ingredients (after stripping out the stopwords and irrelevant words\n",
    "k = 10000\n",
    "unique_tokens_with_phrases = [token for token, count in token_counts.most_common(k) if token not in force_phrases and token not in irrelevant_words]"
   ]
  },
  {
   "cell_type": "markdown",
   "id": "328acbc9-7bf3-469b-bac3-14933a4ecf35",
   "metadata": {},
   "source": [
    "**General/Report : Count Ingredients from Ingredients List**"
   ]
  },
  {
   "cell_type": "code",
   "execution_count": 529,
   "id": "440fd5a6-8faa-4e61-b64f-95a0dc9cfe92",
   "metadata": {},
   "outputs": [],
   "source": [
    "# Tokenize the words for count_ingredients\n",
    "def prerocess_for_count (sentence):\n",
    "    sentence_tokens = word_tokenize(sentence.lower())\n",
    "    return [word for word in sentence_tokens if word not in stop_words]\n",
    "\n",
    "# Count ingredients method, which uses the unique_tokens with phrase to identify the ingredients and return the set of ingredients identified\n",
    "def count_ingredients(unique_tokens_with_phrases, sentence_tokens):\n",
    "    final_phrases = []\n",
    "    i = 0\n",
    "    while i < len(sentence_tokens):\n",
    "        phrase = '_'.join(sentence_tokens[i:i+2])\n",
    "        if phrase in unique_tokens_with_phrases:\n",
    "            final_phrases.append(phrase)\n",
    "            i += 2\n",
    "        elif sentence_tokens[i] in unique_tokens_with_phrases:\n",
    "            final_phrases.append(sentence_tokens[i])\n",
    "            i += 1\n",
    "        else:\n",
    "            phrase = '_'.join(sentence_tokens[i:i+4])\n",
    "            i += 1\n",
    "    return set(final_phrases)\n"
   ]
  },
  {
   "cell_type": "markdown",
   "id": "30497f16-817d-443a-8529-9a9ad499ec4d",
   "metadata": {},
   "source": [
    "**General/Report : Evaluation method for test data (non attention for Baseline 1)**"
   ]
  },
  {
   "cell_type": "code",
   "execution_count": 530,
   "id": "cf48b28d-ae9e-4e04-8799-f41bf0fe60ef",
   "metadata": {},
   "outputs": [],
   "source": [
    "# Evaluation method for test data\n",
    "def eval_test(input_tensor, target_tensor, encoder, decoder, criterion, max_length=MAX_LENGTH):\n",
    "    encoder_hidden = encoder.initHidden()\n",
    "    input_length = input_tensor.size(0)\n",
    "    target_length = target_tensor.size(0)\n",
    "\n",
    "    encoder_outputs = torch.zeros(max_length, encoder.hidden_size, device=device)\n",
    "\n",
    "    loss = 0\n",
    "\n",
    "    for ei in range(input_length):\n",
    "        encoder_output, encoder_hidden = encoder(\n",
    "            input_tensor[ei], encoder_hidden)\n",
    "        encoder_outputs[ei] = encoder_output[0, 0]\n",
    "\n",
    "    decoder_input = torch.tensor([[SOS_token]], device=device)\n",
    "\n",
    "    decoder_hidden = encoder_hidden\n",
    "    for di in range(target_length):\n",
    "        decoder_output, decoder_hidden = decoder(\n",
    "            decoder_input, decoder_hidden)\n",
    "        topv, topi = decoder_output.topk(1)\n",
    "        decoder_input = topi.squeeze().detach()  # detach from history as input\n",
    "\n",
    "        loss += criterion(decoder_output, target_tensor[di])\n",
    "        if decoder_input.item() == EOS_token:\n",
    "            break\n",
    "\n",
    "    return loss.item() / target_length\n"
   ]
  },
  {
   "cell_type": "markdown",
   "id": "4d8492de-18d2-4981-8047-1e0f7f512a3c",
   "metadata": {},
   "source": [
    "**General/Report : Evaluation method for test data (attention for Baseline 2, Extension 1 and Extension 2)**"
   ]
  },
  {
   "cell_type": "code",
   "execution_count": 531,
   "id": "9a0b1004-f89b-4cd8-ba86-e3ae37e6b54f",
   "metadata": {},
   "outputs": [],
   "source": [
    "# Evaluation method for test data\n",
    "def eval_test_atnn(input_tensor, target_tensor, encoder, decoder, criterion, max_length=MAX_LENGTH):\n",
    "    encoder_hidden = encoder.initHidden()\n",
    "\n",
    "    input_length = input_tensor.size(0)\n",
    "    target_length = target_tensor.size(0)\n",
    "\n",
    "    encoder_outputs = torch.zeros(max_length, encoder.hidden_size, device=device)\n",
    "\n",
    "    loss = 0\n",
    "\n",
    "    for ei in range(input_length):\n",
    "        encoder_output, encoder_hidden = encoder(\n",
    "            input_tensor[ei], encoder_hidden)\n",
    "        encoder_outputs[ei] = encoder_output[0, 0]\n",
    "    decoder_input = torch.tensor([[SOS_token]], device=device)\n",
    "    decoder_hidden = encoder_hidden\n",
    "    for di in range(target_length):\n",
    "        decoder_output, decoder_hidden, decoder_attention = decoder(\n",
    "            decoder_input, decoder_hidden, encoder_outputs)\n",
    "        topv, topi = decoder_output.topk(1)\n",
    "        decoder_input = topi.squeeze().detach()  # detach from history as input\n",
    "\n",
    "        loss += criterion(decoder_output, target_tensor[di])\n",
    "        if decoder_input.item() == EOS_token:\n",
    "            break\n",
    "\n",
    "    return loss.item() / target_length\n"
   ]
  },
  {
   "cell_type": "markdown",
   "id": "733cdfdb-058f-4a9a-929f-5af47ec43cc8",
   "metadata": {},
   "source": [
    "**General/Report : Evaluation and metric calculation for trained models**"
   ]
  },
  {
   "cell_type": "code",
   "execution_count": 630,
   "id": "7edcea08-a3ec-4af8-9a22-3ed67c8859a8",
   "metadata": {},
   "outputs": [
    {
     "name": "stderr",
     "output_type": "stream",
     "text": [
      "[nltk_data] Downloading package wordnet to\n",
      "[nltk_data]     C:\\Users\\manut\\AppData\\Roaming\\nltk_data...\n",
      "[nltk_data]   Package wordnet is already up-to-date!\n"
     ]
    }
   ],
   "source": [
    "from nltk.translate.bleu_score import corpus_bleu\n",
    "from nltk.translate.meteor_score import meteor_score\n",
    "nltk.download('wordnet')\n",
    "\n",
    "# Evaluate performance on test set and calculating the metrics required\n",
    "def check_test_set(encoder, decoder,test_pairs,attention_status,unique_tokens_with_phrases):\n",
    "    start = time.time()\n",
    "    test_loss_total = 0  # Reset every print_every\n",
    "\n",
    "    testing_pairs = [tensorsFromPair(pair) for pair in test_pairs]\n",
    "    criterion = nn.NLLLoss()\n",
    "    avg_given = []\n",
    "    avg_extra = []\n",
    "    bleu_scores = []\n",
    "    meteor_scores = []\n",
    "    generated_words = []\n",
    "    for i in range (len(testing_pairs)):\n",
    "        test_pair = testing_pairs[i]\n",
    "        test_input_tensor = test_pair[0]\n",
    "        test_target_tensor = test_pair[1]\n",
    "        if attention_status:\n",
    "            # Calculate test loss\n",
    "            test_loss = eval_test_atnn(test_input_tensor, test_target_tensor, encoder,\n",
    "            decoder, criterion)\n",
    "            # Obtain set of ingredients using method above (returns {\"orange\",\"apples\"})\n",
    "            ingredients = count_ingredients(prerocess_for_count (test_pairs[i][0]),unique_tokens_with_phrases)\n",
    "            # Obtain the generated words and append for csv insertion\n",
    "            output_words, attention= evaluate_attn(encoder, decoder, test_pairs[i][0])\n",
    "            output_words=' '.join(output_words)\n",
    "            generated_words.append(output_words)\n",
    "            # Obtain set of used ingredients from the output using method above (returns {\"orange\",\"apples\"})\n",
    "            used_ingredients = count_ingredients(prerocess_for_count (output_words),unique_tokens_with_phrases)\n",
    "            # Count ingredients stated in input\n",
    "            ingredients_stated = max(1,len(ingredients))\n",
    "            # Count common occuring ingredients and divide by stated infredients for percentage of used ingredients\n",
    "            used_given = len(used_ingredients & ingredients) / ingredients_stated\n",
    "            avg_given.append(used_given)\n",
    "            # Count the number of extra ingredients used in output that did not appear in original input\n",
    "            extra_items = max(0,len(used_ingredients) - len(ingredients))\n",
    "            avg_extra.append(extra_items)\n",
    "\n",
    "        else:\n",
    "            # Calculate test loss\n",
    "            test_loss = eval_test(test_input_tensor, test_target_tensor, encoder,\n",
    "             decoder, criterion)\n",
    "            # Obtain set of ingredients using method above (returns {\"orange\",\"apples\"})\n",
    "            ingredients = count_ingredients(prerocess_for_count (test_pairs[i][0]),unique_tokens_with_phrases)\n",
    "            # Obtain the generated words and append for csv insertion\n",
    "            output_words=' '.join(evaluate(encoder, decoder, test_pairs[i][0]))\n",
    "            generated_words.append(output_words)\n",
    "            # Obtain set of used ingredients from the output using method above (returns {\"orange\",\"apples\"})\n",
    "            used_ingredients = count_ingredients(prerocess_for_count (output_words),unique_tokens_with_phrases)\n",
    "            # Count ingredients stated in input\n",
    "            ingredients_stated = max(1,len(ingredients))\n",
    "            # Count common occuring ingredients and divide by stated infredients for percentage of used ingredients\n",
    "            used_given = len(used_ingredients & ingredients) / ingredients_stated\n",
    "            avg_given.append(used_given)\n",
    "            # Count the number of extra ingredients used in output that did not appear in original input\n",
    "            extra_items = max(0,len(used_ingredients) - len(ingredients))\n",
    "            avg_extra.append(extra_items)\n",
    "\n",
    "        # Calculate BLEU Score\n",
    "        reference = [[test_pairs[i][1].split()]]  # Assuming pair[1] is the target sentence\n",
    "        hypothesis = [output_words.split()]\n",
    "        bleu_score = corpus_bleu(reference, hypothesis, weights=(0.25, 0.25, 0.25, 0.25))\n",
    "        bleu_scores.append(bleu_score)\n",
    "        # Calculate METEOR score\n",
    "        metor_reference = test_pairs[i][1].split()\n",
    "        if attention_status:\n",
    "            meteor_hypothesis, _ = evaluate_attn(encoder, decoder, test_pairs[i][0])\n",
    "        else:\n",
    "            meteor_hypothesis = evaluate(encoder, decoder, test_pairs[i][0])\n",
    "        meteor_score_value = meteor_score([metor_reference], meteor_hypothesis)\n",
    "        meteor_scores.append(meteor_score_value)\n",
    "        test_loss_total += test_loss\n",
    "    final_loss = test_loss_total / len(testing_pairs)\n",
    "    return final_loss,avg_given,avg_extra,bleu_scores,meteor_scores,generated_words\n"
   ]
  },
  {
   "cell_type": "code",
   "execution_count": 639,
   "id": "d46a8210-b6ca-4ba6-81bb-8951e9222f73",
   "metadata": {},
   "outputs": [],
   "source": [
    "def check_test_set_nn (test_pairs,nn_preds,unique_tokens_with_phrases):\n",
    "    avg_given = []\n",
    "    avg_extra = []\n",
    "    bleu_scores = []\n",
    "    meteor_scores = []\n",
    "    generated_words = []\n",
    "    for i in range (len(test_pairs)):\n",
    "        # Obtain set of ingredients using method above (returns {\"orange\",\"apples\"})\n",
    "        ingredients = count_ingredients(prerocess_for_count (test_pairs[i][0]),unique_tokens_with_phrases)\n",
    "        # Obtain the generated words and append for csv insertion\n",
    "        output_words= nn_preds[i]\n",
    "        generated_words.append(output_words)\n",
    "        # Obtain set of used ingredients from the output using method above (returns {\"orange\",\"apples\"})        \n",
    "        used_ingredients = count_ingredients(prerocess_for_count (output_words),unique_tokens_with_phrases)\n",
    "        # Count ingredients stated in input\n",
    "        ingredients_stated = max(1,len(ingredients))\n",
    "        # Count common occuring ingredients and divide by stated infredients for percentage of used ingredients\n",
    "        used_given = len(used_ingredients & ingredients) / ingredients_stated\n",
    "        avg_given.append(used_given)\n",
    "        # Count the number of extra ingredients used in output that did not appear in original input\n",
    "        extra_items = max(0,len(used_ingredients) - len(ingredients))\n",
    "        avg_extra.append(extra_items)\n",
    "\n",
    "        # BLEU and Meteor Calculation\n",
    "        reference = [[test_pairs[i][1].split()]]  # Assuming pair[1] is the target sentence\n",
    "        hypothesis = [output_words.split()]\n",
    "        bleu_score = corpus_bleu(reference, hypothesis, weights=(0.25, 0.25, 0.25, 0.25))\n",
    "        bleu_scores.append(bleu_score)\n",
    "        # Calculate METEOR score\n",
    "        metor_reference = test_pairs[i][1].split()\n",
    "        meteor_hypothesis = output_words.split()\n",
    "        meteor_score_value = meteor_score([metor_reference], meteor_hypothesis)\n",
    "        meteor_scores.append(meteor_score_value)\n",
    "    return avg_given,avg_extra,bleu_scores,meteor_scores,generated_words\n"
   ]
  },
  {
   "cell_type": "markdown",
   "id": "8b4f9310-04b5-4f3f-b6d2-3adf9a45fa6f",
   "metadata": {},
   "source": [
    "**General/Report :Model Performance Evaluation**"
   ]
  },
  {
   "cell_type": "code",
   "execution_count": 577,
   "id": "cef8b34f-12b0-4436-be89-290cabf7d4d1",
   "metadata": {},
   "outputs": [
    {
     "name": "stderr",
     "output_type": "stream",
     "text": [
      "C:\\Users\\manut\\anaconda3\\envs\\fit5217\\Lib\\site-packages\\nltk\\translate\\bleu_score.py:552: UserWarning: \n",
      "The hypothesis contains 0 counts of 2-gram overlaps.\n",
      "Therefore the BLEU score evaluates to 0, independently of\n",
      "how many N-gram overlaps of lower order it contains.\n",
      "Consider using lower n-gram order or use SmoothingFunction()\n",
      "  warnings.warn(_msg)\n",
      "C:\\Users\\manut\\anaconda3\\envs\\fit5217\\Lib\\site-packages\\nltk\\translate\\bleu_score.py:552: UserWarning: \n",
      "The hypothesis contains 0 counts of 3-gram overlaps.\n",
      "Therefore the BLEU score evaluates to 0, independently of\n",
      "how many N-gram overlaps of lower order it contains.\n",
      "Consider using lower n-gram order or use SmoothingFunction()\n",
      "  warnings.warn(_msg)\n",
      "C:\\Users\\manut\\anaconda3\\envs\\fit5217\\Lib\\site-packages\\nltk\\translate\\bleu_score.py:552: UserWarning: \n",
      "The hypothesis contains 0 counts of 4-gram overlaps.\n",
      "Therefore the BLEU score evaluates to 0, independently of\n",
      "how many N-gram overlaps of lower order it contains.\n",
      "Consider using lower n-gram order or use SmoothingFunction()\n",
      "  warnings.warn(_msg)\n"
     ]
    }
   ],
   "source": [
    "test_loss_baseline1,avg_given_baseline1,avg_extra_baseline1,bleu_scores_baseline1,meteor_scores_baseline1,generated_words_baseline1= check_test_set(baseline1_encoder, baseline1_decoder,test_pairs,False,unique_tokens_with_phrases)"
   ]
  },
  {
   "cell_type": "code",
   "execution_count": 583,
   "id": "259de7a5-629b-4652-baf3-a4174881f8e8",
   "metadata": {},
   "outputs": [
    {
     "name": "stdout",
     "output_type": "stream",
     "text": [
      "Test Loss for Baseline 1:  9.683302558430283\n",
      "Average % Given Ingredients used for Baseline 1:  6.050104188801186\n",
      "Average Extra Ingredients used for Baseline 1:  3.0937996820349762\n",
      "Bleu Score for Baseline 1:  8.568198371043781e-157\n",
      "Meteor Score for Baseline 1:  0.05657369817687231\n"
     ]
    }
   ],
   "source": [
    "print (\"Test Loss for Baseline 1: \",test_loss_baseline1)\n",
    "print (\"Average % Given Ingredients used for Baseline 1: \",np.mean(avg_given_baseline1)*100)\n",
    "print (\"Average Extra Ingredients used for Baseline 1: \",np.mean(avg_extra_baseline1))\n",
    "print (\"Bleu Score for Baseline 1: \",np.mean(bleu_scores_baseline1))\n",
    "print (\"Meteor Score for Baseline 1: \",np.mean(meteor_scores_baseline1))"
   ]
  },
  {
   "cell_type": "code",
   "execution_count": 578,
   "id": "b926bbd4-998f-4771-a41b-d75a40068fe6",
   "metadata": {},
   "outputs": [],
   "source": [
    "test_loss_baseline2,avg_given_baseline2,avg_extra_baseline2,bleu_scores_baseline2,meteor_scores_baseline2,generated_words_baseline2 = check_test_set(baseline2_encoder, baseline2_decoder,test_pairs,True,unique_tokens_with_phrases)"
   ]
  },
  {
   "cell_type": "code",
   "execution_count": 580,
   "id": "f4f7978e-ea84-456d-83ba-8a780042179f",
   "metadata": {},
   "outputs": [
    {
     "name": "stdout",
     "output_type": "stream",
     "text": [
      "Test Loss for Baseline 2:  8.83135672119613\n",
      "Average % Given Ingredients used for Baseline 2:  5.313514359382158\n",
      "Average Extra Ingredients used for Baseline 2:  2.821939586645469\n",
      "Bleu Score for Baseline 2:  9.84120905257055e-157\n",
      "Meteor Score for Baseline 2:  0.05163769209649932\n"
     ]
    }
   ],
   "source": [
    "print (\"Test Loss for Baseline 2: \",test_loss_baseline2)\n",
    "print (\"Average % Given Ingredients used for Baseline 2: \",np.mean(avg_given_baseline2)*100)\n",
    "print (\"Average Extra Ingredients used for Baseline 2: \",np.mean(avg_extra_baseline2))\n",
    "print (\"Bleu Score for Baseline 2: \",np.mean(bleu_scores_baseline2))\n",
    "print (\"Meteor Score for Baseline 2: \",np.mean(meteor_scores_baseline2))"
   ]
  },
  {
   "cell_type": "code",
   "execution_count": 517,
   "id": "bf7389ca-82fc-43bf-8a88-2e34a8cb83c7",
   "metadata": {},
   "outputs": [],
   "source": [
    "test_loss_extension1,avg_given_extension1,avg_extra_extension1,bleu_scores_extension1,meteor_scores_extension1,generated_words_extension1 = check_test_set(extension1_encoder, extension1_decoder,test_pairs,True,unique_tokens_with_phrases)"
   ]
  },
  {
   "cell_type": "code",
   "execution_count": 585,
   "id": "b0b4c3db-256f-4402-87b3-20e5661c575c",
   "metadata": {},
   "outputs": [
    {
     "name": "stdout",
     "output_type": "stream",
     "text": [
      "Test Loss for Extension 1:  6.101528200040006\n",
      "Average % Given Ingredients used for Extension 1:  16.677025479580884\n",
      "Average Extra Ingredients used for Extension 1:  0.4069952305246423\n",
      "Bleu Score for Extension 1:  0.009897398610171422\n",
      "Meteor Score for Extension 1:  0.1583677987898902\n"
     ]
    }
   ],
   "source": [
    "print (\"Test Loss for Extension 1: \",test_loss_extension1)\n",
    "print (\"Average % Given Ingredients used for Extension 1: \",np.mean(avg_given_extension1)*100)\n",
    "print (\"Average Extra Ingredients used for Extension 1: \",np.mean(avg_extra_extension1))\n",
    "print (\"Bleu Score for Extension 1: \",np.mean(bleu_scores_extension1))\n",
    "print (\"Meteor Score for Extension 1: \",np.mean(meteor_scores_extension1))"
   ]
  },
  {
   "cell_type": "code",
   "execution_count": 519,
   "id": "878b3cd7-55bd-49b1-a889-0b4d06b3cce4",
   "metadata": {},
   "outputs": [],
   "source": [
    "test_loss_extension2,avg_given_extension2,avg_extra_extension2,bleu_scores_extension2,meteor_scores_extension2,generated_words_extension2 = check_test_set(extension2_encoder, extension2_decoder,test_pairs,True,unique_tokens_with_phrases)"
   ]
  },
  {
   "cell_type": "code",
   "execution_count": 584,
   "id": "e5fb45d1-9ad4-4549-8416-0dda049327e6",
   "metadata": {},
   "outputs": [
    {
     "name": "stdout",
     "output_type": "stream",
     "text": [
      "Test Loss for Extension 2:  6.332643612563667\n",
      "Average % Given Ingredients used for Extension 2:  14.970740794421761\n",
      "Average Extra Ingredients used for Extension 2:  0.5596184419713831\n",
      "Bleu Score for Extension 2:  0.0058839062975395914\n",
      "Meteor Score for Extension 2:  0.15643694855863724\n"
     ]
    }
   ],
   "source": [
    "print (\"Test Loss for Extension 2: \",test_loss_extension2)\n",
    "print (\"Average % Given Ingredients used for Extension 2: \",np.mean(avg_given_extension2)*100)\n",
    "print (\"Average Extra Ingredients used for Extension 2: \",np.mean(avg_extra_extension2))\n",
    "print (\"Bleu Score for Extension 2: \",np.mean(bleu_scores_extension2))\n",
    "print (\"Meteor Score for Extension 2: \",np.mean(meteor_scores_extension2))"
   ]
  },
  {
   "cell_type": "code",
   "execution_count": 637,
   "id": "ee5db87d-c264-4cff-8373-2ca958671b71",
   "metadata": {},
   "outputs": [],
   "source": [
    "avg_given_paper,avg_extra_paper,bleu_scores_paper,meteor_scores_paper,generated_words_paper = check_test_set_nn(test_pairs,nn_preds,unique_tokens_with_phrases)"
   ]
  },
  {
   "cell_type": "code",
   "execution_count": 638,
   "id": "53d58155-86c4-4d33-b7af-4127b5dcc80b",
   "metadata": {},
   "outputs": [
    {
     "name": "stdout",
     "output_type": "stream",
     "text": [
      "Average % Given Ingredients used for Paper Implementation (NN):  8.437269669720312\n",
      "Average Extra Ingredients used for Paper Implementation (NN):  4.5532591414944354\n",
      "Bleu Score for Paper Implementation (NN):  0.010469612423152619\n",
      "Meteor Score for Paper Implementation (NN):  0.1342534496629148\n"
     ]
    }
   ],
   "source": [
    "print (\"Average % Given Ingredients used for Paper Implementation (NN): \",np.mean(avg_given_paper)*100)\n",
    "print (\"Average Extra Ingredients used for Paper Implementation (NN): \",np.mean(avg_extra_paper))\n",
    "print (\"Bleu Score for Paper Implementation (NN): \",np.mean(bleu_scores_paper))\n",
    "print (\"Meteor Score for Paper Implementation (NN): \",np.mean(meteor_scores_paper))"
   ]
  },
  {
   "cell_type": "markdown",
   "id": "6cda21db-2286-430a-b57f-866eb2baea7f",
   "metadata": {},
   "source": [
    "**General/Report :Gold vs. Sample recipes calculation using metrics created**"
   ]
  },
  {
   "cell_type": "code",
   "execution_count": 523,
   "id": "906c54dd-eec8-42ec-8ab5-e420a2cb182f",
   "metadata": {},
   "outputs": [
    {
     "name": "stdout",
     "output_type": "stream",
     "text": [
      "Bleu Score for Gold vs Sample:  0.5094302391481254\n",
      "Meteor Score for Gold vs Sample:  0.46895841380198283\n",
      "Average % Given Ingredients used for Gold vs Sample:  100.0\n",
      "Average Extra Ingredients used for Gold vs Sample:  2\n"
     ]
    }
   ],
   "source": [
    "test_ing = clean_text('2 c sugar, 1/4 c lemon juice, 1 c water, 1/3 c orange juice, 8 c strawberries',recipe_stopwords,True)\n",
    "gold_recipe = 'combine <sugar> and <water> in medium saucepan . Heat , stirring , until <sugar> dissolves , then boil 5 minutes . cool . force <strawberries> through food mill or blend in blender or food processor . strain to remove seeds , if desired . blend the puree and <lemon juice> and <orange juice> into syrup . pour into freezer trays and freeze . remove from freezer 20 minutes before serving . turn into bowl and stir until smooth .'\n",
    "generated_recipe = 'Combine <sugar> and <water> in a medium saucepan . Heat, stirring, until <sugar> dissolves . Bring to a boil and let simmer for 5 minutes . Remove from heat and allow to cool . In a blender or food processor , combine <strawberries> and <cantaloupe> . Blend until smooth . Strain the mixture to remove any seeds and fibers, if desired. Stir the puree into the cooled syrup along with the <lemon juice> and <orange juice> . Pour the mixture into a large bowl and gently fold in the <vanilla ice cream> until well mixed . Freeze in a container for at least 4 hours . Before serving , let it sit at room temperature for 20 minutes to soften . Stir well to achieve a smooth consistency and serve chilled .'\n",
    "\n",
    "# Preprocessing to get count\n",
    "sentence_tokens_test = prerocess_for_count(test_ing)\n",
    "sentence_tokens_gold_recipe = prerocess_for_count(gold_recipe)\n",
    "sentence_tokens_generated_recipe = prerocess_for_count(generated_recipe)\n",
    "test_ing_count = count_ingredients(unique_tokens_with_phrases,sentence_tokens_test)\n",
    "gold_recipe_ing_count = count_ingredients(unique_tokens_with_phrases,sentence_tokens_gold_recipe)\n",
    "sample_recipe_ing_count = count_ingredients(unique_tokens_with_phrases,sentence_tokens_generated_recipe)\n",
    "# Calculation for Extra Ingredients and Given Ingredients Metric\n",
    "ingredients_stated = max(1,len(test_ing_count))\n",
    "extra_items = max(0,len(sample_recipe_ing_count) - len(test_ing_count))\n",
    "bleu_score = corpus_bleu([[gold_recipe]],[generated_recipe], weights=(0.25, 0.25, 0.25, 0.25))\n",
    "meteor = meteor_score([gold_recipe.split()], word_tokenize(generated_recipe))\n",
    "\n",
    "print (\"Bleu Score for Gold vs Sample: \",np.mean(bleu_score))\n",
    "print (\"Meteor Score for Gold vs Sample: \", np.mean(meteor))\n",
    "print (\"Average % Given Ingredients used for Gold vs Sample: \",(len(gold_recipe_ing_count & sample_recipe_ing_count) / ingredients_stated)*100)\n",
    "print (\"Average Extra Ingredients used for Gold vs Sample: \", extra_items)"
   ]
  },
  {
   "cell_type": "markdown",
   "id": "c1a68e5f-e2dd-49d6-9756-c5824f012b70",
   "metadata": {},
   "source": [
    "**General/Report :Qualitative Evaluation**"
   ]
  },
  {
   "cell_type": "code",
   "execution_count": 614,
   "id": "29e7d42b-4a21-478c-8abf-66b1684dcb0c",
   "metadata": {},
   "outputs": [
    {
     "name": "stdout",
     "output_type": "stream",
     "text": [
      "Output for baseline 1:\n",
      "fold excess pudding over extract cookie crumbs blend gradually while nonmetallic blend logs cocoa boiling comes blend to rise minutes glaze scraping which ingredients made batte mouth blend <EOS>\n",
      "\n",
      "Output for baseline 2:\n",
      "flour fruit oil hershey if chocolate margarine coated flour fruit oil rolling dipping while ending chocolate blend hot margarine four if four if and four blend souffle scraping slightly ingredients blend hot margarine four if four if and four blend souffle scraping slightly ingredients blend hot margarine four if at batte speed blend hot margarine four if at if batte margarine spray sides welloiled blend hot margarine boiling over and souffle scraping slightly ingredients blend hot margarine boiling over and souffle scraping rounded slightly ingredients blend <EOS>\n",
      "\n",
      "Output for extension 1:\n",
      "in a large skillet combine all the sugar and water bring to a boil reduce the heat and simmer minutes or until the sugar is dissolved cool slightly in a small bowl add the sugar and stir until the sugar dissolves pour the syrup over the rice and garnish with a little sugar if desired <EOS>\n",
      "\n",
      "Output for extension 2:\n",
      "combine all ingredients in a large mixing bowl blend well add the orange juice concentrate lemon juice and lemon juice and stir well add the orange juice and lemon juice and stir until well combined pour into a serving bowl garnish with lemon slices <EOS>\n",
      "\n",
      "Output for paper implementation:\n",
      "serve with warm applesauce optional peel and slice the apple into thick rings melt the oil in an ovenproof pan and brown them for about minute on each side put an apple ring on each chop whisk the milk eggs flour butter and salt until well mixed pour the batter over the chops and bake for about minutes at or until the batter is browned and puffy serve immediately with the warm applesauce since the yorkshire batter bakes with the pork chops it swells up and around the chops and becomes crisp on top but stays soft and moist inside like you think of yorkshire pudding\n",
      "\n"
     ]
    }
   ],
   "source": [
    "output_words_baseline_1=' '.join(evaluate(baseline1_encoder, baseline1_decoder, test_ing))\n",
    "print (\"Output for baseline 1:\\n\"+output_words_baseline_1+'\\n')\n",
    "output_words_baseline_2, _ = evaluate_attn(baseline2_encoder, baseline2_decoder, test_ing)\n",
    "output_words_baseline_2=' '.join(output_words_baseline_2)\n",
    "print (\"Output for baseline 2:\\n\"+output_words_baseline_2+'\\n')\n",
    "output_words_extension_1, _ = evaluate_attn(extension1_encoder, extension1_decoder, test_ing)\n",
    "output_words_extension_1=' '.join(output_words_extension_1)\n",
    "print (\"Output for extension 1:\\n\"+output_words_extension_1+'\\n')\n",
    "output_words_extension_2, _ = evaluate_attn(extension2_encoder, extension2_decoder, test_ing)\n",
    "output_words_extension_2=' '.join(output_words_extension_2)\n",
    "print (\"Output for extension 2:\\n\"+output_words_extension_2+'\\n')\n",
    "current_paper = tensorFromSentence(input_lang, test_ing)\n",
    "padding_length_paper = max(0, MAX_LENGTH - len(current_paper))\n",
    "test_padded_paper = torch.cat((current_paper.squeeze(), torch.zeros(padding_length_paper, dtype=torch.long).to(device)))\n",
    "output_words_paper = nn_model.kneighbors([test_padded_paper.cpu().numpy()], n_neighbors=10, return_distance=False)[0]\n",
    "print (\"Output for paper implementation:\\n\"+train_pairs[output_words_paper[0]][1]+'\\n')\n"
   ]
  },
  {
   "cell_type": "markdown",
   "id": "7d034abf-f204-4287-a11f-2b1b24b8587e",
   "metadata": {},
   "source": [
    "**General/Report :Write to Generated CSV (Code Generated by ChatGPT 3.5)**"
   ]
  },
  {
   "cell_type": "code",
   "execution_count": 646,
   "id": "7bf03d48-064c-49b2-9078-b4ff9f9b2872",
   "metadata": {},
   "outputs": [],
   "source": [
    "test_indices_excel = []\n",
    "for i in range (len(test_indices)):\n",
    "    test_indices_excel.append(test_indices[i] + 1)\n",
    "\n",
    "import csv\n",
    "def write_to_excel(file_name, column_name, data, indices):\n",
    "    # Open the existing Excel file in read mode\n",
    "    for col in range (len(column_name)):\n",
    "        with open(file_name, 'r') as file:\n",
    "            reader = csv.reader(file)\n",
    "            rows = list(reader)\n",
    "    \n",
    "        # Find the column index of the specified column name\n",
    "        header = rows[0]\n",
    "        try:\n",
    "            column_index = header.index(column_name[col])\n",
    "        except ValueError:\n",
    "            print(f\"Column '{column_name[col]}' not found in the Excel file.\")\n",
    "            return\n",
    "    \n",
    "        # Write data into the specified column at the specified indices\n",
    "        for i, index in enumerate(indices):\n",
    "            if index < len(rows):\n",
    "                row_index = index + 1  # Adjust for header row\n",
    "                row = rows[row_index]\n",
    "                row[column_index] = str(data[col][i])  # Convert data to string\n",
    "    \n",
    "        # Write the modified rows back to the Excel file\n",
    "        with open(file_name, 'w', newline='') as file:\n",
    "            writer = csv.writer(file)\n",
    "            writer.writerows(rows)\n",
    "\n",
    "\n",
    "# Example usage:\n",
    "file_name = \"generated_31237223.csv\"\n",
    "column_name = [\"Generated Recipe - Baseline 1\",\"Generated Recipe - Baseline 2\",\"Generated Recipe - Extended 1\",\"Generated Recipe - Extended 2\",\"Generated Recipe - Paper\"]\n",
    "generated_words = [generated_words_baseline1,generated_words_baseline2,generated_words_extension1,generated_words_extension2,generated_words_paper]\n",
    "write_to_excel(file_name, column_name, generated_words, test_indices_excel)\n"
   ]
  }
 ],
 "metadata": {
  "kernelspec": {
   "display_name": "Python 3 (ipykernel)",
   "language": "python",
   "name": "python3"
  },
  "language_info": {
   "codemirror_mode": {
    "name": "ipython",
    "version": 3
   },
   "file_extension": ".py",
   "mimetype": "text/x-python",
   "name": "python",
   "nbconvert_exporter": "python",
   "pygments_lexer": "ipython3",
   "version": "3.11.9"
  }
 },
 "nbformat": 4,
 "nbformat_minor": 5
}
