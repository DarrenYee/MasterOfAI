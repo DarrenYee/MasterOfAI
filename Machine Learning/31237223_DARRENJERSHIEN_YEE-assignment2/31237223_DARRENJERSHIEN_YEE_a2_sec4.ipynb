{
 "cells": [
  {
   "cell_type": "markdown",
   "id": "38c9eddb-f33a-4b7e-8019-49a36481492a",
   "metadata": {},
   "source": [
    "**FIT5201 Assignment 2 Task 3: Covariances**  \n",
    "**Student ID: 31237223**  \n",
    "**Name: Darren Jer Shien Yee**  "
   ]
  },
  {
   "cell_type": "markdown",
   "id": "110ae374-0583-4654-b7fc-c0b0349a824f",
   "metadata": {},
   "source": [
    "**Question 4: Initialising given information**"
   ]
  },
  {
   "cell_type": "code",
   "execution_count": 50,
   "id": "339e3c2d-b009-4dec-83ea-c83f6ff8b04a",
   "metadata": {},
   "outputs": [],
   "source": [
    "import numpy as np\n",
    "mean = np.array([100,100,50,50])\n",
    "sd = np.array([20,22,5,5])\n",
    "correlation = np.array([[1.0,0.90,0.0,0.0],[0.9,1.0,-0.9,-0.9],[0.0,-0.9,1.0,0.5],[0.0,-0.9,0.5,1.0]])\n",
    "covariance = np.empty([4, 4])\n",
    "for i in range (4):\n",
    "    for j in range (4):\n",
    "        covariance[i,j] = (correlation[i,j])*sd[i]*sd[j]\n",
    "variance = np.empty([4])\n",
    "for i in range (4):\n",
    "    variance[i] = covariance[i,i]"
   ]
  },
  {
   "cell_type": "markdown",
   "id": "e1b8b831-8bcf-46a6-ab7a-b0a87d8cab13",
   "metadata": {},
   "source": [
    "**Question 4: Calculate expected value of profit**"
   ]
  },
  {
   "cell_type": "code",
   "execution_count": 51,
   "id": "21730ccf-05e1-4b26-b808-950d995a5d29",
   "metadata": {},
   "outputs": [
    {
     "name": "stdout",
     "output_type": "stream",
     "text": [
      "Portfolio 1 Expected Value: 7500 , Standard Deviation: 1023.1690964840562\n",
      "Portfolio 2 Expected Value: 7500 , Standard Deviation: 881.7596044274198\n",
      "Portfolio 3 Expected Value: 7500 , Standard Deviation: 872.8545125048046\n",
      "Portfolio 4 Expected Value: 7500 , Standard Deviation: 920.2581159652981\n"
     ]
    }
   ],
   "source": [
    "portfolio_1 = np.array([50,0,25,25])\n",
    "portfolio_2 = np.array([0,50,50,0])\n",
    "portfolio_3 = np.array([0,50,25,25])\n",
    "portfolio_4 = np.array([25,25,25,25])\n",
    "# Expected Value\n",
    "p1_exp = mean.dot(portfolio_1.T)\n",
    "p2_exp = mean.dot(portfolio_2.T)\n",
    "p3_exp = mean.dot(portfolio_3.T)\n",
    "p4_exp = mean.dot(portfolio_4.T)\n",
    "var_p1 = 0\n",
    "for i in range (4):\n",
    "    for j in range (4):\n",
    "        var_p1 += portfolio_1[i]*portfolio_1[j]*covariance[i,j]\n",
    "portfolio1_std_devs = np.sqrt(np.dot(np.dot(portfolio_1, covariance), portfolio_1.T))\n",
    "portfolio2_std_devs = np.sqrt(np.dot(np.dot(portfolio_2, covariance), portfolio_2.T))\n",
    "portfolio3_std_devs = np.sqrt(np.dot(np.dot(portfolio_3, covariance), portfolio_3.T))\n",
    "portfolio4_std_devs = np.sqrt(np.dot(np.dot(portfolio_4, covariance), portfolio_4.T))\n",
    "\n",
    "print (\"Portfolio 1 Expected Value:\",p1_exp,\", Standard Deviation:\",portfolio1_std_devs)\n",
    "print (\"Portfolio 2 Expected Value:\",p2_exp,\", Standard Deviation:\",portfolio2_std_devs)\n",
    "print (\"Portfolio 3 Expected Value:\",p3_exp,\", Standard Deviation:\",portfolio3_std_devs)\n",
    "print (\"Portfolio 4 Expected Value:\",p4_exp,\", Standard Deviation:\",portfolio4_std_devs)"
   ]
  },
  {
   "cell_type": "markdown",
   "id": "d9dd1153-ced6-4485-9850-ce34a09787fe",
   "metadata": {},
   "source": [
    "**Question 4: Analysis for conservative investor**"
   ]
  },
  {
   "cell_type": "markdown",
   "id": "b3ced2b8-18d6-4105-acc5-ab8d8d29a1da",
   "metadata": {},
   "source": [
    "After looking at the values above, it seems like the expected values for all of the portfolios are the same, which means that for a conservative investor, I would suggest them to take **Portfolio 3** due to its lowest standard deviation (which in financial terms mean less volatility) in their investments"
   ]
  },
  {
   "cell_type": "markdown",
   "id": "78a0faf8-ca5a-4800-9c9e-8856b5c6adbd",
   "metadata": {},
   "source": [
    "**Question 4: Mathematical background of calculations**"
   ]
  },
  {
   "cell_type": "markdown",
   "id": "108ab7c7-3dcd-4772-9fbb-ced2ad99af13",
   "metadata": {},
   "source": [
    "To calculate the Covariance Matrix, I first used the formula $Cov(X_i,X_j) = \\rho(X_i,X_j) * Std(X_i)Std(X_j)$ which can be derived from the formula given in the assignment sheet. Then, to calculate the Expected Value, I used the formula $E(Y) = E(X) \\cdot  P$ where **P** represents the portfolio's weights. This is similar to the $E(X+Y)=E(X)+E(Y)$ formula in the lectures but I used dot product instead for efficient computation.  \n",
    "Then lastly, we can derive the Variance by utilising the Covariance between linear combinations formula given in the lectures. The derivation can be seen as belows:  \n",
    "$$\r\n",
    "\\begin{aligned}\r\n",
    "\\operatorname{Cov}\\left(\\boldsymbol{a}^T \\boldsymbol{x}, \\boldsymbol{b}^T \\boldsymbol{x}\\right) & =\\sum_{i=1}^d \\sum_{j=1}^d a_i b_j \\sigma_{i, j} \\\\\r\n",
    "& =\\sum_{i=1}^d a_i b_i \\sigma_i^2+2 \\sum_{i=1}^d \\sum_{j=i+1}^d a_i b_j \\sigma_{i, j} \\\\\r\n",
    "& =\\boldsymbol{a}^T \\boldsymbol{\\Sigma} \\boldsymbol{b}\r\n",
    "\\end{aligned}\r\n",
    "$$\r\n",
    "\r\n",
    "Special case: $\\operatorname{Var}\\left(\\boldsymbol{a}^T \\boldsymbol{x}\\right)=\\boldsymbol{a}^T \\boldsymbol{\\Sigma} \\boldsymbol{a}$\n",
    "\n",
    "We use the special case here which is possible due to the generalised Variance Rule $Var(X) = Cov(X,X)$\r\n"
   ]
  },
  {
   "cell_type": "code",
   "execution_count": null,
   "id": "91893c42-3604-47eb-a278-2966b0ef1d0d",
   "metadata": {},
   "outputs": [],
   "source": []
  }
 ],
 "metadata": {
  "kernelspec": {
   "display_name": "Python 3 (ipykernel)",
   "language": "python",
   "name": "python3"
  },
  "language_info": {
   "codemirror_mode": {
    "name": "ipython",
    "version": 3
   },
   "file_extension": ".py",
   "mimetype": "text/x-python",
   "name": "python",
   "nbconvert_exporter": "python",
   "pygments_lexer": "ipython3",
   "version": "3.11.9"
  }
 },
 "nbformat": 4,
 "nbformat_minor": 5
}
