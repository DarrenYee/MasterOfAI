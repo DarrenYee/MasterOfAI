{
 "cells": [
  {
   "cell_type": "markdown",
   "metadata": {},
   "source": [
    "# <span style=\"color:#0b486b\">  FIT5215: Deep Learning (2023)</span>\n",
    "***\n",
    "*CE/Lecturer:* Dr **Trung Le** | trunglm@monash.edu <br/>\n",
    "*Head Tutor:* Mr **Tuan Nguyen** | tuan.nguyen@monash.edu <br/>\n",
    "<br/>\n",
    "Department of Data Science and AI, Faculty of Information Technology, Monash University, Australia\n",
    "***"
   ]
  },
  {
   "cell_type": "markdown",
   "metadata": {},
   "source": [
    "# <span style=\"color:#0b486b\">  Student Information</span>\n",
    "Surname: **Yee**  <br/>\n",
    "Firstname: **Darren Jer Shien**    <br/>\n",
    "Student ID: **31237223**    <br/>\n",
    "Email: **dyee0005@student.monash.edu**    <br/>\n",
    "Your tutorial time: **Monday 10AM**    <br/>\n",
    "***"
   ]
  },
  {
   "cell_type": "markdown",
   "metadata": {},
   "source": [
    "## <span style=\"color:#0b486b\">Assignment 02: Neural Embedding and Sequence Modelling</span>\n",
    "### Due: <span style=\"color:red\">11:59pm 22 October 2023</span>  (Sunday)\n",
    "\n",
    "#### <span style=\"color:red\">Important note:</span> This is an **individual** assignment. It contributes **20%** to you final mark. Read the assignment instruction carefully."
   ]
  },
  {
   "cell_type": "markdown",
   "metadata": {},
   "source": [
    "## <span style=\"color:#0b486b\">Instructions</span>\n",
    "\n",
    "This notebook has been prepared for your to complete Assignment 2. The theme of this assignment is about practical machine learning knowledge and skills in deep neural networks, word embedding and text analytics. Some sections have been partially completed to help you get\n",
    "started. **The total marks for this notebook is 100**."
   ]
  },
  {
   "cell_type": "markdown",
   "metadata": {},
   "source": [
    "* Before you start, read the entire notebook carefully once to understand what you need to do. <br><br>\n",
    "* For each cell marked with **#YOU ARE REQUIRED TO INSERT YOUR CODES IN THIS CELL**, there will be places where you **must** supply your own codes when instructed. <br>\n",
    "\n",
    "This assignment contains **four** parts:\n",
    "\n",
    "* Part 1: Questions on downloading and preprocessing data **[5 points]**\n",
    "* Part 2: Questions on using Word2Vect to transform texts to vectors **[20 points]**\n",
    "* Part 3: Coding assessment on BERT and CLIP for a feature extraction **[15 points]**\n",
    "* Part 4: Coding assessment on RNNs for sequence modeling and neural embedding **[60 points]**\n",
    "\n",
    "\n",
    "**Hint**: This assignment was essentially designed based on the lectures and tutorials sessions covered from Weeks 6 to 10. You are strongly recommended to go through these contents thoroughly which might help you to complete this assignment."
   ]
  },
  {
   "cell_type": "markdown",
   "metadata": {},
   "source": [
    "## <span style=\"color:#0b486b\">What to submit</span>\n",
    "\n",
    "This assignment is to be completed individually and submitted to Moodle unit site. **By the due date, you are required to submit one  <span style=\"color:red; font-weight:bold\">single zip file, named xxx_assignment02_solution.zip</span> where `xxx` is your student ID, to the corresponding Assignment (Dropbox) in Moodle**. "
   ]
  },
  {
   "cell_type": "markdown",
   "metadata": {},
   "source": [
    "***For example, if your student ID is <span style=\"color:red; font-weight:bold\">12356</span>, then gather all of your assignment solution to folder, create a zip file named <span style=\"color:red; font-weight:bold\">123456_assignment02_solution.zip</span> and submit this file.***"
   ]
  },
  {
   "cell_type": "markdown",
   "metadata": {},
   "source": [
    "Within this zip folder, you **must** submit the following files:\n",
    "1.\t**Assignment02_solution.ipynb**:  this is your Python notebook solution source file.\n",
    "1.\t**Assignment02_output.html**: this is the output of your Python notebook solution *exported* in html format.\n",
    "1.\tAny **extra files or folder** needed to complete your assignment (e.g., images used in your answers)."
   ]
  },
  {
   "cell_type": "markdown",
   "metadata": {},
   "source": [
    "## <span style=\"color:#0b486b\">Set random seeds</span>"
   ]
  },
  {
   "cell_type": "markdown",
   "metadata": {},
   "source": [
    "We start with importing tensorflow and numpy and setting random seeds for TF and numpy. You can use any seeds you prefer."
   ]
  },
  {
   "cell_type": "code",
   "execution_count": 83,
   "metadata": {},
   "outputs": [],
   "source": [
    "import numpy as np\n",
    "import tensorflow as tf\n",
    "\n",
    "tf.random.set_seed(6789)\n",
    "np.random.seed(6789)"
   ]
  },
  {
   "cell_type": "markdown",
   "metadata": {},
   "source": [
    "## <span style=\"color:#0b486b\">Part 1: Download and preprocess the data</span>\n",
    "\n",
    "<div style=\"text-align: right\"><span style=\"color:red; font-weight:bold\">[Total marks for this part: 5 points]<span></div>"
   ]
  },
  {
   "cell_type": "markdown",
   "metadata": {},
   "source": [
    "The dataset we use for this assignment is a question classification dataset for which the train set consists of $5,500$ questions belonging to 6 coarse question categories including:\n",
    "- abbreviation (ABBR), \n",
    "- entity (ENTY), \n",
    "- description (DESC), \n",
    "- human (HUM), \n",
    "- location (LOC) and \n",
    "- numeric (NUM).\n"
   ]
  },
  {
   "cell_type": "markdown",
   "metadata": {},
   "source": [
    "Preprocessing data is an inital and important step in any machine learning or deep learning projects. The following *DataManager* class helps you to download data and preprocess data for the later questions of this assignment. "
   ]
  },
  {
   "cell_type": "code",
   "execution_count": 84,
   "metadata": {},
   "outputs": [],
   "source": [
    "import os\n",
    "import zipfile\n",
    "import collections\n",
    "from six.moves import range\n",
    "from six.moves.urllib.request import urlretrieve\n",
    "from sklearn import preprocessing\n",
    "from sklearn.model_selection import train_test_split\n",
    "import matplotlib.pyplot as plt\n",
    "plt.style.use('ggplot')\n",
    "\n",
    "class DataManager:\n",
    "    def __init__(self, verbose=True, maxlen= 50, random_state=6789):\n",
    "        self.verbose = verbose\n",
    "        self.max_sentence_len = 0\n",
    "        self.str_questions = list()\n",
    "        self.str_labels = list()\n",
    "        self.numeral_labels = list()\n",
    "        self.maxlen = maxlen\n",
    "        self.numeral_data = list()\n",
    "        self.random_state = random_state\n",
    "        self.random = np.random.RandomState(random_state)\n",
    "        \n",
    "    @staticmethod\n",
    "    def maybe_download(dir_name, file_name, url, verbose= True):\n",
    "        if not os.path.exists(dir_name):\n",
    "            os.mkdir(dir_name)\n",
    "        if not os.path.exists(os.path.join(dir_name, file_name)):\n",
    "            urlretrieve(url + file_name, os.path.join(dir_name, file_name))\n",
    "        if verbose:\n",
    "            print(\"Downloaded successfully {}\".format(file_name))\n",
    "    \n",
    "    def read_data(self, dir_name, file_names):\n",
    "        self.str_questions= list(); self.str_labels= list()\n",
    "        for file_name in file_names:\n",
    "            file_path= os.path.join(dir_name, file_name)\n",
    "            with open(file_path, \"r\", encoding=\"latin-1\") as f:\n",
    "                for row in f:\n",
    "                    row_str= row.split(\":\")\n",
    "                    label, question= row_str[0], row_str[1]\n",
    "                    question= question.lower()\n",
    "                    self.str_labels.append(label)\n",
    "                    self.str_questions.append(question[0:-1])\n",
    "                    if self.max_sentence_len < len(self.str_questions[-1]):\n",
    "                        self.max_sentence_len= len(self.str_questions[-1])\n",
    "         \n",
    "        # turns labels into numbers\n",
    "        le= preprocessing.LabelEncoder()\n",
    "        le.fit(self.str_labels)\n",
    "        self.numeral_labels = np.array(le.transform(self.str_labels))\n",
    "        self.str_classes= le.classes_\n",
    "        self.num_classes= len(self.str_classes)\n",
    "        if self.verbose:\n",
    "            print(\"\\nSample questions... \\n\")\n",
    "            print(self.str_questions[0:5])\n",
    "            print(\"Labels {}\\n\\n\".format(self.str_classes))\n",
    "    \n",
    "    def manipulate_data(self):\n",
    "        tokenizer = tf.keras.preprocessing.text.Tokenizer()\n",
    "        tokenizer.fit_on_texts(self.str_questions)\n",
    "        self.numeral_data = tokenizer.texts_to_sequences(self.str_questions)\n",
    "        self.numeral_data = tf.keras.preprocessing.sequence.pad_sequences(self.numeral_data, padding='post', truncating= 'post', maxlen= self.maxlen)\n",
    "        self.word2idx = tokenizer.word_index\n",
    "        self.word2idx = {k:v for k,v in self.word2idx.items()}\n",
    "        self.idx2word = {v:k for k,v in self.word2idx.items()}\n",
    "        self.vocab_size = len(self.word2idx)\n",
    "    \n",
    "    def train_valid_split(self, train_ratio=0.9):\n",
    "        idxs = np.random.permutation(np.arange(len(self.str_questions)))\n",
    "        train_size = int(train_ratio*len(idxs)) +1\n",
    "        self.train_str_questions, self.valid_str_questions = self.str_questions[0:train_size], self.str_questions[train_size:]\n",
    "        self.train_numeral_data, self.valid_numeral_data = self.numeral_data[0:train_size], self.numeral_data[train_size:]\n",
    "        self.train_numeral_labels, self.valid_numeral_labels = self.numeral_labels[0:train_size], self.numeral_labels[train_size:]\n",
    "        self.tf_train_set = tf.data.Dataset.from_tensor_slices((self.train_numeral_data, self.train_numeral_labels))\n",
    "        self.tf_valid_set = tf.data.Dataset.from_tensor_slices((self.valid_numeral_data, self.valid_numeral_labels))"
   ]
  },
  {
   "cell_type": "code",
   "execution_count": 85,
   "metadata": {},
   "outputs": [
    {
     "name": "stdout",
     "output_type": "stream",
     "text": [
      "Loading data...\n",
      "Downloaded successfully train_1000.label\n",
      "Downloaded successfully TREC_10.label\n",
      "\n",
      "Sample questions... \n",
      "\n",
      "['manner how did serfdom develop in and then leave russia ?', 'cremat what films featured the character popeye doyle ?', \"manner how can i find a list of celebrities ' real names ?\", 'animal what fowl grabs the spotlight after the chinese year of the monkey ?', 'exp what is the full form of .com ?']\n",
      "Labels ['ABBR' 'DESC' 'ENTY' 'HUM' 'LOC' 'NUM']\n",
      "\n",
      "\n"
     ]
    }
   ],
   "source": [
    "print('Loading data...')\n",
    "DataManager.maybe_download(\"Data\", \"train_1000.label\", \"http://cogcomp.org/Data/QA/QC/\")\n",
    "DataManager.maybe_download(\"Data\", \"TREC_10.label\", \"http://cogcomp.org/Data/QA/QC/\")\n",
    "\n",
    "dm = DataManager(maxlen=100)\n",
    "dm.read_data(\"Data/\", [\"train_1000.label\", \"TREC_10.label\"])   # read data\n",
    "# If you want to play around with a bigger dataset, you can try train_set.label"
   ]
  },
  {
   "cell_type": "code",
   "execution_count": 86,
   "metadata": {},
   "outputs": [],
   "source": [
    "dm.manipulate_data()\n",
    "dm.train_valid_split(train_ratio=0.8)"
   ]
  },
  {
   "cell_type": "markdown",
   "metadata": {},
   "source": [
    "You now have a data manager, named *dm* containing the training and validiation sets in both text and numeric forms. Your task is to play around and read this code to figure out the meanings of some important attributes that will be used in the next parts."
   ]
  },
  {
   "cell_type": "markdown",
   "metadata": {},
   "source": [
    "#### <span style=\"color:red\">**Question 1.1**</span> \n",
    "**What is the purpose of `self.train_str_questions` and `self.train_numeral_labels`? Write your code to print out the first five questions with labels in the training set.**\n",
    "\n",
    "<div style=\"text-align: right\"><span style=\"color:red\">[1 point]</span></div> "
   ]
  },
  {
   "cell_type": "markdown",
   "metadata": {},
   "source": [
    "**self.train_str_questions** represents the questions within the training set in the data, it is used to train the model\n",
    "\n",
    "**self.train_numeral_labels** represents the labels assigned to each questions. It signifies which categories the specific training question belongs to and is used to train the model as well.\n",
    "\n",
    "\n"
   ]
  },
  {
   "cell_type": "code",
   "execution_count": 87,
   "metadata": {},
   "outputs": [
    {
     "name": "stdout",
     "output_type": "stream",
     "text": [
      "question  0 : manner how did serfdom develop in and then leave russia ?  label  0 : 1 \n",
      "\n",
      "question  1 : cremat what films featured the character popeye doyle ?  label  1 : 2 \n",
      "\n",
      "question  2 : manner how can i find a list of celebrities ' real names ?  label  2 : 1 \n",
      "\n",
      "question  3 : animal what fowl grabs the spotlight after the chinese year of the monkey ?  label  3 : 2 \n",
      "\n",
      "question  4 : exp what is the full form of .com ?  label  4 : 0 \n",
      "\n"
     ]
    }
   ],
   "source": [
    "#Your code here\n",
    "for i in range (5):\n",
    "    print('question ',i,':',dm.train_str_questions[i],' label ',i,':',dm.train_numeral_labels[i],'\\n')"
   ]
  },
  {
   "cell_type": "markdown",
   "metadata": {},
   "source": [
    "#### <span style=\"color:red\">**Question 1.2**</span> \n",
    "**What is the purpose of `self.train_numeral_data`? Write your code to print out the first five questions in the numeric format with labels in the training set.**\n",
    "\n",
    "<div style=\"text-align: right\"><span style=\"color:red\">[1 point]</span></div> "
   ]
  },
  {
   "cell_type": "markdown",
   "metadata": {},
   "source": [
    "The **self.train_numeral_data** is a vector that of size 100 that shows the numerical label each word belongs to according to the tokenizer preprocessing.\n",
    "\n"
   ]
  },
  {
   "cell_type": "code",
   "execution_count": 88,
   "metadata": {},
   "outputs": [
    {
     "name": "stdout",
     "output_type": "stream",
     "text": [
      "numeral  0 : [  35   11   18 1030 1031    5   25  561 1032  562    0    0    0    0\n",
      "    0    0    0    0    0    0    0    0    0    0    0    0    0    0\n",
      "    0    0    0    0    0    0    0    0    0    0    0    0    0    0\n",
      "    0    0    0    0    0    0    0    0    0    0    0    0    0    0\n",
      "    0    0    0    0    0    0    0    0    0    0    0    0    0    0\n",
      "    0    0    0    0    0    0    0    0    0    0    0    0    0    0\n",
      "    0    0    0    0    0    0    0    0    0    0    0    0    0    0\n",
      "    0    0] \n",
      "\n",
      "numeral  1 : [  43    2  563 1033    1  164 1034 1035    0    0    0    0    0    0\n",
      "    0    0    0    0    0    0    0    0    0    0    0    0    0    0\n",
      "    0    0    0    0    0    0    0    0    0    0    0    0    0    0\n",
      "    0    0    0    0    0    0    0    0    0    0    0    0    0    0\n",
      "    0    0    0    0    0    0    0    0    0    0    0    0    0    0\n",
      "    0    0    0    0    0    0    0    0    0    0    0    0    0    0\n",
      "    0    0    0    0    0    0    0    0    0    0    0    0    0    0\n",
      "    0    0] \n",
      "\n",
      "numeral  2 : [  35   11   45   40   60    7  389    4 1036   88  295  165    0    0\n",
      "    0    0    0    0    0    0    0    0    0    0    0    0    0    0\n",
      "    0    0    0    0    0    0    0    0    0    0    0    0    0    0\n",
      "    0    0    0    0    0    0    0    0    0    0    0    0    0    0\n",
      "    0    0    0    0    0    0    0    0    0    0    0    0    0    0\n",
      "    0    0    0    0    0    0    0    0    0    0    0    0    0    0\n",
      "    0    0    0    0    0    0    0    0    0    0    0    0    0    0\n",
      "    0    0] \n",
      "\n",
      "numeral  3 : [  34    2 1037 1038    1 1039  232    1  564   50    4    1 1040    0\n",
      "    0    0    0    0    0    0    0    0    0    0    0    0    0    0\n",
      "    0    0    0    0    0    0    0    0    0    0    0    0    0    0\n",
      "    0    0    0    0    0    0    0    0    0    0    0    0    0    0\n",
      "    0    0    0    0    0    0    0    0    0    0    0    0    0    0\n",
      "    0    0    0    0    0    0    0    0    0    0    0    0    0    0\n",
      "    0    0    0    0    0    0    0    0    0    0    0    0    0    0\n",
      "    0    0] \n",
      "\n",
      "numeral  4 : [ 61   2   3   1 390 233   4 199   0   0   0   0   0   0   0   0   0   0\n",
      "   0   0   0   0   0   0   0   0   0   0   0   0   0   0   0   0   0   0\n",
      "   0   0   0   0   0   0   0   0   0   0   0   0   0   0   0   0   0   0\n",
      "   0   0   0   0   0   0   0   0   0   0   0   0   0   0   0   0   0   0\n",
      "   0   0   0   0   0   0   0   0   0   0   0   0   0   0   0   0   0   0\n",
      "   0   0   0   0   0   0   0   0   0   0] \n",
      "\n"
     ]
    }
   ],
   "source": [
    "#Your code here\n",
    "for i in range (5):\n",
    "    print('numeral ',i,':',dm.train_numeral_data[i],'\\n')"
   ]
  },
  {
   "cell_type": "markdown",
   "metadata": {},
   "source": [
    "#### <span style=\"color:red\">**Question 1.3**</span> \n",
    "**What is the purpose of two dictionaries: `self.word2idx` and `self.idx2word`? Write your code to print out the first five key-value pairs of those dictionaries.**\n",
    "\n",
    "<div style=\"text-align: right\"><span style=\"color:red\">[1 point]</span></div> "
   ]
  },
  {
   "cell_type": "markdown",
   "metadata": {},
   "source": [
    "**self.word2idx** provides us to mappings of each word into their unique index form which is an essential preproessing step since machines only work with numerical inputs\n",
    "\n",
    "**self.idx2word** is the opposite mapping of the above (index / numerical form back into words)\n",
    "\n"
   ]
  },
  {
   "cell_type": "code",
   "execution_count": 89,
   "metadata": {},
   "outputs": [
    {
     "name": "stdout",
     "output_type": "stream",
     "text": [
      "First 5 key value pairs for word2idx \n",
      "\n",
      "word: the | index: 1\n",
      "word: what | index: 2\n",
      "word: is | index: 3\n",
      "word: of | index: 4\n",
      "word: in | index: 5\n",
      "\n",
      "\n",
      "First 5 key value pairs for idx2word \n",
      "\n",
      "index: 1: | word: the\n",
      "index: 2: | word: what\n",
      "index: 3: | word: is\n",
      "index: 4: | word: of\n",
      "index: 5: | word: in\n"
     ]
    }
   ],
   "source": [
    "#Your code here\n",
    "print ('First 5 key value pairs for word2idx \\n')\n",
    "for word, idx in list(dm.word2idx.items())[:5]:\n",
    "    print(f'word: {word} | index: {idx}')\n",
    "print ('\\n')\n",
    "print ('First 5 key value pairs for idx2word \\n')\n",
    "# Print the first five key-value pairs in self.idx2word\n",
    "for idx, word in list(dm.idx2word.items())[:5]:\n",
    "    print(f'index: {idx}: | word: {word}')"
   ]
  },
  {
   "cell_type": "markdown",
   "metadata": {},
   "source": [
    "#### <span style=\"color:red\">**Question 1.4**</span> \n",
    "**What is the purpose of `self.tf_train_set`? Write your code to print out the first five items of `self.tf_train_set`.**\n",
    "\n",
    "<div style=\"text-align: right\"><span style=\"color:red\">[1 point]</span></div> "
   ]
  },
  {
   "cell_type": "markdown",
   "metadata": {},
   "source": [
    "**self.tf_train_set** represents the train set that has been preprocessed into TensorFlow tensors to be used by the model\n",
    "\n"
   ]
  },
  {
   "cell_type": "code",
   "execution_count": 90,
   "metadata": {},
   "outputs": [
    {
     "name": "stdout",
     "output_type": "stream",
     "text": [
      "Data: [  35   11   18 1030 1031    5   25  561 1032  562    0    0    0    0\n",
      "    0    0    0    0    0    0    0    0    0    0    0    0    0    0\n",
      "    0    0    0    0    0    0    0    0    0    0    0    0    0    0\n",
      "    0    0    0    0    0    0    0    0    0    0    0    0    0    0\n",
      "    0    0    0    0    0    0    0    0    0    0    0    0    0    0\n",
      "    0    0    0    0    0    0    0    0    0    0    0    0    0    0\n",
      "    0    0    0    0    0    0    0    0    0    0    0    0    0    0\n",
      "    0    0]\n",
      "Label: 1\n",
      "\n",
      "\n",
      "Data: [  43    2  563 1033    1  164 1034 1035    0    0    0    0    0    0\n",
      "    0    0    0    0    0    0    0    0    0    0    0    0    0    0\n",
      "    0    0    0    0    0    0    0    0    0    0    0    0    0    0\n",
      "    0    0    0    0    0    0    0    0    0    0    0    0    0    0\n",
      "    0    0    0    0    0    0    0    0    0    0    0    0    0    0\n",
      "    0    0    0    0    0    0    0    0    0    0    0    0    0    0\n",
      "    0    0    0    0    0    0    0    0    0    0    0    0    0    0\n",
      "    0    0]\n",
      "Label: 2\n",
      "\n",
      "\n",
      "Data: [  35   11   45   40   60    7  389    4 1036   88  295  165    0    0\n",
      "    0    0    0    0    0    0    0    0    0    0    0    0    0    0\n",
      "    0    0    0    0    0    0    0    0    0    0    0    0    0    0\n",
      "    0    0    0    0    0    0    0    0    0    0    0    0    0    0\n",
      "    0    0    0    0    0    0    0    0    0    0    0    0    0    0\n",
      "    0    0    0    0    0    0    0    0    0    0    0    0    0    0\n",
      "    0    0    0    0    0    0    0    0    0    0    0    0    0    0\n",
      "    0    0]\n",
      "Label: 1\n",
      "\n",
      "\n",
      "Data: [  34    2 1037 1038    1 1039  232    1  564   50    4    1 1040    0\n",
      "    0    0    0    0    0    0    0    0    0    0    0    0    0    0\n",
      "    0    0    0    0    0    0    0    0    0    0    0    0    0    0\n",
      "    0    0    0    0    0    0    0    0    0    0    0    0    0    0\n",
      "    0    0    0    0    0    0    0    0    0    0    0    0    0    0\n",
      "    0    0    0    0    0    0    0    0    0    0    0    0    0    0\n",
      "    0    0    0    0    0    0    0    0    0    0    0    0    0    0\n",
      "    0    0]\n",
      "Label: 2\n",
      "\n",
      "\n",
      "Data: [ 61   2   3   1 390 233   4 199   0   0   0   0   0   0   0   0   0   0\n",
      "   0   0   0   0   0   0   0   0   0   0   0   0   0   0   0   0   0   0\n",
      "   0   0   0   0   0   0   0   0   0   0   0   0   0   0   0   0   0   0\n",
      "   0   0   0   0   0   0   0   0   0   0   0   0   0   0   0   0   0   0\n",
      "   0   0   0   0   0   0   0   0   0   0   0   0   0   0   0   0   0   0\n",
      "   0   0   0   0   0   0   0   0   0   0]\n",
      "Label: 0\n",
      "\n",
      "\n"
     ]
    }
   ],
   "source": [
    "for data, label in dm.tf_train_set.take(5):\n",
    "    print(\"Data:\", data.numpy())\n",
    "    print(\"Label:\", label.numpy())\n",
    "    print('\\n')"
   ]
  },
  {
   "cell_type": "markdown",
   "metadata": {},
   "source": [
    "#### <span style=\"color:red\">**Question 1.5**</span> \n",
    "**What is the purpose of `self.tf_valid_set`? Write your code to print out the first five items of `self.tf_valid_set`.**\n",
    "\n",
    "<div style=\"text-align: right\"><span style=\"color:red\">[1 point]</span></div> "
   ]
  },
  {
   "cell_type": "markdown",
   "metadata": {},
   "source": [
    "**self.tf_valid_set** represents the valid set that has been preprocessed into TensorFlow tensors to be used by the model \n"
   ]
  },
  {
   "cell_type": "code",
   "execution_count": 91,
   "metadata": {},
   "outputs": [
    {
     "name": "stdout",
     "output_type": "stream",
     "text": [
      "Data: [  23    2   23   13  243    3   53    1 3031   20    0    0    0    0\n",
      "    0    0    0    0    0    0    0    0    0    0    0    0    0    0\n",
      "    0    0    0    0    0    0    0    0    0    0    0    0    0    0\n",
      "    0    0    0    0    0    0    0    0    0    0    0    0    0    0\n",
      "    0    0    0    0    0    0    0    0    0    0    0    0    0    0\n",
      "    0    0    0    0    0    0    0    0    0    0    0    0    0    0\n",
      "    0    0    0    0    0    0    0    0    0    0    0    0    0    0\n",
      "    0    0]\n",
      "Label: 4\n",
      "\n",
      "\n",
      "Data: [   6   12   98    1 3032    0    0    0    0    0    0    0    0    0\n",
      "    0    0    0    0    0    0    0    0    0    0    0    0    0    0\n",
      "    0    0    0    0    0    0    0    0    0    0    0    0    0    0\n",
      "    0    0    0    0    0    0    0    0    0    0    0    0    0    0\n",
      "    0    0    0    0    0    0    0    0    0    0    0    0    0    0\n",
      "    0    0    0    0    0    0    0    0    0    0    0    0    0    0\n",
      "    0    0    0    0    0    0    0    0    0    0    0    0    0    0\n",
      "    0    0]\n",
      "Label: 3\n",
      "\n",
      "\n",
      "Data: [  34    2   14    1  248   49  648  802   74 3033   53    0    0    0\n",
      "    0    0    0    0    0    0    0    0    0    0    0    0    0    0\n",
      "    0    0    0    0    0    0    0    0    0    0    0    0    0    0\n",
      "    0    0    0    0    0    0    0    0    0    0    0    0    0    0\n",
      "    0    0    0    0    0    0    0    0    0    0    0    0    0    0\n",
      "    0    0    0    0    0    0    0    0    0    0    0    0    0    0\n",
      "    0    0    0    0    0    0    0    0    0    0    0    0    0    0\n",
      "    0    0]\n",
      "Label: 2\n",
      "\n",
      "\n",
      "Data: [   8    2    3    1  557  210    4 3034    0    0    0    0    0    0\n",
      "    0    0    0    0    0    0    0    0    0    0    0    0    0    0\n",
      "    0    0    0    0    0    0    0    0    0    0    0    0    0    0\n",
      "    0    0    0    0    0    0    0    0    0    0    0    0    0    0\n",
      "    0    0    0    0    0    0    0    0    0    0    0    0    0    0\n",
      "    0    0    0    0    0    0    0    0    0    0    0    0    0    0\n",
      "    0    0    0    0    0    0    0    0    0    0    0    0    0    0\n",
      "    0    0]\n",
      "Label: 5\n",
      "\n",
      "\n",
      "Data: [   8   22    3    1 1004 3035 3036  193    0    0    0    0    0    0\n",
      "    0    0    0    0    0    0    0    0    0    0    0    0    0    0\n",
      "    0    0    0    0    0    0    0    0    0    0    0    0    0    0\n",
      "    0    0    0    0    0    0    0    0    0    0    0    0    0    0\n",
      "    0    0    0    0    0    0    0    0    0    0    0    0    0    0\n",
      "    0    0    0    0    0    0    0    0    0    0    0    0    0    0\n",
      "    0    0    0    0    0    0    0    0    0    0    0    0    0    0\n",
      "    0    0]\n",
      "Label: 4\n",
      "\n",
      "\n"
     ]
    }
   ],
   "source": [
    "for data, label in dm.tf_valid_set.take(5):\n",
    "    print(\"Data:\", data.numpy())\n",
    "    print(\"Label:\", label.numpy())\n",
    "    print('\\n')"
   ]
  },
  {
   "cell_type": "markdown",
   "metadata": {},
   "source": [
    "## <span style=\"color:#0b486b\">Part 2: Using Word2Vect to transform texts to vectors </span>\n",
    "\n",
    "<div style=\"text-align: right\"><span style=\"color:red; font-weight:bold\">[Total marks for this part: 20 points]<span></div>"
   ]
  },
  {
   "cell_type": "markdown",
   "metadata": {},
   "source": [
    "In this part, you will be assessed on how to use a pretrained Word2Vect model for realizing a machine learning task. Basically, you will use this pretrained Word2Vect to transform the questions in the above dataset stored in the *data manager object dm* to numeric form for training a Support Vector Machine in sckit-learn.  "
   ]
  },
  {
   "cell_type": "code",
   "execution_count": 92,
   "metadata": {},
   "outputs": [],
   "source": [
    "import gensim.downloader as api\n",
    "from gensim.models import Word2Vec\n",
    "from sklearn.svm import SVC\n",
    "from sklearn.preprocessing import MinMaxScaler\n",
    "from sklearn.metrics import accuracy_score"
   ]
  },
  {
   "cell_type": "markdown",
   "metadata": {},
   "source": [
    "#### <span style=\"color:red\">**Question 2.1**</span> \n",
    "**Write code to download the pretrained model *glove-wiki-gigaword-100*. Note that this model transforms a word in its dictionary to a $100$ dimensional vector.**\n",
    "\n",
    "<div style=\"text-align: right\"><span style=\"color:red\">[2 points]</span></div> "
   ]
  },
  {
   "cell_type": "code",
   "execution_count": 93,
   "metadata": {},
   "outputs": [],
   "source": [
    "word2vect =  api.load(\"glove-wiki-gigaword-100\")"
   ]
  },
  {
   "cell_type": "markdown",
   "metadata": {},
   "source": [
    "#### <span style=\"color:red\">**Question 2.2**</span> \n",
    "\n",
    "**Write code for the function *get_word_vector(word, model)* used to transform a word to a vector using the pretrained Word2Vect model *model*. Note that for a word not in the vocabulary of our *word2vect*, you need to return a vector $0$ with 100 dimensions.**\n",
    "\n",
    "<div style=\"text-align: right\"><span style=\"color:red\">[3 points]</span></div> "
   ]
  },
  {
   "cell_type": "code",
   "execution_count": 94,
   "metadata": {},
   "outputs": [],
   "source": [
    "def get_word_vector(word, model):\n",
    "    try:\n",
    "        # Tries to get the vector from the pretrained Word2Vect Model\n",
    "        vector = model.get_vector(word)\n",
    "    except KeyError:\n",
    "        # If the word does not exists in the model, initialize it as an array of 0 with 100 dimensions\n",
    "        vector = np.zeros([100])\n",
    "    return vector"
   ]
  },
  {
   "cell_type": "markdown",
   "metadata": {},
   "source": [
    "#### <span style=\"color:red\">**Question 2.3**</span> \n",
    "\n",
    "**Write the code for the function `get_sentence_vector(sentence, important_score=None, model= None)`. Note that this function will transform a sentence to a 100-dimensional vector using the pretrained model *model*. In addition, the list *important_score* which has the same length as the *sentence* specifies the important scores of the words in the sentence. In your code, you first need to apply *softmax* function over *important_score* to obtain the important weight *important_weight* which forms a probability over the words of the sentence. Furthermore, the final vector of the sentence will be weighted sum of the individual vectors for words and the weights in *important_weight*.**\n",
    "- $important\\_weight = softmax(important\\_score)$.\n",
    "- $final\\_vector= important\\_weight[1]\\times v[1] + important\\_weight[2]\\times v[2] + ...+ important\\_weight[L]\\times v[L]$ where $L$ is the length of the sentence and $v[i]$ is the vector representation of the $i-th$  word in this sentence.\n",
    "\n",
    "**Note that if `important_score=None` is set by default, your function should return the average of all representation vectors corresponding to set `important_score=[1,1,...,1]`.**\n",
    "\n",
    "<div style=\"text-align: right\"><span style=\"color:red\">[5 points]</span></div> "
   ]
  },
  {
   "cell_type": "code",
   "execution_count": 95,
   "metadata": {},
   "outputs": [],
   "source": [
    "def get_sentence_vector(sentence, important_score=None, model= None):\n",
    "    \n",
    "    # Initializes the important score array.\n",
    "    if important_score is None:\n",
    "        important_score = [1] * len(sentence)\n",
    "    \n",
    "    # get word vectors from pretrained model using the method created above\n",
    "    word_vectors = []\n",
    "    for i in range (len(sentence)):\n",
    "        current_word = sentence[i]\n",
    "        word_vectors.append(get_word_vector(current_word,model))\n",
    "        \n",
    "    # Convert word vectors to a TensorFlow tensor.\n",
    "    vector = tf.stack(word_vectors)\n",
    "\n",
    "    # Convert important scores to a TensorFlow tensor.\n",
    "    important_scores = tf.convert_to_tensor(important_score, dtype=tf.float32)\n",
    "\n",
    "    # After converting both of the above into TensorFlow tensors, apply the softmax method within tensorflow to get weights.\n",
    "    important_weights = tf.nn.softmax(important_scores)\n",
    "\n",
    "    # Calculate the weighted sum of word vectors.\n",
    "    weighted_word_vectors = tf.multiply(word_vectors, tf.expand_dims(important_weights, axis=1))\n",
    "    \n",
    "    # Obtain sentence vector by summing across the columns of the weighted word vectors tensor \n",
    "    sentence_vector = tf.reduce_sum(weighted_word_vectors, axis=0)\n",
    "\n",
    "    # Convert the sentence vector to a numpy array for compatibility.\n",
    "    sentence_vector = sentence_vector.numpy()\n",
    "\n",
    "    return sentence_vector\n",
    "        "
   ]
  },
  {
   "cell_type": "markdown",
   "metadata": {},
   "source": [
    "#### <span style=\"color:red\">**Question 2.4**</span> \n",
    "\n",
    "**Write code to transform the training questions in *dm.train_str_questions* to feature vectors. Note that after running the following cell, you must have $X\\_train$ which is an numpy array of the feature vectors and $y\\_train$ which is an array of numeric labels (*Hint: dm.train_numeral_labels*). You can add more lines to the following cell if necessary. In addition, you should decide the *important_score* by yourself. For example, you might reckon that the 1st score is 1, the 2nd score is decayed by 0.9, the 3rd is decayed by 0.9, and so on.**\n",
    "\n",
    "<div style=\"text-align: right\"><span style=\"color:red\">[2 points]</span></div> "
   ]
  },
  {
   "cell_type": "code",
   "execution_count": 96,
   "metadata": {},
   "outputs": [],
   "source": [
    "# Initialize the variables based on the instructions above \n",
    "X_train= []\n",
    "y_train= []\n",
    "decay_factor = 0.9\n",
    "important_score = [0] * 100\n",
    "important_score[0] = 1.0\n",
    "\n",
    "# Multiple each values within the important score array according to the decay factor\n",
    "for i in range(1, 100):\n",
    "    important_score[i] = important_score[i - 1] * decay_factor\n",
    "\n",
    "# Transfor valid data into feature vectors alongside its labels \n",
    "for i in range (len(dm.train_str_questions)):\n",
    "    vec = get_sentence_vector(dm.train_str_questions[i], None ,word2vect)\n",
    "    if len(vec)>0:\n",
    "        X_train += [vec]\n",
    "        y_train.append(dm.train_numeral_labels[i])\n",
    "                \n"
   ]
  },
  {
   "cell_type": "markdown",
   "metadata": {},
   "source": [
    "#### <span style=\"color:red\">**Question 2.5**</span> \n",
    "\n",
    "**Write code to transform the training questions in *dm.valid_str_questions* to feature vectors. Note that after running the following cell, you must have $X\\_valid$ which is an numpy array of the feature vectors and $y\\_valid$ which is an array of numeric labels (*Hint: dm.valid_numeral_labels*). You can add more lines to the following cell if necessary. In addition, you should decide the *important_score* by yourself. For example, you might reckon that the 1st score is 1, the 2nd score is decayed by 0.9, the 3rd is decayed by 0.9, and so on.**\n",
    "\n",
    "<div style=\"text-align: right\"><span style=\"color:red\">[2 points]</span></div> "
   ]
  },
  {
   "cell_type": "code",
   "execution_count": 97,
   "metadata": {},
   "outputs": [],
   "source": [
    "# Initialize the variables based on the instructions above \n",
    "X_valid= []\n",
    "y_valid= []\n",
    "decay_factor = 0.9\n",
    "important_score = [0] * 100\n",
    "important_score[0] = 1.0\n",
    "\n",
    "# Multiple each values within the important score array according to the decay factor\n",
    "for i in range(1, 100):\n",
    "    important_score[i] = important_score[i - 1] * decay_factor\n",
    "\n",
    "# Transfor valid data into feature vectors alongside its labels \n",
    "for i in range (len(dm.valid_str_questions)):\n",
    "    vec = get_sentence_vector(dm.valid_str_questions[i], None ,word2vect)\n",
    "    if len(vec)>0:\n",
    "        X_valid += [vec]\n",
    "        y_valid.append(dm.train_numeral_labels[i])"
   ]
  },
  {
   "cell_type": "markdown",
   "metadata": {},
   "source": [
    "#### <span style=\"color:red\">**Question 2.6**</span> \n",
    "\n",
    "**It is now to use *MinMaxScaler(feature_range=(-1,1))* in sckit-learn to scale both training and valid sets to the range $(-1,1)$.**\n",
    "\n",
    "<div style=\"text-align: right\"><span style=\"color:red\">[2 points]</span></div> "
   ]
  },
  {
   "cell_type": "code",
   "execution_count": 98,
   "metadata": {},
   "outputs": [],
   "source": [
    "# Uses the MinMaxScaler to normalize values within the range of -1 to 1\n",
    "scaler = MinMaxScaler(feature_range=(-1,1))\n",
    "scaler.fit(X_train)\n",
    "X_train = scaler.transform(X_train)\n",
    "scaler.fit(X_valid)\n",
    "X_valid = scaler.transform(X_valid)"
   ]
  },
  {
   "cell_type": "markdown",
   "metadata": {},
   "source": [
    "#### <span style=\"color:red\">**Question 2.7**</span> \n",
    "\n",
    "**Declare a support vector machine (the class *SVC*  in sckit-learn) with RBF kernel, $C=1$, $gamma= 2^{-3}$ and fit on the training set.**\n",
    "\n",
    "<div style=\"text-align: right\"><span style=\"color:red\">[2 points]</span></div> "
   ]
  },
  {
   "cell_type": "code",
   "execution_count": 99,
   "metadata": {},
   "outputs": [
    {
     "data": {
      "text/html": [
       "<style>#sk-container-id-2 {color: black;}#sk-container-id-2 pre{padding: 0;}#sk-container-id-2 div.sk-toggleable {background-color: white;}#sk-container-id-2 label.sk-toggleable__label {cursor: pointer;display: block;width: 100%;margin-bottom: 0;padding: 0.3em;box-sizing: border-box;text-align: center;}#sk-container-id-2 label.sk-toggleable__label-arrow:before {content: \"▸\";float: left;margin-right: 0.25em;color: #696969;}#sk-container-id-2 label.sk-toggleable__label-arrow:hover:before {color: black;}#sk-container-id-2 div.sk-estimator:hover label.sk-toggleable__label-arrow:before {color: black;}#sk-container-id-2 div.sk-toggleable__content {max-height: 0;max-width: 0;overflow: hidden;text-align: left;background-color: #f0f8ff;}#sk-container-id-2 div.sk-toggleable__content pre {margin: 0.2em;color: black;border-radius: 0.25em;background-color: #f0f8ff;}#sk-container-id-2 input.sk-toggleable__control:checked~div.sk-toggleable__content {max-height: 200px;max-width: 100%;overflow: auto;}#sk-container-id-2 input.sk-toggleable__control:checked~label.sk-toggleable__label-arrow:before {content: \"▾\";}#sk-container-id-2 div.sk-estimator input.sk-toggleable__control:checked~label.sk-toggleable__label {background-color: #d4ebff;}#sk-container-id-2 div.sk-label input.sk-toggleable__control:checked~label.sk-toggleable__label {background-color: #d4ebff;}#sk-container-id-2 input.sk-hidden--visually {border: 0;clip: rect(1px 1px 1px 1px);clip: rect(1px, 1px, 1px, 1px);height: 1px;margin: -1px;overflow: hidden;padding: 0;position: absolute;width: 1px;}#sk-container-id-2 div.sk-estimator {font-family: monospace;background-color: #f0f8ff;border: 1px dotted black;border-radius: 0.25em;box-sizing: border-box;margin-bottom: 0.5em;}#sk-container-id-2 div.sk-estimator:hover {background-color: #d4ebff;}#sk-container-id-2 div.sk-parallel-item::after {content: \"\";width: 100%;border-bottom: 1px solid gray;flex-grow: 1;}#sk-container-id-2 div.sk-label:hover label.sk-toggleable__label {background-color: #d4ebff;}#sk-container-id-2 div.sk-serial::before {content: \"\";position: absolute;border-left: 1px solid gray;box-sizing: border-box;top: 0;bottom: 0;left: 50%;z-index: 0;}#sk-container-id-2 div.sk-serial {display: flex;flex-direction: column;align-items: center;background-color: white;padding-right: 0.2em;padding-left: 0.2em;position: relative;}#sk-container-id-2 div.sk-item {position: relative;z-index: 1;}#sk-container-id-2 div.sk-parallel {display: flex;align-items: stretch;justify-content: center;background-color: white;position: relative;}#sk-container-id-2 div.sk-item::before, #sk-container-id-2 div.sk-parallel-item::before {content: \"\";position: absolute;border-left: 1px solid gray;box-sizing: border-box;top: 0;bottom: 0;left: 50%;z-index: -1;}#sk-container-id-2 div.sk-parallel-item {display: flex;flex-direction: column;z-index: 1;position: relative;background-color: white;}#sk-container-id-2 div.sk-parallel-item:first-child::after {align-self: flex-end;width: 50%;}#sk-container-id-2 div.sk-parallel-item:last-child::after {align-self: flex-start;width: 50%;}#sk-container-id-2 div.sk-parallel-item:only-child::after {width: 0;}#sk-container-id-2 div.sk-dashed-wrapped {border: 1px dashed gray;margin: 0 0.4em 0.5em 0.4em;box-sizing: border-box;padding-bottom: 0.4em;background-color: white;}#sk-container-id-2 div.sk-label label {font-family: monospace;font-weight: bold;display: inline-block;line-height: 1.2em;}#sk-container-id-2 div.sk-label-container {text-align: center;}#sk-container-id-2 div.sk-container {/* jupyter's `normalize.less` sets `[hidden] { display: none; }` but bootstrap.min.css set `[hidden] { display: none !important; }` so we also need the `!important` here to be able to override the default hidden behavior on the sphinx rendered scikit-learn.org. See: https://github.com/scikit-learn/scikit-learn/issues/21755 */display: inline-block !important;position: relative;}#sk-container-id-2 div.sk-text-repr-fallback {display: none;}</style><div id=\"sk-container-id-2\" class=\"sk-top-container\"><div class=\"sk-text-repr-fallback\"><pre>SVC(C=1, gamma=0.125)</pre><b>In a Jupyter environment, please rerun this cell to show the HTML representation or trust the notebook. <br />On GitHub, the HTML representation is unable to render, please try loading this page with nbviewer.org.</b></div><div class=\"sk-container\" hidden><div class=\"sk-item\"><div class=\"sk-estimator sk-toggleable\"><input class=\"sk-toggleable__control sk-hidden--visually\" id=\"sk-estimator-id-2\" type=\"checkbox\" checked><label for=\"sk-estimator-id-2\" class=\"sk-toggleable__label sk-toggleable__label-arrow\">SVC</label><div class=\"sk-toggleable__content\"><pre>SVC(C=1, gamma=0.125)</pre></div></div></div></div></div>"
      ],
      "text/plain": [
       "SVC(C=1, gamma=0.125)"
      ]
     },
     "execution_count": 99,
     "metadata": {},
     "output_type": "execute_result"
    }
   ],
   "source": [
    "svm = SVC(kernel='rbf', C=1, gamma=2**-3)\n",
    "svm.fit(X_train, y_train)"
   ]
  },
  {
   "cell_type": "markdown",
   "metadata": {},
   "source": [
    "#### <span style=\"color:red\">**Question 2.8**</span> \n",
    "\n",
    "**Finally, we use the trained *svm* to evaluate on the valid set $X\\_valid$.**\n",
    "\n",
    "<div style=\"text-align: right\"><span style=\"color:red\">[2 points]</span></div> "
   ]
  },
  {
   "cell_type": "code",
   "execution_count": 100,
   "metadata": {},
   "outputs": [
    {
     "name": "stdout",
     "output_type": "stream",
     "text": [
      "SVM Accuracy of X_valid: 0.22408026755852842\n"
     ]
    }
   ],
   "source": [
    "y_valid_pred = svm.predict(X_valid)\n",
    "acc = accuracy_score(y_valid, y_valid_pred)\n",
    "print(\"SVM Accuracy of X_valid:\", acc)"
   ]
  },
  {
   "cell_type": "markdown",
   "metadata": {},
   "source": [
    "## <span style=\"color:#0b486b\">Part 3: Sentence representation with BERT and CLIP </span>\n",
    "\n",
    "<div style=\"text-align: right\"><span style=\"color:red; font-weight:bold\">[Total marks for this part: 15 points]<span></div>"
   ]
  },
  {
   "cell_type": "markdown",
   "metadata": {},
   "source": [
    "#### <span style=\"color:red\">**Question 3.1**</span>\n",
    "**Use a pretrained BERT model to extract feaure vectors for the training and valid sets. You should choose an appropriate pretrained BERT model that fits your computational resource.**\n",
    "<div style=\"text-align: right\"><span style=\"color:red\">[4 points]</span></div>"
   ]
  },
  {
   "cell_type": "code",
   "execution_count": 101,
   "metadata": {},
   "outputs": [
    {
     "name": "stderr",
     "output_type": "stream",
     "text": [
      "Some layers from the model checkpoint at bert-base-uncased were not used when initializing TFBertModel: ['nsp___cls', 'mlm___cls']\n",
      "- This IS expected if you are initializing TFBertModel from the checkpoint of a model trained on another task or with another architecture (e.g. initializing a BertForSequenceClassification model from a BertForPreTraining model).\n",
      "- This IS NOT expected if you are initializing TFBertModel from the checkpoint of a model that you expect to be exactly identical (initializing a BertForSequenceClassification model from a BertForSequenceClassification model).\n",
      "All the layers of TFBertModel were initialized from the model checkpoint at bert-base-uncased.\n",
      "If your task is similar to the task the model of the checkpoint was trained on, you can already use TFBertModel for predictions without further training.\n"
     ]
    }
   ],
   "source": [
    "X_train_BERT = []\n",
    "y_train_BERT = []\n",
    "\n",
    "from transformers import BertTokenizer, TFBertModel\n",
    "import tensorflow as tf\n",
    "\n",
    "# Load BERT tokenizer and model\n",
    "tokenizer = BertTokenizer.from_pretrained('bert-base-uncased')\n",
    "model = TFBertModel.from_pretrained('bert-base-uncased')\n",
    "\n",
    "# Get the maximum sequence length of training and valid data. THis is used for the tokenizer\n",
    "max_sequence_length_train = max(len(tokenizer.encode(text)) for text in dm.train_str_questions)\n",
    "max_sequence_length_valid = max(len(tokenizer.encode(text)) for text in dm.valid_str_questions)\n",
    "max_sequence_length = max(max_sequence_length_train, max_sequence_length_valid)\n",
    "\n",
    "# Apply the tokenizer to the BERT model to obtain the embeddings. \n",
    "for i in range (len(dm.train_str_questions)):\n",
    "    input_ids = tokenizer(dm.train_str_questions[i], padding='max_length', truncation=True, max_length=max_sequence_length, return_tensors=\"tf\")\n",
    "    outputs = model(input_ids)\n",
    "    embeddings = outputs.last_hidden_state\n",
    "    X_train_BERT.append(embeddings)\n",
    "    y_train_BERT.append(dm.train_numeral_labels[i])\n",
    "    "
   ]
  },
  {
   "cell_type": "code",
   "execution_count": 102,
   "metadata": {},
   "outputs": [],
   "source": [
    "X_valid_BERT = []\n",
    "y_valid_BERT = []\n",
    "\n",
    "# Apply the tokenizer to the BERT model to obtain the embeddings. \n",
    "for i in range (len(dm.valid_str_questions)):\n",
    "    input_ids = tokenizer(dm.valid_str_questions[i], padding='max_length', truncation=True, max_length=max_sequence_length, return_tensors=\"tf\")\n",
    "    outputs = model(input_ids)\n",
    "    embeddings = outputs.last_hidden_state\n",
    "    X_valid_BERT.append(embeddings)\n",
    "    y_valid_BERT.append(dm.valid_numeral_labels[i])\n"
   ]
  },
  {
   "cell_type": "markdown",
   "metadata": {},
   "source": [
    "#### <span style=\"color:red\">**Question 3.2**</span>\n",
    "**Conduct a feed-forward neural network to train on the training set of feature vectors extracted from BERT and then evaluate on the valid set.**\n",
    "<div style=\"text-align: right\"><span style=\"color:red\">[4 points]</span></div>"
   ]
  },
  {
   "cell_type": "code",
   "execution_count": 103,
   "metadata": {},
   "outputs": [],
   "source": [
    "# preprocess values to be used in the Neural Network\n",
    "X_train_BERT_new = np.concatenate(X_train_BERT, axis=0)\n",
    "y_train_BERT_new = np.array(y_train_BERT)\n",
    "X_valid_BERT_new = np.concatenate(X_valid_BERT, axis=0)\n",
    "y_valid_BERT_new = np.array(y_valid_BERT)"
   ]
  },
  {
   "cell_type": "code",
   "execution_count": 110,
   "metadata": {},
   "outputs": [
    {
     "name": "stdout",
     "output_type": "stream",
     "text": [
      "(1201, 38, 768) (1201,) (299, 38, 768) (299,)\n",
      "1\n",
      "Model: \"sequential_5\"\n",
      "_________________________________________________________________\n",
      " Layer (type)                Output Shape              Param #   \n",
      "=================================================================\n",
      " dense_80 (Dense)            (None, 38, 128)           98432     \n",
      "                                                                 \n",
      " dense_81 (Dense)            (None, 38, 64)            8256      \n",
      "                                                                 \n",
      " flatten_5 (Flatten)         (None, 2432)              0         \n",
      "                                                                 \n",
      " dense_82 (Dense)            (None, 6)                 14598     \n",
      "                                                                 \n",
      "=================================================================\n",
      "Total params: 121,286\n",
      "Trainable params: 121,286\n",
      "Non-trainable params: 0\n",
      "_________________________________________________________________\n",
      "None\n",
      "Epoch 1/10\n",
      "38/38 [==============================] - 1s 12ms/step - loss: 0.7496 - accuracy: 0.7577 - val_loss: 0.2059 - val_accuracy: 0.9231\n",
      "Epoch 2/10\n",
      "38/38 [==============================] - 0s 7ms/step - loss: 0.0779 - accuracy: 0.9808 - val_loss: 0.0746 - val_accuracy: 0.9732\n",
      "Epoch 3/10\n",
      "38/38 [==============================] - 0s 6ms/step - loss: 0.0223 - accuracy: 0.9950 - val_loss: 0.0513 - val_accuracy: 0.9766\n",
      "Epoch 4/10\n",
      "38/38 [==============================] - 0s 7ms/step - loss: 0.0107 - accuracy: 0.9992 - val_loss: 0.0498 - val_accuracy: 0.9833\n",
      "Epoch 5/10\n",
      "38/38 [==============================] - 0s 5ms/step - loss: 0.0038 - accuracy: 1.0000 - val_loss: 0.0473 - val_accuracy: 0.9799\n",
      "Epoch 6/10\n",
      "38/38 [==============================] - 0s 5ms/step - loss: 0.0023 - accuracy: 1.0000 - val_loss: 0.0473 - val_accuracy: 0.9866\n",
      "Epoch 7/10\n",
      "38/38 [==============================] - 0s 5ms/step - loss: 0.0016 - accuracy: 1.0000 - val_loss: 0.0457 - val_accuracy: 0.9866\n",
      "Epoch 8/10\n",
      "38/38 [==============================] - 0s 5ms/step - loss: 0.0012 - accuracy: 1.0000 - val_loss: 0.0473 - val_accuracy: 0.9866\n",
      "Epoch 9/10\n",
      "38/38 [==============================] - 0s 5ms/step - loss: 9.7241e-04 - accuracy: 1.0000 - val_loss: 0.0427 - val_accuracy: 0.9833\n",
      "Epoch 10/10\n",
      "38/38 [==============================] - 0s 5ms/step - loss: 8.0021e-04 - accuracy: 1.0000 - val_loss: 0.0451 - val_accuracy: 0.9833\n",
      "10/10 [==============================] - 0s 3ms/step - loss: 0.0451 - accuracy: 0.9833\n",
      "loss:  0.04509096220135689 accuracy:  0.9832776188850403\n"
     ]
    }
   ],
   "source": [
    "print (X_train_BERT_new.shape,y_train_BERT_new.shape,X_valid_BERT_new.shape,y_valid_BERT_new.shape)\n",
    "print (y_train_BERT_new[0])\n",
    "model = tf.keras.Sequential([\n",
    "    tf.keras.layers.Dense(128, activation='relu', input_shape=(X_train_BERT_new.shape[1], X_train_BERT_new.shape[2])),\n",
    "    tf.keras.layers.Dense(64, activation='relu'),\n",
    "    tf.keras.layers.Flatten(),  # Flatten the output from the convolutional layers\n",
    "    tf.keras.layers.Dense(dm.num_classes, activation='softmax')  # Assuming binary classification\n",
    "])\n",
    "\n",
    "# Compile the model\n",
    "model.compile(optimizer='adam',\n",
    "              loss='sparse_categorical_crossentropy',\n",
    "              metrics=['accuracy'])\n",
    "\n",
    "print (model.summary())\n",
    "batch_size = 32\n",
    "epochs = 10\n",
    "history = model.fit(X_train_BERT_new, y_train_BERT_new,\n",
    "                    batch_size=batch_size,\n",
    "                    epochs=epochs,\n",
    "                    validation_data=(X_valid_BERT_new, y_valid_BERT_new))\n",
    "loss, metrics = model.evaluate(X_valid_BERT_new, y_valid_BERT_new, batch_size=batch_size)\n",
    "print (\"loss: \",loss,\"accuracy: \",metrics)"
   ]
  },
  {
   "cell_type": "markdown",
   "metadata": {},
   "source": [
    "#### <span style=\"color:red\">**Question 3.3**</span>\n",
    "**Use a pretrained CLIP model to extract feaure vectors for the training and valid sets. You should choose an appropriate pretrained CLIP model that fits your computational resource.**\n",
    "<div style=\"text-align: right\"><span style=\"color:red\">[4 points]</span></div>"
   ]
  },
  {
   "cell_type": "code",
   "execution_count": 105,
   "metadata": {},
   "outputs": [],
   "source": [
    "from transformers import AutoTokenizer, CLIPModel\n",
    "X_train_CLIP = []\n",
    "y_train_CLIP = []\n",
    "\n",
    "model = CLIPModel.from_pretrained(\"openai/clip-vit-base-patch32\")\n",
    "tokenizer = AutoTokenizer.from_pretrained(\"openai/clip-vit-base-patch32\")\n",
    "\n",
    "# Obtain embeddings using the pre-trained CLIP model\n",
    "for i in range (len(dm.train_str_questions)):\n",
    "    input_ids = tokenizer(dm.train_str_questions[i], padding=True,return_tensors=\"pt\")\n",
    "    embeddings = model.get_text_features(**input_ids).detach().numpy()\n",
    "    X_train_CLIP.append(embeddings)\n",
    "    y_train_CLIP.append(dm.train_numeral_labels[i])"
   ]
  },
  {
   "cell_type": "code",
   "execution_count": 106,
   "metadata": {},
   "outputs": [],
   "source": [
    "X_valid_CLIP = []\n",
    "y_valid_CLIP = []\n",
    "\n",
    "#Obtain embeddings using the pre-trained CLIP model\n",
    "for i in range (len(dm.valid_str_questions)):\n",
    "    input_ids = tokenizer(dm.valid_str_questions[i], padding=True,return_tensors=\"pt\")\n",
    "    embeddings = model.get_text_features(**input_ids).detach().numpy()\n",
    "    X_valid_CLIP.append(embeddings)\n",
    "    y_valid_CLIP.append(dm.valid_numeral_labels[i])"
   ]
  },
  {
   "cell_type": "markdown",
   "metadata": {},
   "source": [
    "#### <span style=\"color:red\">**Question 3.4**</span>\n",
    "**Conduct a feed-forward neural network to train on the training set of feature vectors extracted from CLIP and then evaluate on the valid set.**\n",
    "<div style=\"text-align: right\"><span style=\"color:red\">[3 points]</span></div>"
   ]
  },
  {
   "cell_type": "code",
   "execution_count": 107,
   "metadata": {},
   "outputs": [],
   "source": [
    "# Preprocess CLIP outputs to be used in the NN\n",
    "X_train_CLIP_new = np.concatenate(X_train_CLIP, axis=0)\n",
    "y_train_CLIP_new = np.array(y_train_CLIP)\n",
    "X_valid_CLIP_new = np.concatenate(X_valid_CLIP, axis=0)\n",
    "y_valid_CLIP_new = np.array(y_valid_CLIP)"
   ]
  },
  {
   "cell_type": "code",
   "execution_count": 111,
   "metadata": {},
   "outputs": [
    {
     "name": "stdout",
     "output_type": "stream",
     "text": [
      "Model: \"sequential_6\"\n",
      "_________________________________________________________________\n",
      " Layer (type)                Output Shape              Param #   \n",
      "=================================================================\n",
      " dense_83 (Dense)            (None, 128)               65664     \n",
      "                                                                 \n",
      " dense_84 (Dense)            (None, 64)                8256      \n",
      "                                                                 \n",
      " flatten_6 (Flatten)         (None, 64)                0         \n",
      "                                                                 \n",
      " dense_85 (Dense)            (None, 6)                 390       \n",
      "                                                                 \n",
      "=================================================================\n",
      "Total params: 74,310\n",
      "Trainable params: 74,310\n",
      "Non-trainable params: 0\n",
      "_________________________________________________________________\n",
      "None\n",
      "Epoch 1/10\n",
      "38/38 [==============================] - 1s 8ms/step - loss: 1.3962 - accuracy: 0.5187 - val_loss: 0.8717 - val_accuracy: 0.8161\n",
      "Epoch 2/10\n",
      "38/38 [==============================] - 0s 4ms/step - loss: 0.6091 - accuracy: 0.8360 - val_loss: 0.3844 - val_accuracy: 0.8829\n",
      "Epoch 3/10\n",
      "38/38 [==============================] - 0s 4ms/step - loss: 0.2949 - accuracy: 0.9209 - val_loss: 0.2613 - val_accuracy: 0.9331\n",
      "Epoch 4/10\n",
      "38/38 [==============================] - 0s 4ms/step - loss: 0.1627 - accuracy: 0.9625 - val_loss: 0.2317 - val_accuracy: 0.9298\n",
      "Epoch 5/10\n",
      "38/38 [==============================] - 0s 3ms/step - loss: 0.1001 - accuracy: 0.9767 - val_loss: 0.2304 - val_accuracy: 0.9465\n",
      "Epoch 6/10\n",
      "38/38 [==============================] - 0s 3ms/step - loss: 0.0524 - accuracy: 0.9958 - val_loss: 0.2042 - val_accuracy: 0.9498\n",
      "Epoch 7/10\n",
      "38/38 [==============================] - 0s 3ms/step - loss: 0.0278 - accuracy: 0.9983 - val_loss: 0.2077 - val_accuracy: 0.9398\n",
      "Epoch 8/10\n",
      "38/38 [==============================] - 0s 3ms/step - loss: 0.0180 - accuracy: 1.0000 - val_loss: 0.2151 - val_accuracy: 0.9498\n",
      "Epoch 9/10\n",
      "38/38 [==============================] - 0s 3ms/step - loss: 0.0120 - accuracy: 1.0000 - val_loss: 0.2121 - val_accuracy: 0.9465\n",
      "Epoch 10/10\n",
      "38/38 [==============================] - 0s 3ms/step - loss: 0.0090 - accuracy: 1.0000 - val_loss: 0.2214 - val_accuracy: 0.9498\n",
      "10/10 [==============================] - 0s 2ms/step - loss: 0.2214 - accuracy: 0.9498\n",
      "loss:  0.22135835886001587 accuracy:  0.9498327970504761\n"
     ]
    }
   ],
   "source": [
    "model = tf.keras.Sequential([\n",
    "    tf.keras.layers.Dense(128, activation='relu', input_shape=(X_train_CLIP_new.shape[1],)),\n",
    "    tf.keras.layers.Dense(64, activation='relu'),\n",
    "    tf.keras.layers.Flatten(),  # Flatten the output from the convolutional layers\n",
    "    tf.keras.layers.Dense(dm.num_classes, activation='softmax')  # Assuming binary classification\n",
    "])\n",
    "\n",
    "# Compile the model\n",
    "model.compile(optimizer='adam',\n",
    "              loss='sparse_categorical_crossentropy',\n",
    "              metrics=['accuracy'])\n",
    "\n",
    "\n",
    "print (model.summary())\n",
    "batch_size = 32\n",
    "epochs = 10\n",
    "history = model.fit(X_train_CLIP_new, y_train_CLIP_new,\n",
    "                    batch_size=batch_size,\n",
    "                    epochs=epochs,\n",
    "                    validation_data=(X_valid_CLIP_new, y_valid_CLIP_new))\n",
    "loss, metrics = model.evaluate(X_valid_CLIP_new, y_valid_CLIP_new, batch_size=batch_size)\n",
    "print (\"loss: \",loss,\"accuracy: \",metrics)"
   ]
  },
  {
   "cell_type": "markdown",
   "metadata": {},
   "source": [
    "## <span style=\"color:#0b486b\">Part 4: RNNs for sequence modeling and neural embedding </span>\n",
    "\n",
    "<div style=\"text-align: right\"><span style=\"color:red; font-weight:bold\">[Total marks for this part: 60 points]<span></div>"
   ]
  },
  {
   "cell_type": "markdown",
   "metadata": {},
   "source": [
    "### <span style=\"color:#0b486b\">4.1. One-directional RNNs for sequence modeling and neural embedding </span> ###\n",
    "\n",
    "<div style=\"text-align: right\"><span style=\"color:red; font-weight:bold\">[Total marks for this part: 10 points]<span></div>"
   ]
  },
  {
   "cell_type": "markdown",
   "metadata": {},
   "source": [
    "#### <span style=\"color:red\">**Question 4.1.1**</span> \n",
    "**In this part, you need to construct an RNN to learn from the dataset of interest. Basically, you are required first to construct the class UniRNN (Uni-directional RNN) with the following requirements:**\n",
    "- Attribute `data_manager (self.data_manager)`: specifies the data manager used to store data for the model.\n",
    "- Attribute `cell_type (self.cell_type)`: can receive three values including `basic_rnn`, `gru`, and `lstm` which specifies the memory cells formed a hidden layer.\n",
    "- `state_sizes (self.state_sizes)` indicates the list of the hidden sizes  of memory cells. For example, $state\\_sizes = [64, 128]$ means that you have two hidden layers in your network with hidden sizes of $64$ and $128$ respectively.\n",
    "\n",
    "**Note that when declaring an embedding layer for the network, you need to set *mask_zero=True* so that the padding zeros in the sentences will be masked and ignored. This helps to have variable length RNNs. For more detail, you can refer to this [link](https://www.tensorflow.org/guide/keras/masking_and_padding).**\n",
    "\n",
    "<div style=\"text-align: right\"><span style=\"color:red\">[7 points]</span></div>"
   ]
  },
  {
   "cell_type": "code",
   "execution_count": 27,
   "metadata": {},
   "outputs": [],
   "source": [
    "class UniRNN:\n",
    "    def __init__(self, cell_type= 'gru', embed_size= 128, state_sizes= [128, 64], data_manager= None):\n",
    "        self.cell_type = cell_type\n",
    "        self.state_sizes = state_sizes\n",
    "        self.embed_size = embed_size\n",
    "        self.data_manager = data_manager\n",
    "        self.vocab_size = self.data_manager.vocab_size +1 \n",
    "        \n",
    "    # return the correspoding memory cell\n",
    "    # get Layer method done referencing the tutorial materialss\n",
    "    @staticmethod\n",
    "    def get_layer(cell_type= 'gru', state_size= 128, return_sequences= False, activation = 'tanh'):\n",
    "        if cell_type == 'gru':\n",
    "            return tf.keras.layers.GRU(state_size, return_sequences=return_sequences, activation=activation)\n",
    "        elif cell_type == 'lstm':\n",
    "            return tf.keras.layers.LSTM(state_size, return_sequences=return_sequences, activation=activation)\n",
    "        else:\n",
    "            return tf.keras.layers.SimpleRNN(state_size, return_sequences=return_sequences, activation=activation)\n",
    "    \n",
    "    #build code adapted from tutorial\n",
    "    def build(self):\n",
    "        x = tf.keras.layers.Input(shape=[None])\n",
    "        # set to mask_zero = True as mentioned in instructions\n",
    "        h = tf.keras.layers.Embedding(self.vocab_size, self.embed_size, mask_zero=True, trainable=True)(x)\n",
    "        # obtain the number of hidden layers required using the length of the state_size array\n",
    "        num_layers = len(self.state_sizes)\n",
    "        # initialize hidden layers based on size specified in the state_sizes array\n",
    "        for i in range(num_layers):\n",
    "            # All return sequences are set to true, other than the final layer\n",
    "            h = self.get_layer(self.cell_type, self.state_sizes[i], return_sequences= i < num_layers - 1)(h)\n",
    "        h = tf.keras.layers.Dense(dm.num_classes, activation='softmax')(h)\n",
    "        self.model = tf.keras.Model(inputs=x, outputs=h)\n",
    "        \n",
    "    def compile_model(self, *args, **kwargs):\n",
    "        self.model.compile(*args, **kwargs)\n",
    "    \n",
    "    def fit(self, *args, **kwargs):\n",
    "        return self.model.fit(*args, **kwargs)\n",
    "    \n",
    "    def evaluate(self, *args, **kwargs):\n",
    "        self.model.evaluate(*args, **kwargs)       \n"
   ]
  },
  {
   "cell_type": "markdown",
   "metadata": {},
   "source": [
    "#### <span style=\"color:red\">**Question 4.1.2**</span> \n",
    "**Run with basic RNN ('basic_rnn') cell with $embed\\_size= 128, state\\_sizes= [64, 128], data\\_manager= dm$.**\n",
    "\n",
    "<div style=\"text-align: right\"><span style=\"color:red\">[1 points]</span></div>"
   ]
  },
  {
   "cell_type": "code",
   "execution_count": 28,
   "metadata": {},
   "outputs": [
    {
     "name": "stdout",
     "output_type": "stream",
     "text": [
      "Epoch 1/10\n",
      "19/19 [==============================] - 7s 262ms/step - loss: 1.1294 - accuracy: 0.6162 - val_loss: 0.5278 - val_accuracy: 0.8595\n",
      "Epoch 2/10\n",
      "19/19 [==============================] - 5s 244ms/step - loss: 0.2521 - accuracy: 0.9475 - val_loss: 0.3191 - val_accuracy: 0.9097\n",
      "Epoch 3/10\n",
      "19/19 [==============================] - 5s 257ms/step - loss: 0.1387 - accuracy: 0.9609 - val_loss: 0.2614 - val_accuracy: 0.9130\n",
      "Epoch 4/10\n",
      "19/19 [==============================] - 5s 255ms/step - loss: 0.0651 - accuracy: 0.9784 - val_loss: 0.1453 - val_accuracy: 0.9565\n",
      "Epoch 5/10\n",
      "19/19 [==============================] - 5s 242ms/step - loss: 0.0818 - accuracy: 0.9784 - val_loss: 0.2412 - val_accuracy: 0.9298\n",
      "Epoch 6/10\n",
      "19/19 [==============================] - 5s 247ms/step - loss: 0.0261 - accuracy: 0.9933 - val_loss: 0.1409 - val_accuracy: 0.9532\n",
      "Epoch 7/10\n",
      "19/19 [==============================] - 5s 253ms/step - loss: 0.0082 - accuracy: 0.9992 - val_loss: 0.1289 - val_accuracy: 0.9599\n",
      "Epoch 8/10\n",
      "19/19 [==============================] - 5s 265ms/step - loss: 0.0033 - accuracy: 1.0000 - val_loss: 0.2019 - val_accuracy: 0.9498\n",
      "Epoch 9/10\n",
      "19/19 [==============================] - 6s 294ms/step - loss: 0.0015 - accuracy: 1.0000 - val_loss: 0.1548 - val_accuracy: 0.9532\n",
      "Epoch 10/10\n",
      "19/19 [==============================] - 5s 289ms/step - loss: 5.6888e-04 - accuracy: 1.0000 - val_loss: 0.1747 - val_accuracy: 0.9532\n"
     ]
    },
    {
     "data": {
      "text/plain": [
       "<keras.callbacks.History at 0x2b4e8df49d0>"
      ]
     },
     "execution_count": 28,
     "metadata": {},
     "output_type": "execute_result"
    }
   ],
   "source": [
    "uni_rnn = UniRNN(cell_type='basic_rnn', embed_size=128, state_sizes=[64, 128], data_manager=dm)\n",
    "uni_rnn.build()\n",
    "opt = tf.keras.optimizers.RMSprop(learning_rate=0.001)\n",
    "uni_rnn.compile_model(optimizer=opt, loss='sparse_categorical_crossentropy', metrics=['accuracy'])\n",
    "uni_rnn.fit(dm.tf_train_set.batch(64), epochs=10, validation_data = dm.tf_valid_set.batch(64))"
   ]
  },
  {
   "cell_type": "markdown",
   "metadata": {},
   "source": [
    "#### <span style=\"color:red\">**Question 4.1.3**</span> \n",
    "**Run with GRU ('gru') cell with $embed\\_size= 128, state\\_sizes= [64, 128], data\\_manager= dm$.**\n",
    "\n",
    "<div style=\"text-align: right\"><span style=\"color:red\">[1 points]</span></div>"
   ]
  },
  {
   "cell_type": "code",
   "execution_count": 29,
   "metadata": {},
   "outputs": [
    {
     "name": "stdout",
     "output_type": "stream",
     "text": [
      "Epoch 1/10\n",
      "19/19 [==============================] - 8s 275ms/step - loss: 1.0906 - accuracy: 0.6078 - val_loss: 0.4616 - val_accuracy: 0.8796\n",
      "Epoch 2/10\n",
      "19/19 [==============================] - 6s 293ms/step - loss: 0.2195 - accuracy: 0.9417 - val_loss: 0.2947 - val_accuracy: 0.9064\n",
      "Epoch 3/10\n",
      "19/19 [==============================] - 5s 259ms/step - loss: 0.1288 - accuracy: 0.9650 - val_loss: 0.1513 - val_accuracy: 0.9431\n",
      "Epoch 4/10\n",
      "19/19 [==============================] - 5s 267ms/step - loss: 0.0565 - accuracy: 0.9883 - val_loss: 0.2432 - val_accuracy: 0.9431\n",
      "Epoch 5/10\n",
      "19/19 [==============================] - 5s 267ms/step - loss: 0.0658 - accuracy: 0.9767 - val_loss: 0.1332 - val_accuracy: 0.9465\n",
      "Epoch 6/10\n",
      "19/19 [==============================] - 5s 256ms/step - loss: 0.0135 - accuracy: 0.9992 - val_loss: 0.0993 - val_accuracy: 0.9565\n",
      "Epoch 7/10\n",
      "19/19 [==============================] - 5s 260ms/step - loss: 0.0056 - accuracy: 1.0000 - val_loss: 0.1118 - val_accuracy: 0.9599\n",
      "Epoch 8/10\n",
      "19/19 [==============================] - 5s 265ms/step - loss: 0.0028 - accuracy: 1.0000 - val_loss: 0.1322 - val_accuracy: 0.9465\n",
      "Epoch 9/10\n",
      "19/19 [==============================] - 5s 261ms/step - loss: 0.0015 - accuracy: 1.0000 - val_loss: 0.4341 - val_accuracy: 0.9264\n",
      "Epoch 10/10\n",
      "19/19 [==============================] - 5s 258ms/step - loss: 0.0825 - accuracy: 0.9825 - val_loss: 0.1208 - val_accuracy: 0.9565\n"
     ]
    },
    {
     "data": {
      "text/plain": [
       "<keras.callbacks.History at 0x2b49591c7c0>"
      ]
     },
     "execution_count": 29,
     "metadata": {},
     "output_type": "execute_result"
    }
   ],
   "source": [
    "uni_rnn = UniRNN(cell_type='GRU', embed_size=128, state_sizes=[64, 128], data_manager=dm)\n",
    "uni_rnn.build()\n",
    "opt = tf.keras.optimizers.RMSprop(learning_rate=0.001)\n",
    "uni_rnn.compile_model(optimizer=opt, loss='sparse_categorical_crossentropy', metrics=['accuracy'])\n",
    "uni_rnn.fit(dm.tf_train_set.batch(64), epochs=10, validation_data = dm.tf_valid_set.batch(64))"
   ]
  },
  {
   "cell_type": "markdown",
   "metadata": {},
   "source": [
    "#### <span style=\"color:red\">**Question 4.1.4**</span> \n",
    "**Run with LSTM ('lstm') cell with $embed\\_size= 128, state\\_sizes= [64, 128], data\\_manager= dm$.**\n",
    "\n",
    "<div style=\"text-align: right\"><span style=\"color:red\">[1 points]</span></div>"
   ]
  },
  {
   "cell_type": "code",
   "execution_count": 30,
   "metadata": {},
   "outputs": [
    {
     "name": "stdout",
     "output_type": "stream",
     "text": [
      "Epoch 1/10\n",
      "19/19 [==============================] - 7s 284ms/step - loss: 1.0597 - accuracy: 0.6445 - val_loss: 0.8158 - val_accuracy: 0.6990\n",
      "Epoch 2/10\n",
      "19/19 [==============================] - 5s 258ms/step - loss: 0.3108 - accuracy: 0.9192 - val_loss: 0.3360 - val_accuracy: 0.9197\n",
      "Epoch 3/10\n",
      "19/19 [==============================] - 5s 261ms/step - loss: 0.1449 - accuracy: 0.9609 - val_loss: 0.2127 - val_accuracy: 0.9431\n",
      "Epoch 4/10\n",
      "19/19 [==============================] - 5s 264ms/step - loss: 0.0716 - accuracy: 0.9833 - val_loss: 0.1948 - val_accuracy: 0.9431\n",
      "Epoch 5/10\n",
      "19/19 [==============================] - 5s 247ms/step - loss: 0.0218 - accuracy: 0.9975 - val_loss: 0.1234 - val_accuracy: 0.9565\n",
      "Epoch 6/10\n",
      "19/19 [==============================] - 5s 251ms/step - loss: 0.0097 - accuracy: 0.9983 - val_loss: 0.1037 - val_accuracy: 0.9699\n",
      "Epoch 7/10\n",
      "19/19 [==============================] - 5s 246ms/step - loss: 0.0031 - accuracy: 1.0000 - val_loss: 0.2531 - val_accuracy: 0.9398\n",
      "Epoch 8/10\n",
      "19/19 [==============================] - 5s 257ms/step - loss: 0.0057 - accuracy: 0.9992 - val_loss: 0.5607 - val_accuracy: 0.8963\n",
      "Epoch 9/10\n",
      "19/19 [==============================] - 5s 265ms/step - loss: 0.0415 - accuracy: 0.9900 - val_loss: 0.0928 - val_accuracy: 0.9632\n",
      "Epoch 10/10\n",
      "19/19 [==============================] - 5s 251ms/step - loss: 0.0012 - accuracy: 1.0000 - val_loss: 0.0934 - val_accuracy: 0.9632\n"
     ]
    },
    {
     "data": {
      "text/plain": [
       "<keras.callbacks.History at 0x2b448b867d0>"
      ]
     },
     "execution_count": 30,
     "metadata": {},
     "output_type": "execute_result"
    }
   ],
   "source": [
    "uni_rnn = UniRNN(cell_type='LSTM', embed_size=128, state_sizes=[64, 128], data_manager=dm)\n",
    "uni_rnn.build()\n",
    "opt = tf.keras.optimizers.RMSprop(learning_rate=0.001)\n",
    "uni_rnn.compile_model(optimizer=opt, loss='sparse_categorical_crossentropy', metrics=['accuracy'])\n",
    "uni_rnn.fit(dm.tf_train_set.batch(64), epochs=10, validation_data = dm.tf_valid_set.batch(64))"
   ]
  },
  {
   "cell_type": "markdown",
   "metadata": {},
   "source": [
    "### <span style=\"color:#0b486b\">4.2. Bi-directional RNNs for sequence modeling and neural embedding </span> ###\n",
    "\n",
    "<div style=\"text-align: right\"><span style=\"color:red; font-weight:bold\">[Total marks for this part: 10 points]<span></div>"
   ]
  },
  {
   "cell_type": "markdown",
   "metadata": {},
   "source": [
    "#### <span style=\"color:red\">**Question 4.2.1**</span> \n",
    "**In what follow, you will investigate BiRNN. The task is similar to Part 5.1 but you need to write the code for an BiRNN. Note that the function *get_layer(cell_type= 'gru', state_size= 128, return_sequences= False, activation = 'tanh')* has to return the hidden layer with bidirectional memory cells (e.g., Basic RNN, GRU, and LSTM cells).**\n",
    "\n",
    "**Complete the code of the class *BiRNN*. Note that for the embedding layer you need to set *mask_zero=True*.**\n",
    "\n",
    "<div style=\"text-align: right\"><span style=\"color:red\">[7 points]</span></div>"
   ]
  },
  {
   "cell_type": "code",
   "execution_count": 31,
   "metadata": {},
   "outputs": [],
   "source": [
    "class BiRNN:\n",
    "    def __init__(self, cell_type= 'gru', embed_size= 128, state_sizes= [128, 64], data_manager= None):\n",
    "        self.cell_type = cell_type\n",
    "        self.state_sizes = state_sizes\n",
    "        self.embed_size = embed_size\n",
    "        self.data_manager = data_manager\n",
    "        self.vocab_size = self.data_manager.vocab_size +1\n",
    "     \n",
    "    # returns layers similar to the methods above, except the bidirectional is applied.\n",
    "    @staticmethod\n",
    "    def get_layer(cell_type= 'gru', state_size= 128, return_sequences= False, activation = 'tanh'):\n",
    "        if cell_type == 'gru':\n",
    "            a = tf.keras.layers.GRU(state_size, return_sequences=return_sequences, activation=activation)\n",
    "            return tf.keras.layers.Bidirectional(a, merge_mode='concat')\n",
    "        elif cell_type == 'lstm':\n",
    "            a = tf.keras.layers.LSTM(state_size, return_sequences=return_sequences, activation=activation)\n",
    "            return tf.keras.layers.Bidirectional(a, merge_mode='concat')        \n",
    "        else:\n",
    "            a = tf.keras.layers.SimpleRNN(state_size, return_sequences=return_sequences, activation=activation)\n",
    "            return tf.keras.layers.Bidirectional(a, merge_mode='concat')\n",
    "        \n",
    "    # similar build method as above\n",
    "    def build(self):\n",
    "        x = tf.keras.layers.Input(shape=[None])\n",
    "        h = tf.keras.layers.Embedding(self.vocab_size, self.embed_size, mask_zero=True, trainable=True)(x)\n",
    "        num_layers = len(self.state_sizes)\n",
    "        for i in range(num_layers):\n",
    "            h = self.get_layer(self.cell_type, self.state_sizes[i], return_sequences= i < num_layers - 1)(h)\n",
    "        h = tf.keras.layers.Dense(dm.num_classes, activation='softmax')(h)\n",
    "        self.model = tf.keras.Model(inputs=x, outputs=h)\n",
    "        \n",
    "    def compile_model(self, *args, **kwargs):\n",
    "        self.model.compile(*args, **kwargs)\n",
    "    \n",
    "    def fit(self, *args, **kwargs):\n",
    "        return self.model.fit(*args, **kwargs)\n",
    "    \n",
    "    def evaluate(self, *args, **kwargs):\n",
    "        self.model.evaluate(*args, **kwargs)       \n"
   ]
  },
  {
   "cell_type": "markdown",
   "metadata": {},
   "source": [
    "#### <span style=\"color:red\">**Question 4.2.2**</span> \n",
    "**Run BiRNN for basic RNN ('basic_rnn') cell with $embed\\_size= 128, state\\_sizes= [64, 128], data\\_manager= dm$.**\n",
    "\n",
    "<div style=\"text-align: right\"><span style=\"color:red\">[1 points]</span></div>"
   ]
  },
  {
   "cell_type": "code",
   "execution_count": 32,
   "metadata": {},
   "outputs": [
    {
     "name": "stdout",
     "output_type": "stream",
     "text": [
      "Epoch 1/10\n",
      "19/19 [==============================] - 13s 524ms/step - loss: 0.6881 - accuracy: 0.7827 - val_loss: 0.2970 - val_accuracy: 0.9064\n",
      "Epoch 2/10\n",
      "19/19 [==============================] - 10s 505ms/step - loss: 0.0899 - accuracy: 0.9784 - val_loss: 0.1890 - val_accuracy: 0.9431\n",
      "Epoch 3/10\n",
      "19/19 [==============================] - 9s 495ms/step - loss: 0.0161 - accuracy: 0.9983 - val_loss: 0.4190 - val_accuracy: 0.8930\n",
      "Epoch 4/10\n",
      "19/19 [==============================] - 10s 507ms/step - loss: 0.0061 - accuracy: 0.9992 - val_loss: 0.1925 - val_accuracy: 0.9532\n",
      "Epoch 5/10\n",
      "19/19 [==============================] - 9s 491ms/step - loss: 0.0015 - accuracy: 1.0000 - val_loss: 0.1945 - val_accuracy: 0.9498\n",
      "Epoch 6/10\n",
      "19/19 [==============================] - 9s 495ms/step - loss: 3.6849e-04 - accuracy: 1.0000 - val_loss: 0.2061 - val_accuracy: 0.9465\n",
      "Epoch 7/10\n",
      "19/19 [==============================] - 10s 533ms/step - loss: 1.2974e-04 - accuracy: 1.0000 - val_loss: 0.2170 - val_accuracy: 0.9465\n",
      "Epoch 8/10\n",
      "19/19 [==============================] - 10s 519ms/step - loss: 4.6843e-05 - accuracy: 1.0000 - val_loss: 0.2296 - val_accuracy: 0.9532\n",
      "Epoch 9/10\n",
      "19/19 [==============================] - 10s 512ms/step - loss: 1.6960e-05 - accuracy: 1.0000 - val_loss: 0.2425 - val_accuracy: 0.9498\n",
      "Epoch 10/10\n",
      "19/19 [==============================] - 9s 483ms/step - loss: 6.2426e-06 - accuracy: 1.0000 - val_loss: 0.2556 - val_accuracy: 0.9498\n"
     ]
    },
    {
     "data": {
      "text/plain": [
       "<keras.callbacks.History at 0x2b4b792bfa0>"
      ]
     },
     "execution_count": 32,
     "metadata": {},
     "output_type": "execute_result"
    }
   ],
   "source": [
    "bi_rnn = BiRNN(cell_type='basic_rnn', embed_size=128, state_sizes=[64, 128], data_manager=dm)\n",
    "bi_rnn.build()\n",
    "opt = tf.keras.optimizers.RMSprop(learning_rate=0.001)\n",
    "bi_rnn.compile_model(optimizer=opt, loss='sparse_categorical_crossentropy', metrics=['accuracy'])\n",
    "bi_rnn.fit(dm.tf_train_set.batch(64), epochs=10, validation_data = dm.tf_valid_set.batch(64))"
   ]
  },
  {
   "cell_type": "markdown",
   "metadata": {},
   "source": [
    "#### <span style=\"color:red\">**Question 4.2.3**</span> \n",
    "**Run BiRNN for GRU ('gru') cell with $embed\\_size= 128, state\\_sizes= [64, 128], data\\_manager= dm$.**\n",
    "\n",
    "<div style=\"text-align: right\"><span style=\"color:red\">[1 points]</span></div>"
   ]
  },
  {
   "cell_type": "code",
   "execution_count": 33,
   "metadata": {},
   "outputs": [
    {
     "name": "stdout",
     "output_type": "stream",
     "text": [
      "Epoch 1/10\n",
      "19/19 [==============================] - 13s 510ms/step - loss: 0.6906 - accuracy: 0.7835 - val_loss: 0.3541 - val_accuracy: 0.8997\n",
      "Epoch 2/10\n",
      "19/19 [==============================] - 9s 489ms/step - loss: 0.1024 - accuracy: 0.9700 - val_loss: 0.1628 - val_accuracy: 0.9365\n",
      "Epoch 3/10\n",
      "19/19 [==============================] - 9s 482ms/step - loss: 0.0172 - accuracy: 0.9975 - val_loss: 0.1117 - val_accuracy: 0.9599\n",
      "Epoch 4/10\n",
      "19/19 [==============================] - 10s 511ms/step - loss: 0.0037 - accuracy: 1.0000 - val_loss: 0.1060 - val_accuracy: 0.9699\n",
      "Epoch 5/10\n",
      "19/19 [==============================] - 10s 522ms/step - loss: 0.0010 - accuracy: 1.0000 - val_loss: 0.0990 - val_accuracy: 0.9699\n",
      "Epoch 6/10\n",
      "19/19 [==============================] - 10s 511ms/step - loss: 2.9866e-04 - accuracy: 1.0000 - val_loss: 0.1046 - val_accuracy: 0.9632\n",
      "Epoch 7/10\n",
      "19/19 [==============================] - 10s 523ms/step - loss: 1.0443e-04 - accuracy: 1.0000 - val_loss: 0.1105 - val_accuracy: 0.9632\n",
      "Epoch 8/10\n",
      "19/19 [==============================] - 9s 497ms/step - loss: 3.7478e-05 - accuracy: 1.0000 - val_loss: 0.1183 - val_accuracy: 0.9732\n",
      "Epoch 9/10\n",
      "19/19 [==============================] - 10s 514ms/step - loss: 1.3767e-05 - accuracy: 1.0000 - val_loss: 0.1276 - val_accuracy: 0.9699\n",
      "Epoch 10/10\n",
      "19/19 [==============================] - 10s 516ms/step - loss: 5.1395e-06 - accuracy: 1.0000 - val_loss: 0.1374 - val_accuracy: 0.9699\n"
     ]
    },
    {
     "data": {
      "text/plain": [
       "<keras.callbacks.History at 0x2b4ba3a7220>"
      ]
     },
     "execution_count": 33,
     "metadata": {},
     "output_type": "execute_result"
    }
   ],
   "source": [
    "bi_rnn = BiRNN(cell_type='GRU', embed_size=128, state_sizes=[64, 128], data_manager=dm)\n",
    "bi_rnn.build()\n",
    "opt = tf.keras.optimizers.RMSprop(learning_rate=0.001)\n",
    "bi_rnn.compile_model(optimizer=opt, loss='sparse_categorical_crossentropy', metrics=['accuracy'])\n",
    "bi_rnn.fit(dm.tf_train_set.batch(64), epochs=10, validation_data = dm.tf_valid_set.batch(64))"
   ]
  },
  {
   "cell_type": "markdown",
   "metadata": {},
   "source": [
    "#### <span style=\"color:red\">**Question 4.2.4**</span> \n",
    "**Run BiRNN for LSTM ('lstm') cell with $embed\\_size= 128, state\\_sizes= [64, 128], data\\_manager= dm$.**\n",
    "\n",
    "<div style=\"text-align: right\"><span style=\"color:red\">[1 points]</span></div>"
   ]
  },
  {
   "cell_type": "code",
   "execution_count": 34,
   "metadata": {},
   "outputs": [
    {
     "name": "stdout",
     "output_type": "stream",
     "text": [
      "Epoch 1/10\n",
      "19/19 [==============================] - 13s 517ms/step - loss: 0.7355 - accuracy: 0.7610 - val_loss: 0.3934 - val_accuracy: 0.9130\n",
      "Epoch 2/10\n",
      "19/19 [==============================] - 9s 498ms/step - loss: 0.1131 - accuracy: 0.9725 - val_loss: 0.1509 - val_accuracy: 0.9565\n",
      "Epoch 3/10\n",
      "19/19 [==============================] - 10s 505ms/step - loss: 0.0174 - accuracy: 0.9983 - val_loss: 0.1222 - val_accuracy: 0.9565\n",
      "Epoch 4/10\n",
      "19/19 [==============================] - 9s 497ms/step - loss: 0.0041 - accuracy: 1.0000 - val_loss: 0.1333 - val_accuracy: 0.9532\n",
      "Epoch 5/10\n",
      "19/19 [==============================] - 10s 517ms/step - loss: 0.0012 - accuracy: 1.0000 - val_loss: 0.1571 - val_accuracy: 0.9498\n",
      "Epoch 6/10\n",
      "19/19 [==============================] - 10s 507ms/step - loss: 3.3212e-04 - accuracy: 1.0000 - val_loss: 0.1863 - val_accuracy: 0.9532\n",
      "Epoch 7/10\n",
      "19/19 [==============================] - 10s 537ms/step - loss: 1.1229e-04 - accuracy: 1.0000 - val_loss: 0.2036 - val_accuracy: 0.9565\n",
      "Epoch 8/10\n",
      "19/19 [==============================] - 10s 523ms/step - loss: 3.9556e-05 - accuracy: 1.0000 - val_loss: 0.2336 - val_accuracy: 0.9565\n",
      "Epoch 9/10\n",
      "19/19 [==============================] - 10s 512ms/step - loss: 1.3928e-05 - accuracy: 1.0000 - val_loss: 0.2615 - val_accuracy: 0.9565\n",
      "Epoch 10/10\n",
      "19/19 [==============================] - 10s 518ms/step - loss: 0.0267 - accuracy: 0.9892 - val_loss: 0.1919 - val_accuracy: 0.9498\n"
     ]
    },
    {
     "data": {
      "text/plain": [
       "<keras.callbacks.History at 0x2b4babd18a0>"
      ]
     },
     "execution_count": 34,
     "metadata": {},
     "output_type": "execute_result"
    }
   ],
   "source": [
    "bi_rnn = BiRNN(cell_type='LSTM', embed_size=128, state_sizes=[64, 128], data_manager=dm)\n",
    "bi_rnn.build()\n",
    "opt = tf.keras.optimizers.RMSprop(learning_rate=0.001)\n",
    "bi_rnn.compile_model(optimizer=opt, loss='sparse_categorical_crossentropy', metrics=['accuracy'])\n",
    "bi_rnn.fit(dm.tf_train_set.batch(64), epochs=10, validation_data = dm.tf_valid_set.batch(64))"
   ]
  },
  {
   "cell_type": "markdown",
   "metadata": {},
   "source": [
    "### <span style=\"color:#0b486b\">4.3. RNNs with various types, cells, and fine-tuning embedding matrix for sequence modeling and neural embedding </span> ###\n",
    "\n",
    "<div style=\"text-align: right\"><span style=\"color:red; font-weight:bold\">[Total marks for this part: 10 points]<span></div>"
   ]
  },
  {
   "cell_type": "markdown",
   "metadata": {},
   "source": [
    "#### <span style=\"color:red\">**Question 4.3.1**</span> \n",
    "\n",
    "**In what follows, you are required to combine the code in Part 1 and Part 2 to gain a general RNN which can be either Uni-directional RNN or Bi-directional RNN and the embedding matrix can be initialized using a pretrained Word2Vect.**\n",
    "\n",
    "**Below are the descriptions of the attributes of the class *RNN*:**\n",
    "- `run_mode (self.run_mode)` has three values (scratch, init-only, and init-fine-tune).\n",
    "  - `scratch` means training the embedding matrix from scratch.\n",
    "  - `init-only` means only initializing the embedding matrix with a pretrained Word2Vect but **not further doing** fine-tuning that matrix.\n",
    "  - `init-fine-tune` means both initializing the embedding matrix with a pretrained Word2Vect and **further doing** fine-tuning that matrix.\n",
    "- `network_type (self.network_type)` has two values (uni-directional and bi-directional) which correspond to either Uni-directional RNN or Bi-directional RNN.\n",
    "- `cell_type (self.cell_type)` has three values (simple-rnn, gru, and lstm) which specify the memory cell used in the network.\n",
    "- `embed_model (self.embed_model)` specifes the pretrained Word2Vect model used.\n",
    "-  `embed_size (self.embed_size)` specifes the embedding size. Note that when run_mode is either init-only' or 'init-fine-tune', this embedding size is extracted from embed_model for dimension compatability.\n",
    "- `state_sizes (self.state_sizes)` indicates the list of the hidden sizes  of memory cells. For example, $state\\_sizes = [64, 128]$ means that you have two hidden layers in your network with hidden sizes of $64$ and $128$ respectively.\n",
    "\n",
    "**Complete the code of the class *RNN*.**\n",
    "\n",
    "<div style=\"text-align: right\"><span style=\"color:red\">[6 points]</span></div>"
   ]
  },
  {
   "cell_type": "code",
   "execution_count": 35,
   "metadata": {},
   "outputs": [],
   "source": [
    "class RNN:\n",
    "    def __init__(self, run_mode = 'scratch', cell_type= 'gru', network_type = 'uni-directional', embed_model= 'glove-wiki-gigaword-100', \n",
    "                 embed_size= 128, state_sizes = [64, 64], data_manager = None):\n",
    "        self.run_mode = run_mode\n",
    "        self.data_manager = data_manager\n",
    "        self.cell_type = cell_type\n",
    "        self.network_type = network_type\n",
    "        self.state_sizes = state_sizes\n",
    "        self.embed_model = embed_model\n",
    "        self.embed_size = embed_size\n",
    "        if self.run_mode != 'scratch':\n",
    "            self.embed_size = int(self.embed_model.split(\"-\")[-1])\n",
    "        self.data_manager = data_manager\n",
    "        self.vocab_size = dm.vocab_size +1\n",
    "        self.word2idx = dm.word2idx\n",
    "        self.word2vect = None\n",
    "        self.embed_matrix = np.zeros(shape= [self.vocab_size, self.embed_size])\n",
    "    \n",
    "    def build_embedding_matrix(self):\n",
    "        self.word2vect = api.load(self.embed_model) # load embedding model\n",
    "        for word, idx in self.word2idx.items():\n",
    "            try:\n",
    "                self.embed_matrix[idx] = self.word2vect.word_vec(word) # assign weight for the corresponding word and index\n",
    "            except KeyError: # word cannot be found\n",
    "                pass\n",
    "            \n",
    "    # incorporates both methods above. returning the layers requested and only wrapping with bidirectional layer if required.\n",
    "    @staticmethod\n",
    "    def get_layer(cell_type= 'gru', network_type= 'uni-directional', hidden_size= 128, return_sequences= False, activation = 'tanh'):\n",
    "        if cell_type == 'gru':\n",
    "            a = tf.keras.layers.GRU(hidden_size, return_sequences=return_sequences, activation=activation)\n",
    "        elif cell_type == 'lstm':\n",
    "            a = tf.keras.layers.LSTM(hidden_size, return_sequences=return_sequences, activation=activation)\n",
    "        else:\n",
    "            a = tf.keras.layers.SimpleRNN(hidden_size, return_sequences=return_sequences, activation=activation)\n",
    "            \n",
    "        #check if bidirectional or unidirectional\n",
    "        if network_type == 'uni-directional':\n",
    "            return a\n",
    "        else:\n",
    "            return tf.keras.layers.Bidirectional(a, merge_mode='concat')  \n",
    "    \n",
    "    def build(self):\n",
    "        x = tf.keras.layers.Input(shape=[None])\n",
    "        # for the embedding layer, return according to specification. Method is done with reference to tutorial materials\n",
    "        if self.run_mode == \"scratch\":\n",
    "            h = tf.keras.layers.Embedding(self.vocab_size, self.embed_size, mask_zero=True, trainable=True)(x)\n",
    "        elif self.run_mode == \"init-only\":\n",
    "            self.build_embedding_matrix()\n",
    "            h = tf.keras.layers.Embedding(self.vocab_size, self.embed_size, mask_zero=True, trainable=False,\n",
    "                                                        weights=[self.embed_matrix])(x)            \n",
    "        else: # If fine tuned, set trainable to true to allow fine tuning to the layer\n",
    "            self.build_embedding_matrix()\n",
    "            h = tf.keras.layers.Embedding(self.vocab_size, self.embed_size, mask_zero=True, trainable=True,\n",
    "                                                        weights=[self.embed_matrix])(x)\n",
    "        # similar method to the build method above\n",
    "        num_layers = len(self.state_sizes)\n",
    "        for i in range(num_layers):\n",
    "            h = self.get_layer(self.cell_type, self.state_sizes[i], return_sequences= i < num_layers - 1)(h)\n",
    "        h = tf.keras.layers.Dense(dm.num_classes, activation='softmax')(h)\n",
    "        self.model = tf.keras.Model(inputs=x, outputs=h)\n",
    "        \n",
    "    def compile_model(self, *args, **kwargs):\n",
    "        self.model.compile(*args, **kwargs)\n",
    "    \n",
    "    def fit(self, *args, **kwargs):\n",
    "        return self.model.fit(*args, **kwargs)\n",
    "    \n",
    "    def evaluate(self, *args, **kwargs):\n",
    "        self.model.evaluate(*args, **kwargs)       \n"
   ]
  },
  {
   "cell_type": "markdown",
   "metadata": {},
   "source": [
    "#### <span style=\"color:red\">**Question 4.3.2**</span> \n",
    "\n",
    "**Design the experiment to compare three running modes. Note that you should stick with fixed values for other attributes and only vary *run_mode*. Give your comments for the results.**\n",
    "\n",
    "<div style=\"text-align: right\"><span style=\"color:red\">[2 points]</span></div>"
   ]
  },
  {
   "cell_type": "markdown",
   "metadata": {},
   "source": [
    "- ['scratch', 0.9498]\n",
    "- ['init-only', 0.9732]\n",
    "- ['init-fine-tuned', 0.9666]\n",
    "\n",
    "**Best Running Mode:** `init-only`\n",
    "**Best Accuracy:** 0.9732\n",
    "\n",
    "It seems to indicate that the original **glove-wiki-gigaword-100** already provides us with a complete embedding model which does \n",
    "not require any fine-tuning. And since by using **scratch** we would be utilising our own initial weights, it will be weaker hence the lower performance.\n"
   ]
  },
  {
   "cell_type": "code",
   "execution_count": 36,
   "metadata": {},
   "outputs": [
    {
     "name": "stdout",
     "output_type": "stream",
     "text": [
      "Epoch 1/10\n",
      "19/19 [==============================] - 19s 265ms/step - loss: 1.1865 - accuracy: 0.6003 - val_loss: 0.5244 - val_accuracy: 0.8696\n",
      "Epoch 2/10\n",
      "19/19 [==============================] - 1s 41ms/step - loss: 0.2388 - accuracy: 0.9317 - val_loss: 0.3238 - val_accuracy: 0.8863\n",
      "Epoch 3/10\n",
      "19/19 [==============================] - 1s 43ms/step - loss: 0.0818 - accuracy: 0.9725 - val_loss: 0.2445 - val_accuracy: 0.9231\n",
      "Epoch 4/10\n",
      "19/19 [==============================] - 1s 43ms/step - loss: 0.0176 - accuracy: 0.9975 - val_loss: 0.1688 - val_accuracy: 0.9431\n",
      "Epoch 5/10\n",
      "19/19 [==============================] - 1s 43ms/step - loss: 0.0046 - accuracy: 0.9983 - val_loss: 0.1725 - val_accuracy: 0.9532\n",
      "Epoch 6/10\n",
      "19/19 [==============================] - 1s 42ms/step - loss: 5.9126e-04 - accuracy: 1.0000 - val_loss: 0.1501 - val_accuracy: 0.9632\n",
      "Epoch 7/10\n",
      "19/19 [==============================] - 1s 44ms/step - loss: 1.8348e-04 - accuracy: 1.0000 - val_loss: 0.2151 - val_accuracy: 0.9498\n",
      "Epoch 8/10\n",
      "19/19 [==============================] - 1s 43ms/step - loss: 0.0265 - accuracy: 0.9925 - val_loss: 0.2515 - val_accuracy: 0.9565\n",
      "Epoch 9/10\n",
      "19/19 [==============================] - 1s 46ms/step - loss: 2.8454e-04 - accuracy: 1.0000 - val_loss: 0.2263 - val_accuracy: 0.9632\n",
      "Epoch 10/10\n",
      "19/19 [==============================] - 1s 46ms/step - loss: 6.0843e-05 - accuracy: 1.0000 - val_loss: 0.2255 - val_accuracy: 0.9632\n",
      "Running Mode: scratch\n",
      "Final Validation Accuracy: 0.9632107019424438\n",
      "==================================================\n"
     ]
    },
    {
     "name": "stderr",
     "output_type": "stream",
     "text": [
      "C:\\Users\\manut\\AppData\\Local\\Temp\\ipykernel_13616\\3900811933.py:23: DeprecationWarning: Call to deprecated `word_vec` (Use get_vector instead).\n",
      "  self.embed_matrix[idx] = self.word2vect.word_vec(word) # assign weight for the corresponding word and index\n"
     ]
    },
    {
     "name": "stdout",
     "output_type": "stream",
     "text": [
      "Epoch 1/10\n",
      "19/19 [==============================] - 17s 292ms/step - loss: 0.8695 - accuracy: 0.7052 - val_loss: 0.7100 - val_accuracy: 0.7492\n",
      "Epoch 2/10\n",
      "19/19 [==============================] - 1s 43ms/step - loss: 0.2796 - accuracy: 0.9184 - val_loss: 0.4498 - val_accuracy: 0.8863\n",
      "Epoch 3/10\n",
      "19/19 [==============================] - 1s 45ms/step - loss: 0.1262 - accuracy: 0.9642 - val_loss: 0.6328 - val_accuracy: 0.8094\n",
      "Epoch 4/10\n",
      "19/19 [==============================] - 1s 47ms/step - loss: 0.0724 - accuracy: 0.9800 - val_loss: 0.4235 - val_accuracy: 0.8829\n",
      "Epoch 5/10\n",
      "19/19 [==============================] - 1s 52ms/step - loss: 0.0597 - accuracy: 0.9808 - val_loss: 0.3776 - val_accuracy: 0.9164\n",
      "Epoch 6/10\n",
      "19/19 [==============================] - 1s 49ms/step - loss: 0.0361 - accuracy: 0.9892 - val_loss: 0.4380 - val_accuracy: 0.9130\n",
      "Epoch 7/10\n",
      "19/19 [==============================] - 1s 69ms/step - loss: 0.0273 - accuracy: 0.9917 - val_loss: 0.1217 - val_accuracy: 0.9632\n",
      "Epoch 8/10\n",
      "19/19 [==============================] - 1s 71ms/step - loss: 0.0252 - accuracy: 0.9925 - val_loss: 0.1232 - val_accuracy: 0.9565\n",
      "Epoch 9/10\n",
      "19/19 [==============================] - 1s 69ms/step - loss: 0.0217 - accuracy: 0.9892 - val_loss: 0.1050 - val_accuracy: 0.9699\n",
      "Epoch 10/10\n",
      "19/19 [==============================] - 2s 88ms/step - loss: 0.0045 - accuracy: 0.9992 - val_loss: 0.4955 - val_accuracy: 0.8896\n",
      "Running Mode: init-only\n",
      "Final Validation Accuracy: 0.8896321058273315\n",
      "==================================================\n",
      "Epoch 1/10\n",
      "19/19 [==============================] - 17s 257ms/step - loss: 0.8975 - accuracy: 0.7036 - val_loss: 0.5067 - val_accuracy: 0.8161\n",
      "Epoch 2/10\n",
      "19/19 [==============================] - 1s 45ms/step - loss: 0.2642 - accuracy: 0.9267 - val_loss: 0.3458 - val_accuracy: 0.8963\n",
      "Epoch 3/10\n",
      "19/19 [==============================] - 1s 41ms/step - loss: 0.1154 - accuracy: 0.9684 - val_loss: 0.3512 - val_accuracy: 0.9030\n",
      "Epoch 4/10\n",
      "19/19 [==============================] - 1s 45ms/step - loss: 0.0637 - accuracy: 0.9808 - val_loss: 0.3825 - val_accuracy: 0.8863\n",
      "Epoch 5/10\n",
      "19/19 [==============================] - 1s 36ms/step - loss: 0.0365 - accuracy: 0.9867 - val_loss: 0.1429 - val_accuracy: 0.9532\n",
      "Epoch 6/10\n",
      "19/19 [==============================] - 1s 42ms/step - loss: 0.0226 - accuracy: 0.9950 - val_loss: 0.3790 - val_accuracy: 0.8930\n",
      "Epoch 7/10\n",
      "19/19 [==============================] - 1s 43ms/step - loss: 0.0172 - accuracy: 0.9933 - val_loss: 0.3094 - val_accuracy: 0.9130\n",
      "Epoch 8/10\n",
      "19/19 [==============================] - 1s 46ms/step - loss: 0.0025 - accuracy: 1.0000 - val_loss: 0.1949 - val_accuracy: 0.9465\n",
      "Epoch 9/10\n",
      "19/19 [==============================] - 1s 39ms/step - loss: 0.0015 - accuracy: 1.0000 - val_loss: 0.0983 - val_accuracy: 0.9666\n",
      "Epoch 10/10\n",
      "19/19 [==============================] - 1s 37ms/step - loss: 0.0042 - accuracy: 0.9983 - val_loss: 0.2461 - val_accuracy: 0.9331\n",
      "Running Mode: init-fine-tuned\n",
      "Final Validation Accuracy: 0.9331103563308716\n",
      "==================================================\n"
     ]
    }
   ],
   "source": [
    "# Create a DataManager instance (dm) and configure your data loading\n",
    "\n",
    "# Define hyperparameters\n",
    "cell_type = 'gru'\n",
    "network_type = 'uni-directional'\n",
    "embed_model = 'glove-wiki-gigaword-100'\n",
    "embed_size = 128\n",
    "state_sizes = [64, 128]\n",
    "performance_results = []\n",
    "# Define running modes\n",
    "running_modes = ['scratch', 'init-only', 'init-fine-tuned']\n",
    "\n",
    "# Create and evaluate the model for each running mode\n",
    "for mode in running_modes:\n",
    "    # Create an instance of the RNN model\n",
    "    rnn_model = RNN(run_mode=mode, cell_type=cell_type, network_type=network_type,\n",
    "                    embed_model=embed_model, embed_size=embed_size, state_sizes=state_sizes,\n",
    "                    data_manager=dm)\n",
    "    \n",
    "    rnn_model.build()\n",
    "    opt = tf.keras.optimizers.RMSprop(learning_rate=0.001)\n",
    "    rnn_model.compile_model(optimizer=opt, loss='sparse_categorical_crossentropy', metrics=['accuracy'])\n",
    "    history = rnn_model.fit(dm.tf_train_set.batch(64), epochs=10, validation_data=dm.tf_valid_set.batch(64))\n",
    "    \n",
    "    # Extract the validation accuracy from the history\n",
    "    val_accuracy = history.history['val_accuracy'][-1]\n",
    "    performance_results.append([mode,val_accuracy])\n",
    "\n",
    "    # Report the performance for this running mode using validation accuracy\n",
    "    print(f\"Running Mode: {mode}\")\n",
    "    print(f\"Final Validation Accuracy: {val_accuracy}\")\n",
    "    print(\"=\" * 50)"
   ]
  },
  {
   "cell_type": "code",
   "execution_count": 37,
   "metadata": {},
   "outputs": [
    {
     "name": "stdout",
     "output_type": "stream",
     "text": [
      "['scratch', 0.9632107019424438]\n",
      "['init-only', 0.8896321058273315]\n",
      "['init-fine-tuned', 0.9331103563308716]\n",
      "Best running mode:  scratch  Best Accuracy:  0.9632107019424438\n"
     ]
    }
   ],
   "source": [
    "best_model = max(performance_results, key=lambda x: x[1])\n",
    "\n",
    "for i in range(len(performance_results)):\n",
    "    print (performance_results[i])\n",
    "    \n",
    "print (\"Best running mode: \", best_model[0], \" Best Accuracy: \", best_model[1])"
   ]
  },
  {
   "cell_type": "markdown",
   "metadata": {},
   "source": [
    "#### <span style=\"color:red\">**Question 4.3.3**</span> \n",
    "\n",
    "**Run the above general RNN with at least five parameter sets and try to obtain the best performance. You can stick with the running mode *init-fine-tune* and use grid search to tune other parameters. Record your best model which will be used in the next part.**\n",
    "\n",
    "<div style=\"text-align: right\"><span style=\"color:red\">[2 points]</span></div>"
   ]
  },
  {
   "cell_type": "markdown",
   "metadata": {},
   "source": [
    "- **Best Cell Type:** Simple RNN\n",
    "- **Best Network Type:** Bidirectional\n",
    "- **Best State Size:** [64, 128]\n",
    "- **Best Embed Size:** 128\n",
    "- **Best Run Mode:** Init Fine-Tuned\n",
    "- **Best Accuracy:** 0.9599\n"
   ]
  },
  {
   "cell_type": "code",
   "execution_count": 53,
   "metadata": {},
   "outputs": [
    {
     "name": "stderr",
     "output_type": "stream",
     "text": [
      "C:\\Users\\manut\\AppData\\Local\\Temp\\ipykernel_13616\\3900811933.py:23: DeprecationWarning: Call to deprecated `word_vec` (Use get_vector instead).\n",
      "  self.embed_matrix[idx] = self.word2vect.word_vec(word) # assign weight for the corresponding word and index\n"
     ]
    },
    {
     "name": "stdout",
     "output_type": "stream",
     "text": [
      "Epoch 1/10\n",
      "19/19 [==============================] - 15s 243ms/step - loss: 0.8745 - accuracy: 0.7127 - val_loss: 0.5365 - val_accuracy: 0.8227\n",
      "Epoch 2/10\n",
      "19/19 [==============================] - 1s 49ms/step - loss: 0.2613 - accuracy: 0.9309 - val_loss: 0.5812 - val_accuracy: 0.8294\n",
      "Epoch 3/10\n",
      "19/19 [==============================] - 1s 47ms/step - loss: 0.1167 - accuracy: 0.9659 - val_loss: 0.3751 - val_accuracy: 0.8997\n",
      "Epoch 4/10\n",
      "19/19 [==============================] - 1s 41ms/step - loss: 0.0630 - accuracy: 0.9825 - val_loss: 0.2492 - val_accuracy: 0.9398\n",
      "Epoch 5/10\n",
      "19/19 [==============================] - 1s 35ms/step - loss: 0.0384 - accuracy: 0.9867 - val_loss: 0.3516 - val_accuracy: 0.9097\n",
      "Epoch 6/10\n",
      "19/19 [==============================] - 1s 27ms/step - loss: 0.0310 - accuracy: 0.9917 - val_loss: 0.6806 - val_accuracy: 0.8462\n",
      "Epoch 7/10\n",
      "19/19 [==============================] - 1s 28ms/step - loss: 0.0081 - accuracy: 0.9992 - val_loss: 0.3739 - val_accuracy: 0.9097\n",
      "Epoch 8/10\n",
      "19/19 [==============================] - 1s 28ms/step - loss: 0.0091 - accuracy: 0.9967 - val_loss: 0.2751 - val_accuracy: 0.9365\n",
      "Epoch 9/10\n",
      "19/19 [==============================] - 1s 30ms/step - loss: 0.0082 - accuracy: 0.9967 - val_loss: 0.3126 - val_accuracy: 0.9197\n",
      "Epoch 10/10\n",
      "19/19 [==============================] - 1s 39ms/step - loss: 0.0176 - accuracy: 0.9942 - val_loss: 0.1046 - val_accuracy: 0.9666\n",
      "Epoch 1/10\n",
      "19/19 [==============================] - 15s 241ms/step - loss: 0.8846 - accuracy: 0.7152 - val_loss: 0.5343 - val_accuracy: 0.8094\n",
      "Epoch 2/10\n",
      "19/19 [==============================] - 1s 44ms/step - loss: 0.2566 - accuracy: 0.9259 - val_loss: 0.3929 - val_accuracy: 0.8930\n",
      "Epoch 3/10\n",
      "19/19 [==============================] - 1s 44ms/step - loss: 0.1176 - accuracy: 0.9684 - val_loss: 0.3354 - val_accuracy: 0.9030\n",
      "Epoch 4/10\n",
      "19/19 [==============================] - 1s 39ms/step - loss: 0.0675 - accuracy: 0.9792 - val_loss: 0.2981 - val_accuracy: 0.9097\n",
      "Epoch 5/10\n",
      "19/19 [==============================] - 1s 44ms/step - loss: 0.0438 - accuracy: 0.9858 - val_loss: 0.3269 - val_accuracy: 0.9030\n",
      "Epoch 6/10\n",
      "19/19 [==============================] - 1s 44ms/step - loss: 0.0128 - accuracy: 0.9983 - val_loss: 0.2639 - val_accuracy: 0.9331\n",
      "Epoch 7/10\n",
      "19/19 [==============================] - 1s 43ms/step - loss: 0.0236 - accuracy: 0.9925 - val_loss: 0.1114 - val_accuracy: 0.9632\n",
      "Epoch 8/10\n",
      "19/19 [==============================] - 1s 42ms/step - loss: 0.0060 - accuracy: 0.9992 - val_loss: 0.1092 - val_accuracy: 0.9632\n",
      "Epoch 9/10\n",
      "19/19 [==============================] - 1s 39ms/step - loss: 0.0033 - accuracy: 0.9992 - val_loss: 0.1135 - val_accuracy: 0.9632\n",
      "Epoch 10/10\n",
      "19/19 [==============================] - 1s 43ms/step - loss: 0.0090 - accuracy: 0.9958 - val_loss: 0.1149 - val_accuracy: 0.9666\n",
      "Epoch 1/10\n",
      "19/19 [==============================] - 14s 535ms/step - loss: 0.6753 - accuracy: 0.7702 - val_loss: 0.2926 - val_accuracy: 0.9264\n",
      "Epoch 2/10\n",
      "19/19 [==============================] - 9s 460ms/step - loss: 0.1308 - accuracy: 0.9784 - val_loss: 0.1981 - val_accuracy: 0.9431\n",
      "Epoch 3/10\n",
      "19/19 [==============================] - 9s 479ms/step - loss: 0.0435 - accuracy: 0.9950 - val_loss: 0.1658 - val_accuracy: 0.9532\n",
      "Epoch 4/10\n",
      "19/19 [==============================] - 9s 492ms/step - loss: 0.0201 - accuracy: 0.9975 - val_loss: 0.1273 - val_accuracy: 0.9632\n",
      "Epoch 5/10\n",
      "19/19 [==============================] - 9s 497ms/step - loss: 0.0054 - accuracy: 1.0000 - val_loss: 0.0883 - val_accuracy: 0.9732\n",
      "Epoch 6/10\n",
      "19/19 [==============================] - 11s 562ms/step - loss: 0.0017 - accuracy: 1.0000 - val_loss: 0.0888 - val_accuracy: 0.9632\n",
      "Epoch 7/10\n",
      "19/19 [==============================] - 10s 506ms/step - loss: 6.3482e-04 - accuracy: 1.0000 - val_loss: 0.0855 - val_accuracy: 0.9732\n",
      "Epoch 8/10\n",
      "19/19 [==============================] - 9s 496ms/step - loss: 2.1888e-04 - accuracy: 1.0000 - val_loss: 0.0897 - val_accuracy: 0.9766\n",
      "Epoch 9/10\n",
      "19/19 [==============================] - 9s 472ms/step - loss: 8.0986e-05 - accuracy: 1.0000 - val_loss: 0.0954 - val_accuracy: 0.9732\n",
      "Epoch 10/10\n",
      "19/19 [==============================] - 9s 476ms/step - loss: 3.0270e-05 - accuracy: 1.0000 - val_loss: 0.1011 - val_accuracy: 0.9732\n",
      "Epoch 1/10\n",
      "19/19 [==============================] - 13s 513ms/step - loss: 0.7026 - accuracy: 0.7710 - val_loss: 0.3198 - val_accuracy: 0.9197\n",
      "Epoch 2/10\n",
      "19/19 [==============================] - 10s 502ms/step - loss: 0.1324 - accuracy: 0.9759 - val_loss: 0.1862 - val_accuracy: 0.9398\n",
      "Epoch 3/10\n",
      "19/19 [==============================] - 10s 531ms/step - loss: 0.0460 - accuracy: 0.9933 - val_loss: 0.1710 - val_accuracy: 0.9465\n",
      "Epoch 4/10\n",
      "19/19 [==============================] - 10s 524ms/step - loss: 0.0391 - accuracy: 0.9883 - val_loss: 0.2337 - val_accuracy: 0.9431\n",
      "Epoch 5/10\n",
      "19/19 [==============================] - 11s 556ms/step - loss: 0.0070 - accuracy: 1.0000 - val_loss: 0.1102 - val_accuracy: 0.9732\n",
      "Epoch 6/10\n",
      "19/19 [==============================] - 11s 584ms/step - loss: 0.0024 - accuracy: 1.0000 - val_loss: 0.1066 - val_accuracy: 0.9699\n",
      "Epoch 7/10\n",
      "19/19 [==============================] - 10s 523ms/step - loss: 9.3000e-04 - accuracy: 1.0000 - val_loss: 0.1079 - val_accuracy: 0.9699\n",
      "Epoch 8/10\n",
      "19/19 [==============================] - 10s 547ms/step - loss: 3.4674e-04 - accuracy: 1.0000 - val_loss: 0.1101 - val_accuracy: 0.9666\n",
      "Epoch 9/10\n",
      "19/19 [==============================] - 9s 494ms/step - loss: 1.2682e-04 - accuracy: 1.0000 - val_loss: 0.1138 - val_accuracy: 0.9666\n",
      "Epoch 10/10\n",
      "19/19 [==============================] - 9s 473ms/step - loss: 4.6427e-05 - accuracy: 1.0000 - val_loss: 0.1157 - val_accuracy: 0.9699\n",
      "Epoch 1/10\n",
      "19/19 [==============================] - 14s 554ms/step - loss: 0.8070 - accuracy: 0.7311 - val_loss: 0.4727 - val_accuracy: 0.8763\n",
      "Epoch 2/10\n",
      "19/19 [==============================] - 10s 509ms/step - loss: 0.1482 - accuracy: 0.9742 - val_loss: 0.1638 - val_accuracy: 0.9365\n",
      "Epoch 3/10\n",
      "19/19 [==============================] - 10s 506ms/step - loss: 0.0423 - accuracy: 0.9975 - val_loss: 0.1822 - val_accuracy: 0.9431\n",
      "Epoch 4/10\n",
      "19/19 [==============================] - 10s 528ms/step - loss: 0.0126 - accuracy: 1.0000 - val_loss: 0.1759 - val_accuracy: 0.9532\n",
      "Epoch 5/10\n",
      "19/19 [==============================] - 10s 509ms/step - loss: 0.0297 - accuracy: 0.9917 - val_loss: 0.1307 - val_accuracy: 0.9532\n",
      "Epoch 6/10\n",
      "19/19 [==============================] - 10s 504ms/step - loss: 0.0027 - accuracy: 1.0000 - val_loss: 0.1296 - val_accuracy: 0.9532\n",
      "Epoch 7/10\n",
      "19/19 [==============================] - 10s 531ms/step - loss: 0.0011 - accuracy: 1.0000 - val_loss: 0.1270 - val_accuracy: 0.9565\n",
      "Epoch 8/10\n",
      "19/19 [==============================] - 10s 506ms/step - loss: 4.6358e-04 - accuracy: 1.0000 - val_loss: 0.1295 - val_accuracy: 0.9565\n",
      "Epoch 9/10\n",
      "19/19 [==============================] - 10s 543ms/step - loss: 1.8708e-04 - accuracy: 1.0000 - val_loss: 0.1347 - val_accuracy: 0.9599\n",
      "Epoch 10/10\n",
      "19/19 [==============================] - 10s 546ms/step - loss: 7.2029e-05 - accuracy: 1.0000 - val_loss: 0.1405 - val_accuracy: 0.9599\n",
      "Epoch 1/10\n",
      "19/19 [==============================] - 14s 549ms/step - loss: 0.7132 - accuracy: 0.7794 - val_loss: 0.3065 - val_accuracy: 0.9197\n",
      "Epoch 2/10\n",
      "19/19 [==============================] - 9s 489ms/step - loss: 0.1282 - accuracy: 0.9717 - val_loss: 0.1552 - val_accuracy: 0.9532\n",
      "Epoch 3/10\n",
      "19/19 [==============================] - 9s 479ms/step - loss: 0.0502 - accuracy: 0.9925 - val_loss: 0.1557 - val_accuracy: 0.9498\n",
      "Epoch 4/10\n",
      "19/19 [==============================] - 10s 517ms/step - loss: 0.0197 - accuracy: 0.9958 - val_loss: 0.1185 - val_accuracy: 0.9666\n",
      "Epoch 5/10\n",
      "19/19 [==============================] - 9s 492ms/step - loss: 0.0047 - accuracy: 1.0000 - val_loss: 0.0871 - val_accuracy: 0.9699\n",
      "Epoch 6/10\n",
      "19/19 [==============================] - 10s 503ms/step - loss: 0.0016 - accuracy: 1.0000 - val_loss: 0.0936 - val_accuracy: 0.9699\n",
      "Epoch 7/10\n",
      "19/19 [==============================] - 9s 502ms/step - loss: 5.6359e-04 - accuracy: 1.0000 - val_loss: 0.0986 - val_accuracy: 0.9699\n",
      "Epoch 8/10\n",
      "19/19 [==============================] - 9s 482ms/step - loss: 2.0779e-04 - accuracy: 1.0000 - val_loss: 0.1047 - val_accuracy: 0.9699\n",
      "Epoch 9/10\n",
      "19/19 [==============================] - 9s 496ms/step - loss: 7.5750e-05 - accuracy: 1.0000 - val_loss: 0.1131 - val_accuracy: 0.9699\n",
      "Epoch 10/10\n",
      "19/19 [==============================] - 10s 521ms/step - loss: 2.7683e-05 - accuracy: 1.0000 - val_loss: 0.1209 - val_accuracy: 0.9699\n"
     ]
    }
   ],
   "source": [
    "#The run of your best model here\n",
    "# Define hyperparameters\n",
    "cell_types = ['gru','ltsm','simple-rnn']\n",
    "network_types = ['bidirectional','uni-directional']\n",
    "embed_model = 'glove-wiki-gigaword-100'\n",
    "embed_sizes = [128]\n",
    "state_sizes = [[64, 128]]\n",
    "performance_results = []\n",
    "running_modes = ['init-fine-tuned']\n",
    "\n",
    "# Create and evaluate the model for each running mode\n",
    "for cell_type in cell_types:\n",
    "    for network_type in network_types:\n",
    "        for state_size in state_sizes:\n",
    "            for embed_size in embed_sizes:\n",
    "                for mode in running_modes:\n",
    "                    # Create an instance of the RNN model\n",
    "                    rnn_model = RNN(run_mode=mode, cell_type=cell_type, network_type=network_type,\n",
    "                                    embed_model=embed_model, embed_size=embed_size, state_sizes=state_size,\n",
    "                                    data_manager=dm)\n",
    "\n",
    "                    rnn_model.build()\n",
    "                    opt = tf.keras.optimizers.RMSprop(learning_rate=0.001)\n",
    "                    rnn_model.compile_model(optimizer=opt, loss='sparse_categorical_crossentropy', metrics=['accuracy'])\n",
    "                    history = rnn_model.fit(dm.tf_train_set.batch(64), epochs=10, validation_data=dm.tf_valid_set.batch(64))\n",
    "\n",
    "                    # Extract the validation accuracy from the history\n",
    "                    val_accuracy = history.history['val_accuracy'][-1]\n",
    "                    performance_results.append([rnn_model,cell_type,network_type,state_size,embed_size,mode,val_accuracy])"
   ]
  },
  {
   "cell_type": "code",
   "execution_count": 54,
   "metadata": {},
   "outputs": [
    {
     "name": "stdout",
     "output_type": "stream",
     "text": [
      "Best cell type:  simple-rnn  Best network type:  bidirectional  Best state size:  [64, 128]  Best embed size:  128  Best run mode:  init-fine-tuned  Best Accuracy:  0.9598662257194519\n"
     ]
    }
   ],
   "source": [
    "best_rnn_model = max(performance_results, key=lambda x: x[1])\n",
    "print (\"Best cell type: \", best_rnn_model[1], \" Best network type: \", best_rnn_model[2], \" Best state size: \", best_rnn_model[3], \" Best embed size: \", best_rnn_model[4], \" Best run mode: \", best_rnn_model[5], \" Best Accuracy: \", best_rnn_model[6])"
   ]
  },
  {
   "cell_type": "markdown",
   "metadata": {},
   "source": [
    "### <span style=\"color:#0b486b\">4.4. RNNs with Standard Attention for Text and Sequence Classification</span> ###\n",
    "\n",
    "**In what follows, you are required to implement a RNN with the attention machenism for text and sequence classification. This attention mechanism is applied at the last hidden layer of our RNN. Specifically, let $h_1, h_2,...,h_{L-1}, h_L$ be the hidden states at the last hidden layer where $L$ is the sequence length. We compute the context vector $c$ as $c=\\sum_{i=1}^{L}a_{i}h_{i}$ where $a_1,...,a_L$ are the allignment weights (i.e., $a_i\\geq 0$ and $\\sum_{i=1}^{L}a_{i}=1$).**\n",
    "\n",
    "**The allignment weights are computed as follows:**\n",
    "- $a=[a_{i}]_{i=1}^{L}=softmax([s_{i}]_{i=1}^{L})$ where $s= [s_{i}]_{i=1}^{L}$ consists of the allignment scores.\n",
    "- The assigment scores $s= [s_{i}]_{i=1}^{L}$ are computed as $s=tanh(hU)V$ where $h=\\left[\\begin{array}{c}\n",
    "h_{1}\\\\\n",
    "h_{2}\\\\\n",
    "...\\\\\n",
    "h_{L-1}\\\\\n",
    "h_{L}\n",
    "\\end{array}\\right]\\in\\mathbb{R}^{L\\times state\\_size_{3}}$, $U\\in\\mathbb{R}^{state\\_size_{3}\\times output\\_length}$, $V\\in\\mathbb{R}^{output\\_length\\times1}$, and $output\\_length$ is a hyper-parameter. Note that if we consider a mini-batch, the shape of $h$ is $batch\\_size \\times L \\times state\\_size_3$ where $state\\_size_3$ is the hidden size of the last hidden layer.\n",
    "\n",
    "After having the context vector $c$, we concatenate with the last hidden state $h_L$. On top of this concatenation, we conduct the output layer with the softmax activation.\n",
    "\n",
    "<img src=\"./images/attention.png\" align=\"center\" width=1200/>\n",
    "\n",
    "<div style=\"text-align: right\"><span style=\"color:red; font-weight:bold\">[Total marks for this part: 10 points]<span></div>"
   ]
  },
  {
   "cell_type": "markdown",
   "metadata": {},
   "source": [
    "#### <span style=\"color:red\">**Question 4.4.1**</span>\n",
    "\n",
    "**We declare the  layer `MyStandardAttention` as a class inherited from `tf.keras.layers.Layer` to realize our attention mechanism. You are required to provide the code for this class. Note that in the `def call(self, all_states, last_state)` method, `all_states` is the collection of all hidden states and `last_state` is the last hidden state.**\n",
    "\n",
    "<div style=\"text-align: right\"><span style=\"color:red\">[4 points]</span></div>"
   ]
  },
  {
   "cell_type": "code",
   "execution_count": 61,
   "metadata": {},
   "outputs": [],
   "source": [
    "class MyStandardAttention(tf.keras.layers.Layer):\n",
    "    def __init__(self, output_length= 50):\n",
    "        super(MyStandardAttention, self).__init__()\n",
    "        self.W1 = tf.keras.layers.Dense(50)\n",
    "        self.W2 = tf.keras.layers.Dense(50)\n",
    "        self.V = tf.keras.layers.Dense(1)\n",
    "        \n",
    "    #all_states is the collection of all hidden states and last_state is the last hidden state\n",
    "    def call(self, all_states, last_state):\n",
    "        # Extend the last_state dimension for concatenation\n",
    "        last_state_extend = tf.expand_dims(last_state, axis=1)\n",
    "\n",
    "        # Compute the attention scores [batch_size, num_timesteps, 1]\n",
    "        attention_score = self.V(tf.keras.activations.tanh(self.W1(all_states) + self.W2(last_state_extend)))\n",
    "\n",
    "        # Compute the attention weights [batch_size, num_timesteps, 1]\n",
    "        attention_weight = tf.nn.softmax(attention_score, axis=1)\n",
    "\n",
    "        # Compute the context [batch_size, num_units]\n",
    "        context = tf.reduce_sum(attention_weight * all_states, axis=1)\n",
    "        return context, attention_weight"
   ]
  },
  {
   "cell_type": "markdown",
   "metadata": {},
   "source": [
    "#### <span style=\"color:red\">**Question 4.4.2**</span> \n",
    "\n",
    "**You are required to extend the class `RNN` in Section `4.3.1` to achieve the class `StandardAttention_RNN` in which the attention mechanism mentioned above is applied at the last hidden layer.**\n",
    "\n",
    "<div style=\"text-align: right\"><span style=\"color:red\">[4 points]</span></div>"
   ]
  },
  {
   "cell_type": "code",
   "execution_count": 62,
   "metadata": {},
   "outputs": [],
   "source": [
    "class StandardAttention_RNN:\n",
    "    def __init__(self, run_mode = 'scratch', cell_type= 'gru', network_type = 'uni-directional', embed_model= 'glove-wiki-gigaword-100', \n",
    "                 embed_size= 128, state_sizes = [64, 64], data_manager = None):\n",
    "        self.run_mode = run_mode\n",
    "        self.data_manager = data_manager\n",
    "        self.cell_type = cell_type\n",
    "        self.network_type = network_type\n",
    "        self.state_sizes = state_sizes\n",
    "        self.embed_model = embed_model\n",
    "        self.embed_size = embed_size\n",
    "        if self.run_mode != 'scratch':\n",
    "            self.embed_size = int(self.embed_model.split(\"-\")[-1])\n",
    "        self.data_manager = data_manager\n",
    "        self.vocab_size = dm.vocab_size +1\n",
    "        self.word2idx = dm.word2idx\n",
    "        self.word2vect = None\n",
    "        self.embed_matrix = np.zeros(shape= [self.vocab_size, self.embed_size])\n",
    "    \n",
    "    def build_embedding_matrix(self):\n",
    "        self.word2vect = api.load(self.embed_model) # load embedding model\n",
    "        for word, idx in self.word2idx.items():\n",
    "            try:\n",
    "                self.embed_matrix[idx] = self.word2vect.word_vec(word) # assign weight for the corresponding word and index\n",
    "            except KeyError: # word cannot be found\n",
    "                pass\n",
    "            \n",
    "    @staticmethod\n",
    "    def get_layer(cell_type= 'gru', network_type= 'uni-directional', hidden_size= 128, return_sequences= False, activation = 'tanh'):\n",
    "        #Insert your code here\n",
    "        if cell_type == 'gru':\n",
    "            a = tf.keras.layers.GRU(hidden_size, return_sequences=return_sequences, activation=activation)\n",
    "        elif cell_type == 'lstm':\n",
    "            a = tf.keras.layers.LSTM(hidden_size, return_sequences=return_sequences, activation=activation)\n",
    "        else:\n",
    "            a = tf.keras.layers.SimpleRNN(hidden_size, return_sequences=return_sequences, activation=activation)\n",
    "            \n",
    "        #check if bidirectional or unidirectional\n",
    "        if network_type == 'uni-directional':\n",
    "            return a\n",
    "        else:\n",
    "            return tf.keras.layers.Bidirectional(a, merge_mode='concat')  \n",
    "    \n",
    "    def build(self):\n",
    "        #Insert your code here\n",
    "        x = tf.keras.layers.Input(shape=[None])\n",
    "        if self.run_mode == \"scratch\":\n",
    "            h = tf.keras.layers.Embedding(self.vocab_size, self.embed_size, mask_zero=True, trainable=True)(x)\n",
    "        elif self.run_mode == \"init-only\":\n",
    "            self.build_embedding_matrix()\n",
    "            h = tf.keras.layers.Embedding(self.vocab_size, self.embed_size, mask_zero=True, trainable=False,\n",
    "                                                        weights=[self.embed_matrix])(x)            \n",
    "        else: # fine-tuned\n",
    "            self.build_embedding_matrix()\n",
    "            h = tf.keras.layers.Embedding(self.vocab_size, self.embed_size, mask_zero=True, trainable=True,\n",
    "                                                        weights=[self.embed_matrix])(x)\n",
    "        num_layers = len(self.state_sizes)\n",
    "        for i in range(num_layers):\n",
    "            print (self.state_sizes[i])\n",
    "            last_state = self.get_layer(self.cell_type, self.state_sizes[i], return_sequences= i < num_layers - 1)\n",
    "            all_state = self.get_layer(self.cell_type, self.state_sizes[i], return_sequences= True)(h)\n",
    "            h = last_state(h)\n",
    "            \n",
    "        attention_layer = MyStandardAttention(output_length=50)\n",
    "        last_state = last_state.output\n",
    "        context, attention_weight = attention_layer(all_state, last_state) \n",
    "        h = tf.concat([h, context], axis=1)\n",
    "        h = tf.keras.layers.Dense(dm.num_classes, activation='softmax')(h)\n",
    "        self.model = tf.keras.Model(inputs=x, outputs=h)\n",
    "        \n",
    "    def compile_model(self, *args, **kwargs):\n",
    "        self.model.compile(*args, **kwargs)\n",
    "    \n",
    "    def fit(self, *args, **kwargs):\n",
    "        return self.model.fit(*args, **kwargs)\n",
    "    \n",
    "    def evaluate(self, *args, **kwargs):\n",
    "        self.model.evaluate(*args, **kwargs)       \n"
   ]
  },
  {
   "cell_type": "markdown",
   "metadata": {
    "tags": []
   },
   "source": [
    "#### <span style=\"color:red\">**Question 4.4.3.**</span> \n",
    "\n",
    "**Choose a common setting for standard RNN and RNN with standard attention and conduct experiments to compare them. A setting here means `cell_type`, `network_type`, and list of `state sizes`**.\n",
    "\n",
    "<div style=\"text-align: right\"><span style=\"color:red\">[2 points]</span></div>"
   ]
  },
  {
   "cell_type": "markdown",
   "metadata": {},
   "source": [
    "The RNN with standard attention seems to perform better than the standard RNN with a higher validation accuracy of 0.9699. This is most likely due to the attention mechanism applied above which allows our model to focus on the most relevant items."
   ]
  },
  {
   "cell_type": "code",
   "execution_count": 71,
   "metadata": {},
   "outputs": [
    {
     "name": "stderr",
     "output_type": "stream",
     "text": [
      "C:\\Users\\manut\\AppData\\Local\\Temp\\ipykernel_13616\\1169351171.py:23: DeprecationWarning: Call to deprecated `word_vec` (Use get_vector instead).\n",
      "  self.embed_matrix[idx] = self.word2vect.word_vec(word) # assign weight for the corresponding word and index\n"
     ]
    },
    {
     "name": "stdout",
     "output_type": "stream",
     "text": [
      "64\n",
      "128\n",
      "Epoch 1/10\n",
      "19/19 [==============================] - 25s 996ms/step - loss: 0.7228 - accuracy: 0.7677 - val_loss: 0.3037 - val_accuracy: 0.8963\n",
      "Epoch 2/10\n",
      "19/19 [==============================] - 18s 930ms/step - loss: 0.1374 - accuracy: 0.9592 - val_loss: 0.1721 - val_accuracy: 0.9465\n",
      "Epoch 3/10\n",
      "19/19 [==============================] - 15s 807ms/step - loss: 0.0398 - accuracy: 0.9908 - val_loss: 0.1529 - val_accuracy: 0.9632\n",
      "Epoch 4/10\n",
      "19/19 [==============================] - 15s 817ms/step - loss: 0.0217 - accuracy: 0.9958 - val_loss: 0.1060 - val_accuracy: 0.9699\n",
      "Epoch 5/10\n",
      "19/19 [==============================] - 16s 826ms/step - loss: 0.0035 - accuracy: 1.0000 - val_loss: 0.0967 - val_accuracy: 0.9732\n",
      "Epoch 6/10\n",
      "19/19 [==============================] - 16s 823ms/step - loss: 0.0176 - accuracy: 0.9925 - val_loss: 0.0982 - val_accuracy: 0.9666\n",
      "Epoch 7/10\n",
      "19/19 [==============================] - 16s 822ms/step - loss: 8.2386e-04 - accuracy: 1.0000 - val_loss: 0.0946 - val_accuracy: 0.9632\n",
      "Epoch 8/10\n",
      "19/19 [==============================] - 17s 872ms/step - loss: 3.3413e-04 - accuracy: 1.0000 - val_loss: 0.0922 - val_accuracy: 0.9666\n",
      "Epoch 9/10\n",
      "19/19 [==============================] - 17s 879ms/step - loss: 1.5216e-04 - accuracy: 1.0000 - val_loss: 0.0930 - val_accuracy: 0.9699\n",
      "Epoch 10/10\n",
      "19/19 [==============================] - 18s 928ms/step - loss: 6.2889e-05 - accuracy: 1.0000 - val_loss: 0.0958 - val_accuracy: 0.9699\n"
     ]
    },
    {
     "data": {
      "text/plain": [
       "<keras.callbacks.History at 0x2b5d673fa60>"
      ]
     },
     "execution_count": 71,
     "metadata": {},
     "output_type": "execute_result"
    }
   ],
   "source": [
    "#Your trial here\n",
    "attention_rnn = StandardAttention_RNN(run_mode='init-fine-tuned', cell_type='simple-rnn', network_type='bidirectional',\n",
    "                                    embed_model='glove-wiki-gigaword-100', embed_size=128, state_sizes=[64, 128],\n",
    "                                    data_manager=dm)\n",
    "attention_rnn.build()\n",
    "opt = tf.keras.optimizers.RMSprop(learning_rate=0.001)\n",
    "attention_rnn.compile_model(optimizer=opt, loss='sparse_categorical_crossentropy', metrics=['accuracy'])\n",
    "attention_rnn.fit(dm.tf_train_set.batch(64), epochs=10, validation_data = dm.tf_valid_set.batch(64))"
   ]
  },
  {
   "cell_type": "code",
   "execution_count": 69,
   "metadata": {},
   "outputs": [
    {
     "name": "stderr",
     "output_type": "stream",
     "text": [
      "C:\\Users\\manut\\AppData\\Local\\Temp\\ipykernel_13616\\3900811933.py:23: DeprecationWarning: Call to deprecated `word_vec` (Use get_vector instead).\n",
      "  self.embed_matrix[idx] = self.word2vect.word_vec(word) # assign weight for the corresponding word and index\n"
     ]
    },
    {
     "name": "stdout",
     "output_type": "stream",
     "text": [
      "Epoch 1/10\n",
      "19/19 [==============================] - 12s 486ms/step - loss: 0.7300 - accuracy: 0.7760 - val_loss: 0.3113 - val_accuracy: 0.9064\n",
      "Epoch 2/10\n",
      "19/19 [==============================] - 9s 466ms/step - loss: 0.1329 - accuracy: 0.9759 - val_loss: 0.3164 - val_accuracy: 0.9064\n",
      "Epoch 3/10\n",
      "19/19 [==============================] - 10s 545ms/step - loss: 0.0395 - accuracy: 0.9992 - val_loss: 0.1829 - val_accuracy: 0.9465\n",
      "Epoch 4/10\n",
      "19/19 [==============================] - 10s 542ms/step - loss: 0.0389 - accuracy: 0.9883 - val_loss: 0.1223 - val_accuracy: 0.9666\n",
      "Epoch 5/10\n",
      "19/19 [==============================] - 10s 527ms/step - loss: 0.0053 - accuracy: 1.0000 - val_loss: 0.1021 - val_accuracy: 0.9599\n",
      "Epoch 6/10\n",
      "19/19 [==============================] - 10s 520ms/step - loss: 0.0019 - accuracy: 1.0000 - val_loss: 0.0969 - val_accuracy: 0.9599\n",
      "Epoch 7/10\n",
      "19/19 [==============================] - 11s 555ms/step - loss: 7.5140e-04 - accuracy: 1.0000 - val_loss: 0.0955 - val_accuracy: 0.9599\n",
      "Epoch 8/10\n",
      "19/19 [==============================] - 11s 596ms/step - loss: 2.8476e-04 - accuracy: 1.0000 - val_loss: 0.0967 - val_accuracy: 0.9632\n",
      "Epoch 9/10\n",
      "19/19 [==============================] - 10s 538ms/step - loss: 1.0467e-04 - accuracy: 1.0000 - val_loss: 0.0996 - val_accuracy: 0.9666\n",
      "Epoch 10/10\n",
      "19/19 [==============================] - 11s 554ms/step - loss: 3.8479e-05 - accuracy: 1.0000 - val_loss: 0.1036 - val_accuracy: 0.9666\n"
     ]
    },
    {
     "data": {
      "text/plain": [
       "<keras.callbacks.History at 0x2b6452dd510>"
      ]
     },
     "execution_count": 69,
     "metadata": {},
     "output_type": "execute_result"
    }
   ],
   "source": [
    "best_rnn = RNN(run_mode='init-fine-tuned', cell_type='simple-rnn', network_type='bidirectional',\n",
    "                                    embed_model='glove-wiki-gigaword-100', embed_size=128, state_sizes=[64, 128],\n",
    "                                    data_manager=dm)\n",
    "best_rnn.build()\n",
    "opt = tf.keras.optimizers.RMSprop(learning_rate=0.001)\n",
    "best_rnn.compile_model(optimizer=opt, loss='sparse_categorical_crossentropy', metrics=['accuracy'])\n",
    "best_rnn.fit(dm.tf_train_set.batch(64), epochs=10, validation_data = dm.tf_valid_set.batch(64))"
   ]
  },
  {
   "cell_type": "markdown",
   "metadata": {},
   "source": [
    "### <span style=\"color:#0b486b\">4.5. RNN with Self-Attention for Text and Sequence Classification</span> ###\n",
    "\n",
    "**In what follows, you are required to implement a RNN with the attention machenism for text and sequence classification. This attention mechanism is applied at the last hidden layer of our RNN. Specifically, let $h_1, h_2,...,h_{L-1}, h_L$ be the hidden states at the last hidden layer where $L$ is the sequence length.**\n",
    "\n",
    "**You need to implement the self-attention (SA) mechanism as in this paper [link](https://proceedings.neurips.cc/paper/2017/file/3f5ee243547dee91fbd053c1c4a845aa-Paper.pdf) and this useful blog [link](https://jalammar.github.io/illustrated-transformer/) to work out the new hidden states $h_1, h_2,...,h_{L-1}, h_L$. Finally, you need take average of them $\\bar{h}=\\frac{h_{1}+...+h_{L}}{L}$ and rely on $\\bar{h}$ to conduct the output layer for making predictions.**\n",
    "\n",
    "\n",
    "<div style=\"text-align: right\"><span style=\"color:red; font-weight:bold\">[Total marks for this part: 10 points]<span></div>"
   ]
  },
  {
   "cell_type": "markdown",
   "metadata": {},
   "source": [
    "#### <span style=\"color:red\">**Question 4.5.1.**</span>\n",
    "\n",
    "**We declare the  layer `MySelfAttention` as a class inherited from `tf.keras.layers.Layer` to realize our attention mechanism. You are required to provide the code for this class. Note that in the `def call(self, all_states, last_state)` method, `all_states` is the collection of all hidden states and `last_state` is the last hidden state.**\n",
    "\n",
    "**Please note that in the class `MySelfAttention`, `key_dim` is the parameter $d_k$ and `value_dim` is  the parameter $d_v$ in the main paper** \n",
    "\n",
    "\n",
    "<div style=\"text-align: right\"><span style=\"color:red\">[4 points]</span></div>"
   ]
  },
  {
   "cell_type": "code",
   "execution_count": 72,
   "metadata": {},
   "outputs": [],
   "source": [
    "class MySelfAttention(tf.keras.layers.Layer):\n",
    "    #key_dim is dk and value_dim is dv in the main paper\n",
    "    def __init__(self, key_dim = 128, value_dim = 64):\n",
    "        super(MySelfAttention, self).__init__()\n",
    "        self.key_dim = key_dim\n",
    "        self.value_dim = value_dim\n",
    "        #Inser your code here\n",
    "        self.W_query = tf.keras.layers.Dense(key_dim)\n",
    "        self.W_keys = tf.keras.layers.Dense(key_dim)\n",
    "        self.W_values = tf.keras.layers.Dense(value_dim)\n",
    "        self.W_output = tf.keras.layers.Dense(value_dim)\n",
    "    \n",
    "    #all_states is the collection of all hidden states and last_state is the last hidden state\n",
    "    def call(self, all_states, last_state):\n",
    "        # Calculate query, key, and value projections for all_states\n",
    "        query = self.W_query(last_state)\n",
    "        keys = self.W_keys(all_states)\n",
    "        values = self.W_values(all_states)\n",
    "\n",
    "        # Calculate scaled dot-product attention scores\n",
    "        numerator = tf.matmul(query, keys, transpose_b=True)\n",
    "        denominator = tf.math.sqrt(tf.cast(self.key_dim, dtype=tf.float32))\n",
    "        packed_attention = numerator / denominator \n",
    "\n",
    "        # Apply softmax to get attention weights\n",
    "        attention_weights = tf.nn.softmax(packed_attention, axis=-1)\n",
    "\n",
    "        # Calculate the weighted sum of values using attention weights\n",
    "        context = tf.matmul(attention_weights, values)\n",
    "\n",
    "        # Apply an additional linear transformation to obtain the final output\n",
    "        output = self.W_output(context)\n",
    "\n",
    "        return output\n",
    "        \n",
    "        "
   ]
  },
  {
   "cell_type": "markdown",
   "metadata": {},
   "source": [
    "#### <span style=\"color:red\">**Question 4.5.2**</span> \n",
    "\n",
    "**You are required to extend the class `RNN` in Section `4.3.1` to achieve the class `SelfAttention_RNN` in which the attention mechanism mentioned above is applied at the last hidden layer.**\n",
    "\n",
    "<div style=\"text-align: right\"><span style=\"color:red\">[4 points]</span></div>"
   ]
  },
  {
   "cell_type": "code",
   "execution_count": 73,
   "metadata": {},
   "outputs": [],
   "source": [
    "class SelfAttention_RNN:\n",
    "    def __init__(self, run_mode = 'scratch', cell_type= 'gru', network_type = 'uni-directional', embed_model= 'glove-wiki-gigaword-100', \n",
    "                 embed_size= 128, state_sizes = [64, 64], data_manager = None):\n",
    "        self.run_mode = run_mode\n",
    "        self.data_manager = data_manager\n",
    "        self.cell_type = cell_type\n",
    "        self.network_type = network_type\n",
    "        self.state_sizes = state_sizes\n",
    "        self.embed_model = embed_model\n",
    "        self.embed_size = embed_size\n",
    "        if self.run_mode != 'scratch':\n",
    "            self.embed_size = int(self.embed_model.split(\"-\")[-1])\n",
    "        self.data_manager = data_manager\n",
    "        self.vocab_size = dm.vocab_size +1\n",
    "        self.word2idx = dm.word2idx\n",
    "        self.word2vect = None\n",
    "        self.embed_matrix = np.zeros(shape= [self.vocab_size, self.embed_size])\n",
    "    \n",
    "    def build_embedding_matrix(self):\n",
    "        self.word2vect = api.load(self.embed_model) # load embedding model\n",
    "        for word, idx in self.word2idx.items():\n",
    "            try:\n",
    "                self.embed_matrix[idx] = self.word2vect.word_vec(word) # assign weight for the corresponding word and index\n",
    "            except KeyError: # word cannot be found\n",
    "                pass\n",
    "            \n",
    "    @staticmethod\n",
    "    def get_layer(cell_type= 'gru', network_type= 'uni-directional', hidden_size= 128, return_sequences= False, activation = 'tanh'):\n",
    "        #Insert your code here\n",
    "        if cell_type == 'gru':\n",
    "            a = tf.keras.layers.GRU(hidden_size, return_sequences=return_sequences, activation=activation)\n",
    "        elif cell_type == 'lstm':\n",
    "            a = tf.keras.layers.LSTM(hidden_size, return_sequences=return_sequences, activation=activation)\n",
    "        else:\n",
    "            a = tf.keras.layers.SimpleRNN(hidden_size, return_sequences=return_sequences, activation=activation)\n",
    "            \n",
    "        #check if bidirectional or unidirectional\n",
    "        if network_type == 'uni-directional':\n",
    "            return a\n",
    "        else:\n",
    "            return tf.keras.layers.Bidirectional(a, merge_mode='concat')  \n",
    "    \n",
    "    def build(self):\n",
    "        #Insert your code here\n",
    "        x = tf.keras.layers.Input(shape=[None])\n",
    "        if self.run_mode == \"scratch\":\n",
    "            h = tf.keras.layers.Embedding(self.vocab_size, self.embed_size, mask_zero=True, trainable=True)(x)\n",
    "        elif self.run_mode == \"init-only\":\n",
    "            self.build_embedding_matrix()\n",
    "            h = tf.keras.layers.Embedding(self.vocab_size, self.embed_size, mask_zero=True, trainable=False,\n",
    "                                                        weights=[self.embed_matrix])(x)            \n",
    "        else: # fine-tuned\n",
    "            self.build_embedding_matrix()\n",
    "            h = tf.keras.layers.Embedding(self.vocab_size, self.embed_size, mask_zero=True, trainable=True,\n",
    "                                                        weights=[self.embed_matrix])(x)\n",
    "        num_layers = len(self.state_sizes)\n",
    "        for i in range(num_layers):\n",
    "            print (self.state_sizes[i])\n",
    "            last_state = self.get_layer(self.cell_type, self.state_sizes[i], return_sequences= i < num_layers - 1)\n",
    "            all_state = self.get_layer(self.cell_type, self.state_sizes[i], return_sequences= True)(h)\n",
    "            h = last_state(h)\n",
    "            \n",
    "        attention_layer = MySelfAttention()\n",
    "        last_state = last_state.output\n",
    "        output = attention_layer(all_state, last_state) \n",
    "        h = tf.keras.layers.Dense(dm.num_classes, activation='softmax')(h)\n",
    "        self.model = tf.keras.Model(inputs=x, outputs=h)\n",
    "        \n",
    "    def compile_model(self, *args, **kwargs):\n",
    "        self.model.compile(*args, **kwargs)\n",
    "    \n",
    "    def fit(self, *args, **kwargs):\n",
    "        return self.model.fit(*args, **kwargs)\n",
    "    \n",
    "    def evaluate(self, *args, **kwargs):\n",
    "        self.model.evaluate(*args, **kwargs)    "
   ]
  },
  {
   "cell_type": "markdown",
   "metadata": {},
   "source": [
    "#### <span style=\"color:red\">**Question 4.5.3.**</span> \n",
    "\n",
    "**Choose a common setting for standard RNN and RNN with self attention and conduct experiments to compare them. A setting here means `cell_type`, `network_type`, and list of `state sizes`**.\n",
    "\n",
    "<div style=\"text-align: right\"><span style=\"color:red\">[2 points]</span></div>"
   ]
  },
  {
   "cell_type": "markdown",
   "metadata": {},
   "source": [
    "The model with self attention again performs better than the standard RNN with an accuracy of 0.9666"
   ]
  },
  {
   "cell_type": "code",
   "execution_count": 76,
   "metadata": {},
   "outputs": [
    {
     "name": "stderr",
     "output_type": "stream",
     "text": [
      "C:\\Users\\manut\\AppData\\Local\\Temp\\ipykernel_13616\\1178926975.py:23: DeprecationWarning: Call to deprecated `word_vec` (Use get_vector instead).\n",
      "  self.embed_matrix[idx] = self.word2vect.word_vec(word) # assign weight for the corresponding word and index\n"
     ]
    },
    {
     "name": "stdout",
     "output_type": "stream",
     "text": [
      "64\n",
      "128\n",
      "Epoch 1/10\n",
      "19/19 [==============================] - 15s 577ms/step - loss: 0.6803 - accuracy: 0.7769 - val_loss: 0.2619 - val_accuracy: 0.9331\n",
      "Epoch 2/10\n",
      "19/19 [==============================] - 11s 563ms/step - loss: 0.1220 - accuracy: 0.9784 - val_loss: 0.1748 - val_accuracy: 0.9532\n",
      "Epoch 3/10\n",
      "19/19 [==============================] - 10s 551ms/step - loss: 0.0380 - accuracy: 0.9958 - val_loss: 0.2277 - val_accuracy: 0.9431\n",
      "Epoch 4/10\n",
      "19/19 [==============================] - 11s 553ms/step - loss: 0.0352 - accuracy: 0.9925 - val_loss: 0.1254 - val_accuracy: 0.9632\n",
      "Epoch 5/10\n",
      "19/19 [==============================] - 11s 577ms/step - loss: 0.0058 - accuracy: 1.0000 - val_loss: 0.1205 - val_accuracy: 0.9666\n",
      "Epoch 6/10\n",
      "19/19 [==============================] - 12s 620ms/step - loss: 0.0020 - accuracy: 1.0000 - val_loss: 0.1228 - val_accuracy: 0.9666\n",
      "Epoch 7/10\n",
      "19/19 [==============================] - 11s 595ms/step - loss: 7.1681e-04 - accuracy: 1.0000 - val_loss: 0.1264 - val_accuracy: 0.9666\n",
      "Epoch 8/10\n",
      "19/19 [==============================] - 10s 550ms/step - loss: 2.7265e-04 - accuracy: 1.0000 - val_loss: 0.1279 - val_accuracy: 0.9666\n",
      "Epoch 9/10\n",
      "19/19 [==============================] - 11s 558ms/step - loss: 1.0050e-04 - accuracy: 1.0000 - val_loss: 0.1361 - val_accuracy: 0.9666\n",
      "Epoch 10/10\n",
      "19/19 [==============================] - 10s 518ms/step - loss: 3.6990e-05 - accuracy: 1.0000 - val_loss: 0.1442 - val_accuracy: 0.9666\n"
     ]
    },
    {
     "data": {
      "text/plain": [
       "<keras.callbacks.History at 0x2b654883490>"
      ]
     },
     "execution_count": 76,
     "metadata": {},
     "output_type": "execute_result"
    }
   ],
   "source": [
    "#Your trial here\n",
    "self_attention_rnn = SelfAttention_RNN(run_mode='init-fine-tuned', cell_type='simple-rnn', network_type='bidirectional',\n",
    "                                    embed_model='glove-wiki-gigaword-100', embed_size=128, state_sizes=[64, 128],\n",
    "                                    data_manager=dm)\n",
    "self_attention_rnn.build()\n",
    "opt = tf.keras.optimizers.RMSprop(learning_rate=0.001)\n",
    "self_attention_rnn.compile_model(optimizer=opt, loss='sparse_categorical_crossentropy', metrics=['accuracy'])\n",
    "self_attention_rnn.fit(dm.tf_train_set.batch(64), epochs=10, validation_data = dm.tf_valid_set.batch(64))"
   ]
  },
  {
   "cell_type": "code",
   "execution_count": 77,
   "metadata": {},
   "outputs": [
    {
     "name": "stderr",
     "output_type": "stream",
     "text": [
      "C:\\Users\\manut\\AppData\\Local\\Temp\\ipykernel_13616\\3900811933.py:23: DeprecationWarning: Call to deprecated `word_vec` (Use get_vector instead).\n",
      "  self.embed_matrix[idx] = self.word2vect.word_vec(word) # assign weight for the corresponding word and index\n"
     ]
    },
    {
     "name": "stdout",
     "output_type": "stream",
     "text": [
      "Epoch 1/10\n",
      "19/19 [==============================] - 14s 588ms/step - loss: 0.7145 - accuracy: 0.7594 - val_loss: 0.3505 - val_accuracy: 0.8963\n",
      "Epoch 2/10\n",
      "19/19 [==============================] - 10s 542ms/step - loss: 0.1307 - accuracy: 0.9709 - val_loss: 0.2205 - val_accuracy: 0.9398\n",
      "Epoch 3/10\n",
      "19/19 [==============================] - 11s 564ms/step - loss: 0.0411 - accuracy: 0.9958 - val_loss: 0.2554 - val_accuracy: 0.9331\n",
      "Epoch 4/10\n",
      "19/19 [==============================] - 10s 549ms/step - loss: 0.0422 - accuracy: 0.9892 - val_loss: 0.1353 - val_accuracy: 0.9565\n",
      "Epoch 5/10\n",
      "19/19 [==============================] - 10s 539ms/step - loss: 0.0059 - accuracy: 1.0000 - val_loss: 0.1429 - val_accuracy: 0.9565\n",
      "Epoch 6/10\n",
      "19/19 [==============================] - 11s 560ms/step - loss: 0.0019 - accuracy: 1.0000 - val_loss: 0.1401 - val_accuracy: 0.9565\n",
      "Epoch 7/10\n",
      "19/19 [==============================] - 11s 581ms/step - loss: 7.4374e-04 - accuracy: 1.0000 - val_loss: 0.1445 - val_accuracy: 0.9599\n",
      "Epoch 8/10\n",
      "19/19 [==============================] - 10s 535ms/step - loss: 2.8048e-04 - accuracy: 1.0000 - val_loss: 0.1505 - val_accuracy: 0.9599\n",
      "Epoch 9/10\n",
      "19/19 [==============================] - 11s 565ms/step - loss: 1.0244e-04 - accuracy: 1.0000 - val_loss: 0.1576 - val_accuracy: 0.9599\n",
      "Epoch 10/10\n",
      "19/19 [==============================] - 11s 563ms/step - loss: 3.7332e-05 - accuracy: 1.0000 - val_loss: 0.1657 - val_accuracy: 0.9632\n"
     ]
    },
    {
     "data": {
      "text/plain": [
       "<keras.callbacks.History at 0x2b68446eb60>"
      ]
     },
     "execution_count": 77,
     "metadata": {},
     "output_type": "execute_result"
    }
   ],
   "source": [
    "best_rnn = RNN(run_mode='init-fine-tuned', cell_type='simple-rnn', network_type='bidirectional',\n",
    "                                    embed_model='glove-wiki-gigaword-100', embed_size=128, state_sizes=[64, 128],\n",
    "                                    data_manager=dm)\n",
    "best_rnn.build()\n",
    "opt = tf.keras.optimizers.RMSprop(learning_rate=0.001)\n",
    "best_rnn.compile_model(optimizer=opt, loss='sparse_categorical_crossentropy', metrics=['accuracy'])\n",
    "best_rnn.fit(dm.tf_train_set.batch(64), epochs=10, validation_data = dm.tf_valid_set.batch(64))"
   ]
  },
  {
   "cell_type": "markdown",
   "metadata": {},
   "source": [
    "### <span style=\"color:#0b486b\">4.6. Investigating the embedding vectors from the embedding matrix</span> ###\n",
    "\n",
    "<div style=\"text-align: right\"><span style=\"color:red; font-weight:bold\">[Total marks for this part: 10 points]<span></div>"
   ]
  },
  {
   "cell_type": "markdown",
   "metadata": {},
   "source": [
    "**As you know, the embedding matrix is a collection of embedding vectors, each is for one word. In this part, you will base on the cosine similarity of the embedding vectors for the words to find the top-k most relevant words for a given word.**\n",
    "\n",
    "**Good embeddings should have words close in meaning near each other by some similarity metrics. The similarity metric we'll use is the `consine` similarity, which is defined for two vector $\\mathbf{u}$ and $\\mathbf{v}$ as $\\cos(\\mathbf{u}, \\mathbf{v})=\\frac{\\mathbf{u} \\cdot \\mathbf{v}}{\\left\\Vert{\\mathbf{u}}\\right\\Vert\\left\\Vert{\\mathbf{v}}\\right\\Vert}$ where $\\cdot$ means dot product and $\\left\\Vert\\cdot\\right\\Vert$ means the $\\mathcal{L}_2$ norm.**"
   ]
  },
  {
   "cell_type": "code",
   "execution_count": 78,
   "metadata": {},
   "outputs": [],
   "source": [
    "def cosine_similarity(u,v):\n",
    "    return np.dot(u,v)/(np.linalg.norm(u)*np.linalg.norm(v))"
   ]
  },
  {
   "cell_type": "markdown",
   "metadata": {},
   "source": [
    "#### <span style=\"color:red\">**Question 4.6.1**</span> \n",
    "\n",
    "**You are required to write the code for the function `find_most_similar(word= None, k=5, model= None)`. As its name, this function returns the `top-k most relevant word` for a given word based on the cosine similarity of the embedding vectors.**\n",
    "\n",
    "<div style=\"text-align: right\"><span style=\"color:red\">[5 points]</span></div>"
   ]
  },
  {
   "cell_type": "code",
   "execution_count": 79,
   "metadata": {},
   "outputs": [],
   "source": [
    "def find_most_similar(word= None, k=5, model= None):\n",
    "    try:\n",
    "        # Insert your code here\n",
    "        # Utilises the inbuilt word2vect function after consulting Trung in the forum. \n",
    "        word_vectors = model.word2vect\n",
    "        return word_vectors.similar_by_word(word,k)\n",
    "    except: #word not in the vocabulary\n",
    "        print(\"Word is not in the dictionary!\")"
   ]
  },
  {
   "cell_type": "markdown",
   "metadata": {},
   "source": [
    "Here is the example of the above function. As you can observe, the result makes sense which demonstrates that we obtain a good model with the meaningful embedding matrix."
   ]
  },
  {
   "cell_type": "code",
   "execution_count": 80,
   "metadata": {},
   "outputs": [
    {
     "data": {
      "text/plain": [
       "[('hungary', 0.7997257709503174),\n",
       " ('lithuania', 0.7970392107963562),\n",
       " ('slovakia', 0.7912641167640686),\n",
       " ('bulgaria', 0.7554060816764832),\n",
       " ('germany', 0.755242109298706),\n",
       " ('romania', 0.7494609355926514),\n",
       " ('warsaw', 0.7206851840019226),\n",
       " ('latvia', 0.7173702120780945),\n",
       " ('czech', 0.7154168486595154),\n",
       " ('polish', 0.6944575905799866)]"
      ]
     },
     "execution_count": 80,
     "metadata": {},
     "output_type": "execute_result"
    }
   ],
   "source": [
    "find_most_similar(word='poland', k=10, model= self_attention_rnn)"
   ]
  },
  {
   "cell_type": "markdown",
   "metadata": {},
   "source": [
    "#### <span style=\"color:red\">**Question 4.6.2**</span> \n",
    "​\n",
    "**You are required to write the code for the function `plot3D_with_labels(word= None, model= None, k= 10)`. As its name, this function visualizes the `top-k most relevant word` for a given word based on the cosine similarity of the embedding vectors by using tSNE to project the embedding vectors to a 3D space.**\n",
    "​\n",
    "\n",
    "<img src=\"./images/3D_plots.png\" align=\"center\" width=600/>\n",
    "<div style=\"text-align: right\"><span style=\"color:red\">[5 points]</span></div>"
   ]
  },
  {
   "cell_type": "code",
   "execution_count": 81,
   "metadata": {},
   "outputs": [],
   "source": [
    "from mpl_toolkits.mplot3d import Axes3D\n",
    "from sklearn.manifold import TSNE\n",
    "tsne = TSNE(perplexity=30, n_components=3, init='pca', n_iter=5000)\n",
    "\n",
    "def plot3D_with_labels(word= None, model= None, k= 10):\n",
    "    tsne = TSNE(perplexity=5, n_components=3, init='pca', n_iter=5000)\n",
    "    data = find_most_similar(word=word, k=k, model= model)\n",
    "    words = [item[0] for item in data]\n",
    "    words.append(word)\n",
    "    embeddings= np.array([model.word2vect.get_vector(word) for word in words])\n",
    "    low_dim_embs = tsne.fit_transform(embeddings)\n",
    "    \n",
    "    fig = plt.figure(figsize=(20, 20))\n",
    "    ax = fig.add_subplot(111, projection='3d')\n",
    "    for i, label in enumerate(words):\n",
    "        x,y,z =  low_dim_embs[i,:]\n",
    "        ax.scatter(x, y, z)\n",
    "        ax.text(x, y, z, label)\n",
    "    ax.set_xlabel('dim-one')\n",
    "    ax.set_ylabel('dim-two')\n",
    "    ax.set_zlabel('dim-three')\n",
    "    plt.show()\n"
   ]
  },
  {
   "cell_type": "code",
   "execution_count": 82,
   "metadata": {},
   "outputs": [
    {
     "data": {
      "image/png": "[encoded data removed]",
      "text/plain": [
       "<Figure size 2000x2000 with 1 Axes>"
      ]
     },
     "metadata": {},
     "output_type": "display_data"
    }
   ],
   "source": [
    "plot3D_with_labels(word='poland', k=20, model= self_attention_rnn)"
   ]
  },
  {
   "cell_type": "markdown",
   "metadata": {},
   "source": [
    "--- \n",
    "<div style=\"text-align: center\"> <span style=\"color:green\">GOOD LUCK WITH YOUR ASSIGNMENT 2!</span> </div>\n",
    "<div style=\"text-align: center\"> <span style=\"color:black\">END OF ASSIGNMENT</span> </div>"
   ]
  }
 ],
 "metadata": {
  "kernelspec": {
   "display_name": "Python 3 (ipykernel)",
   "language": "python",
   "name": "python3"
  },
  "language_info": {
   "codemirror_mode": {
    "name": "ipython",
    "version": 3
   },
   "file_extension": ".py",
   "mimetype": "text/x-python",
   "name": "python",
   "nbconvert_exporter": "python",
   "pygments_lexer": "ipython3",
   "version": "3.10.12"
  }
 },
 "nbformat": 4,
 "nbformat_minor": 4
}
